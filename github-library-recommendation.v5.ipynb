{
 "cells": [
  {
   "cell_type": "markdown",
   "metadata": {},
   "source": [
    "."
   ]
  },
  {
   "cell_type": "markdown",
   "metadata": {},
   "source": [
    "<span style=\"color: #8B008B; font-weight: bold; font-family: Arial; font-size: 3em;\">Sistema de recomendación de librerías Python</span>"
   ]
  },
  {
   "cell_type": "markdown",
   "metadata": {},
   "source": [
    " <span style=\"color:#4B0082; font-family: Arial; font-size: 2em;\">José Pérez Yázquez</span>"
   ]
  },
  {
   "cell_type": "markdown",
   "metadata": {},
   "source": [
    " <span style=\"color:#4B0082; font-family: Arial; font-size: 1.5em;\">Octubre de 2017</span>"
   ]
  },
  {
   "cell_type": "markdown",
   "metadata": {},
   "source": [
    "---"
   ]
  },
  {
   "cell_type": "markdown",
   "metadata": {},
   "source": [
    "<span style=\"color: #12297c; font-family: Arial; font-size: 3em;\">Introducción</span>"
   ]
  },
  {
   "cell_type": "markdown",
   "metadata": {},
   "source": [
    "El presente proyecto implementa una propuesta de recomendador de librerías Python, la idea es que dado un proyecto que estemos desarrollando, nos recomiende librerías que otros proyectos similares han usado. Para ello usa como \"corpus\" la BBDD por excelencia de código, **Github**, y como medida de similitud sus descripciones y las librerías que ya compartan.\n",
    "\n",
    "El proyecto consta de dos fases, en la primera de ellas obtendremos todos los metadatos de los proyectos usando la API Rest de Github y en la segunda parte, basándonos en esos metadatos construiremos el sistema de recomendación.\n",
    "\n",
    "Aunque el objetivo del proyecto es procesar proyectos **Python**, sería fácilmente extensible para que procesara proyectos implementados en otros lenguajes. Por ejemplo, si quisiéramos hacer un sistema de recomendación de librerías **R**, solo sería necesario modificar la expresión regular que busca los **import** para que buscase la instrucción **library**.\n",
    "\n",
    "\n",
    "\n",
    "        "
   ]
  },
  {
   "cell_type": "markdown",
   "metadata": {},
   "source": [
    "."
   ]
  },
  {
   "cell_type": "markdown",
   "metadata": {},
   "source": [
    "<span style=\"color: #12297c; font-family: Arial; font-size: 3em;\">Carga y procesamiento de datos</span>        "
   ]
  },
  {
   "cell_type": "markdown",
   "metadata": {},
   "source": [
    "Esta fase se divide a su vez en cuatro subfases:\n",
    " - Recopilación de la información de los proyectos\n",
    " - Clonado de los proyectos\n",
    " - Procesamiento de los proyectos clonados\n",
    " - Preprocesamiento de los datos"
   ]
  },
  {
   "cell_type": "markdown",
   "metadata": {},
   "source": [
    "# Recopilación de la información de los proyectos"
   ]
  },
  {
   "cell_type": "markdown",
   "metadata": {},
   "source": [
    "Usando la API Rest de Github descarga la información, metadatos, de todos los proyectos que cumplen una serie de criterios, estos serán los siguientes:\n",
    "  - Identificados como proyectos Python\n",
    "  - Creado entre el 1 de Enero de 2012 y el 31 de Octubre de 2017\n",
    "  - Con un mínimo de 10 estrellas\n",
    "\n",
    "Toda la información es almacenada en MongoDB concretamente en una colección llamada **projects** de una BD llamada **github**, la información almacenada es la siguiente:\n",
    " - **id**: Identificador generado por Github\n",
    " - **name**: Nombre del proyecto\n",
    " - **full_name**: Nombre ampliado del proyecto\n",
    " - **created_at**: Fecha de creación\n",
    " - **git_url**: Url al repositorio (es lo que se usa cuando se quiere clonar)\n",
    " - **description**: Descripción del proyecto\n",
    " - **language**: Lenguaje de programación del proyecto (Java, Python, Scala, etc)\n",
    " - **stars**: Número de estrellas del proyecto, nos da una medida de la *populariodad* del proyecto\n",
    " - **library**: Lista con las librerías que el proyecto usa, en principio estará vacía y se alimentará cuando se procese el proyecto\n",
    " - **readme_txt**: Almacenará el texto de los ficheros README de los proyectos.\n",
    " - **readme_language**: Indica el idioma en el que está redactado el fichero README\n",
    " - **readme_words**: Descomposición del fichero README en palabras con significado semántico, será la información base para el sistema de recomendación\n",
    " - **raw_data**: Almacena toda la información del proyecto sin procesar por si más adelante es necesario algún dato que en estos momentos no parece relevante.\n",
    " \n",
    "Además se incluirán un par de propiedades de uso interno\n",
    "\n",
    " - **library_lines**: Lineas de los ficheros **py** en los que se detectó la importación de una librería. De uso interno\n",
    " - **pipeline_status**: Algunas de las operaciones que se realizan pueden ser muy costosas en cuanto al tiempo que consumen, por ello se lleva para cada proyecto el registro del estado en el que está. \n",
    "\n",
    "Cuando se usa la API de Github sin autenticación existen una serie de límites que no podemos superar, el primero es que el número máximo de resultados que cualquier consulta puede devolver\n",
    "es de 1000, para salvar este impedimento, vamos a realizar sucesivas consultas restringiendo las llamadas a un solo día del intervalo que vamos a cubrir.\n",
    "\n",
    "Por otra parte, existe otra restricción en el uso de la API, el número de llamadas por minuto está limitado a 60, podríamos incrementar esta cantidad si las llamadas son autenticadas,\n",
    "esto es usar por ejemplo un \"client ID\" y \"secret\"  como partes de la consulta, pero vamos abordar una estrategia diferente. Se irán realizando las consultas sin atender a los límites y cuando ese límite se supere, se suspenderá el proceso durante 61 segundos y posteriormente se reanudará\n",
    "por el punto en el que iba.\n",
    "\n",
    "Si se desea consultar los límites comentados, podemos hacer una consulta, por ejemplo usando curl"
   ]
  },
  {
   "cell_type": "markdown",
   "metadata": {},
   "source": [
    "curl -i https://api.github.com/users/octocat\n",
    "\n",
    "HTTP/1.1 200 OK\n",
    "\n",
    "Date: Mon, 01 Jul 2017 17:27:06 GMT\n",
    "\n",
    "Status: 200 OK\n",
    "\n",
    "X-RateLimit-Limit: 60\n",
    "\n",
    "X-RateLimit-Remaining: 56\n",
    "\n",
    "X-RateLimit-Reset: 1372700873\n"
   ]
  },
  {
   "cell_type": "markdown",
   "metadata": {},
   "source": [
    "En la cabecera de la respuesta nos muestra los límites con el valor actual:\n",
    "\n",
    " - **X-RateLimit-Limit**       Número máximo de solicitudes que se le permite hacer por hora.\n",
    " - **X-RateLimit-Remaining**   Número de solicitudes restantes en la ventana de límite de velocidad actual.\n",
    " - **X-RateLimit-Reset**       Hora a la que se restablece la ventana de límite de velocidad actual en segundos UTC."
   ]
  },
  {
   "cell_type": "markdown",
   "metadata": {},
   "source": [
    "En primer lugar vamos a cargar las librerías necesarias para esta fase del proyecto"
   ]
  },
  {
   "cell_type": "code",
   "execution_count": 1,
   "metadata": {},
   "outputs": [],
   "source": [
    "%matplotlib inline\n",
    "import warnings\n",
    "warnings.filterwarnings('ignore')\n",
    "#import logging\n",
    "#logging.basicConfig(format='%(asctime)s : %(levelname)s : %(message)s', level=logging.ERROR)"
   ]
  },
  {
   "cell_type": "code",
   "execution_count": 2,
   "metadata": {},
   "outputs": [],
   "source": [
    "from pymongo import MongoClient\n",
    "from datetime import date, timedelta\n",
    "from time import sleep\n",
    "import sys\n",
    "import os\n",
    "import re\n",
    "import json\n",
    "import requests"
   ]
  },
  {
   "cell_type": "markdown",
   "metadata": {},
   "source": [
    "A continuación vamos a definir una serie de constantes que serán usadas en el código, de esta manera podremos cambiar facilimente alguno de estos valores.\n",
    "El significado de cada una de ellas es el siguiente:\n",
    " - **MIN_STARTS**: Número mínimo de estrellas que tiene que tener un proyecto para ser considerado\n",
    " - **START_DATE**: Fecha de inicio del intervalo, haciendo referencia a la fecha de creación del proyecto en Github\n",
    " - **END_DATE**: Fecha de fin del intervalo\n",
    " - **URL_PATTERN**: Patrón de la URL para la consulta a la API de Github, podemos ver que filtramos por lenguaje (Python), por fecha de creación (la suministraremos durante la ejecución) y por numero de estrellas (referido a la constante comentada anteriormente).\n",
    " - **ROOT_PATH**: Directorio raiz donde clonaremos los repositorios (debe existir antes de empezar a clonar los proyectos).\n",
    " - **CLONE_COMMAND**: Comando usado para clonar los repositorios\n",
    " - **LIBRARY_PATTERN**: Patrón que cumplen las líneas de código en las que se importa una librería\n",
    " - **FILE_LANGUAGE_EXTENSION**: Extensión de los ficheros para el lenguaje a procesar."
   ]
  },
  {
   "cell_type": "markdown",
   "metadata": {},
   "source": [
    "En la introducción deciamos que el sistema podrías ser extensible a otros lenguajes más allá de Python, para ello tendríamos que cambiar las dos últimas constantes a las apropiadas al lenguaje que queramos procesar, por ejemplo para **Java**, la última constante valdría **\".java\"** y para **R** valdría **\".r\"**"
   ]
  },
  {
   "cell_type": "code",
   "execution_count": 3,
   "metadata": {},
   "outputs": [],
   "source": [
    "MIN_STARTS = 10\n",
    "START_DATE = date(2017, 8, 1)\n",
    "END_DATE = date(2017, 8, 2)\n",
    "URL_PATTERN = 'https://api.github.com/search/repositories?q=language:Python+created:{0}+stars:>={1}&type=Repositories'\n",
    "\n",
    "CLONE_COMMAND = \"git clone {0} {1}\"\n",
    "ROOT_PATH = \"d:/tfm/tmp\"\n",
    "\n",
    "LIBRARY_PATTERN = '(?m)^(?:from[ ]+(\\S+)[ ]+)?import[ ]+([\\S,\\s]+)(\\n)$'\n",
    "FILE_LANGUAGE_EXTENSION = \".py\""
   ]
  },
  {
   "cell_type": "markdown",
   "metadata": {},
   "source": [
    "Como se ha comentado anteriormente, vamos a usar MongoDB como tecnología de persistencia, vamos a definir una funcion que nos devuelva una referencia a la colección de proyectos con la que estamos trabajando."
   ]
  },
  {
   "cell_type": "code",
   "execution_count": 4,
   "metadata": {},
   "outputs": [],
   "source": [
    "def get_repository_projects():\n",
    "    client = MongoClient('localhost', 27017)\n",
    "    db = client.tfm_poc\n",
    "    return db.projects"
   ]
  },
  {
   "cell_type": "markdown",
   "metadata": {},
   "source": [
    "La siguiente función es la que realmente hace las llamadas a la API, tendrá como entrada la fecha de creación de los proyectos, usará la URL que hemos definicdo como constante."
   ]
  },
  {
   "cell_type": "code",
   "execution_count": 5,
   "metadata": {},
   "outputs": [],
   "source": [
    "def get_projects_by_date(date):\n",
    "    print(\"Processing date\", date)\n",
    "    url_pattern = URL_PATTERN\n",
    "    url = url_pattern.format(date, MIN_STARTS)\n",
    "    response = requests.get(url)\n",
    "    if (response.ok):\n",
    "        response_data = json.loads(response.content.decode('utf-8'))['items']\n",
    "        for project in response_data:\n",
    "            insert_project(project)\n",
    "    else:\n",
    "        response.raise_for_status()"
   ]
  },
  {
   "cell_type": "markdown",
   "metadata": {},
   "source": [
    "A continuanción definimos otra función auxiliar, que dada la información de la respuesta de la API, seleccionamos los atributos que vamos a necesitar y los almacenamos como un documento Mongo. Adicionalmente crea las propiedades mencionadas previamente (readme_txt,library,etc.)."
   ]
  },
  {
   "cell_type": "code",
   "execution_count": 6,
   "metadata": {},
   "outputs": [],
   "source": [
    "def insert_project(github_project):\n",
    "    if repository_projects.find_one({\"id\": github_project[\"id\"]}):\n",
    "        print(\"Project {0} is already included in the repository\".format(github_project[\"name\"]))\n",
    "    else:\n",
    "        project = {\n",
    "            'id': github_project[\"id\"],\n",
    "            'name': github_project[\"name\"],\n",
    "            'full_name': github_project[\"full_name\"],\n",
    "            'created_at': github_project[\"created_at\"],\n",
    "            'git_url': github_project[\"git_url\"],\n",
    "            'description': github_project[\"description\"],\n",
    "            'language': github_project[\"language\"],\n",
    "            'stars': github_project[\"stargazers_count\"],\n",
    "            'readme_txt': \"\",\n",
    "            'readme_language': None,\n",
    "            'readme_words': [],\n",
    "            'library': [],            \n",
    "            'raw_data': github_project,\n",
    "            'pipeline_status': 'INITIAL',\n",
    "            'library_lines': [],\n",
    "        }\n",
    "        repository_projects.insert(project)"
   ]
  },
  {
   "cell_type": "markdown",
   "metadata": {},
   "source": [
    "Finalmente ejecutamos el programa que, usando las funciones anteriormente definidas, descarga la información de los proyectos y la inserta en la BBDD, podemos observar que descompone las llamadas para traer en cada una de ellas solo los proyectos de un determinado dia y que *\"gestiona\"* las restricciones que tenemos en cuanto a llamada en la ventana de tiempo actual. \n",
    "\n",
    "En primer lugar recuperamos la colección en la que vamos a insertar los proyectos."
   ]
  },
  {
   "cell_type": "code",
   "execution_count": 7,
   "metadata": {},
   "outputs": [],
   "source": [
    "repository_projects = get_repository_projects()"
   ]
  },
  {
   "cell_type": "markdown",
   "metadata": {
    "collapsed": true
   },
   "source": [
    "Cargamos los proyectos en la colección, aplicamos las técnicas descritas para salvar las restricciones que nos impone la API de Github (número de items devuelto por cada consulta y número de llamadas por minuto)."
   ]
  },
  {
   "cell_type": "code",
   "execution_count": 8,
   "metadata": {},
   "outputs": [
    {
     "name": "stdout",
     "output_type": "stream",
     "text": [
      "Processing date 2017-08-01\n",
      "Project defcon25-public is already included in the repository\n",
      "Project isf is already included in the repository\n",
      "Project Deep-Image-Matting is already included in the repository\n",
      "Project TWindbg is already included in the repository\n",
      "Project visimportance is already included in the repository\n",
      "Project vulcan is already included in the repository\n",
      "Project programmable-agents_tensorflow is already included in the repository\n",
      "Project WAF_Bypass_Helper is already included in the repository\n",
      "Project django_rest_example is already included in the repository\n",
      "Project keras-transform is already included in the repository\n",
      "Project SkySpyWatch is already included in the repository\n",
      "Project pypaperbak is already included in the repository\n",
      "Project homekit_python is already included in the repository\n",
      "Processing date 2017-08-02\n",
      "Project Imports-in-Python is already included in the repository\n",
      "Project kinetics-i3d is already included in the repository\n",
      "Project OSINT-SPY is already included in the repository\n",
      "Project cifar-10-cnn is already included in the repository\n",
      "Project neural_factorization_machine is already included in the repository\n",
      "Project attentional_factorization_machine is already included in the repository\n",
      "Project ChatGirl is already included in the repository\n",
      "Project Semantic_Segmentation is already included in the repository\n",
      "Project pytorch-fitmodule is already included in the repository\n",
      "Project trafaret is already included in the repository\n",
      "Project privacy-protocols is already included in the repository\n",
      "Project repotoddy is already included in the repository\n",
      "Project lp-diet is already included in the repository\n",
      "Project deeppavlov is already included in the repository\n",
      "Project pytest-concurrent is already included in the repository\n",
      "Project rfcat-firsttry is already included in the repository\n"
     ]
    }
   ],
   "source": [
    "for project_create_at in [START_DATE + timedelta(days=x) for x in range((END_DATE - START_DATE).days + 1)]:\n",
    "    try:\n",
    "        get_projects_by_date(project_create_at)\n",
    "    except:\n",
    "        print(\">> Reached call limit, waiting 61 seconds...\")\n",
    "        sleep(61)\n",
    "        get_projects_by_date(project_create_at)"
   ]
  },
  {
   "cell_type": "markdown",
   "metadata": {},
   "source": [
    "En este punto tendriamos cargada toda la información que necesitamos de Github."
   ]
  },
  {
   "cell_type": "markdown",
   "metadata": {},
   "source": [
    "# Clonado de los proyectos"
   ]
  },
  {
   "cell_type": "markdown",
   "metadata": {},
   "source": [
    "Para analizar las librerías que un proyecto utiliza, un camino podría ser buscar los ficheros **requirements** de cada proyecto y parsear esa información, pero dicho fichero no está presente en una gran cantidad de proyectos, por lo que se ha optado por un camino un poco más **radical**.\n",
    "\n",
    "Usando la información cargada en el paso anterior, fundamentalmente la propiedad **git_url**, vamos a clonar cada proyecto en local para posteriormente procesarlos.\n",
    "\n",
    "**NOTAS**: \n",
    "* El directorio ROOT_PATH debe existir antes de lanzar el siguiente script\n",
    "* Nos aseguramos que el directorio no existe, porque este código, dado que puede tardar bastante, lo podemos ejecutar en diferentes momentos, es decir llegado un punto se podría abortar el proceso y lanzarlo más adelante sin que se resienta por ello."
   ]
  },
  {
   "cell_type": "code",
   "execution_count": 9,
   "metadata": {},
   "outputs": [
    {
     "name": "stdout",
     "output_type": "stream",
     "text": [
      "Cloning project geetest_break ...\n",
      "Cloning project MachineLearningAction ...\n",
      "Cloning project QQ_zone ...\n",
      "Cloning project webcrawler ...\n",
      "Cloning project solving-minesweeper-by-tensorflow ...\n",
      "Cloning project parseNTFS ...\n",
      "Cloning project captcha-svm ...\n",
      "Cloning project minimal_flight_search ...\n",
      "Cloning project wx_robot_example ...\n",
      "Cloning project new-pac ...\n"
     ]
    }
   ],
   "source": [
    "os.chdir(ROOT_PATH)\n",
    "\n",
    "for project in repository_projects.find({'pipeline_status':'INITIAL'}):\n",
    "    print(\"Cloning project\", project['name'], \"...\")\n",
    "    path = ROOT_PATH + \"/\" + str(project[\"id\"])\n",
    "    if not os.path.isdir(path):\n",
    "        os.system(CLONE_COMMAND.format(project[\"git_url\"], project[\"id\"]))\n",
    "    project['pipeline_status'] = 'CLONED'\n",
    "    repository_projects.update({'_id': project['_id']}, {\"$set\": project}, upsert=False)"
   ]
  },
  {
   "cell_type": "markdown",
   "metadata": {
    "collapsed": true
   },
   "source": [
    "En este punto tendríamos clonados todos los repositorios con los que construiremos el sistema de recomendación.\n",
    "\n",
    "**NOTA**: La cantidad de datos descargados supera los 1.8Tb"
   ]
  },
  {
   "cell_type": "markdown",
   "metadata": {},
   "source": [
    "# Procesamiento de los proyectos clonados"
   ]
  },
  {
   "cell_type": "markdown",
   "metadata": {},
   "source": [
    "En esta fase, partiendo de los ficheros ya clonados en local, se identifican los ficheros README y se almacenan en la BBDD, por otra parte, se recorren línea por línea los ficheros Python y, usando expresiones regulares, se extraen las librerías que se están usando para almacenarlas también en la BBDD."
   ]
  },
  {
   "cell_type": "markdown",
   "metadata": {
    "collapsed": true
   },
   "source": [
    "Comenzamos definiendo una función que dado un fichero python (extensión **.py**), lo recorre linea por linea y, usando expresiones regulares, buscamos todas las librerias que se estén usando, de forma esquemática estas son las acciones que se llevan a cabo:\n",
    "\n",
    " - Contemplar la posibilidad de que lo devuelto por la expresión regular sea una lista de librerías (import lib1,lib2,lib), en cuyo caso descomponemos la lista en sus librerías individuales\n",
    " - Se excluyen las librerías que empiezan por \"**.**\" ya que se trata de librerías internas de los proyectos\n",
    " - Se contempla que la librería tenga un alias eliminándolo\n",
    " - Se queda solo con el paquete principal\n",
    " - Se limpian espacios en blanco\n",
    "\n",
    "Almacenamos esta lista en la propiedad **library** del proyecto en cuestión, también almacenamos la lista de líneas que declaran los imports por si en el futuro necesitamos volver a procesarlas."
   ]
  },
  {
   "cell_type": "code",
   "execution_count": 10,
   "metadata": {},
   "outputs": [],
   "source": [
    "def process_python_file(project, file_path):\n",
    "    def process_expression(item):\n",
    "        def insert(lib):\n",
    "            lib = lib.strip()\n",
    "            if '.' in lib:\n",
    "                # Solo nos quedamos con el paquete principal\n",
    "                lib = lib.split('.')[0]\n",
    "            if not lib in library:\n",
    "                library.append(lib)\n",
    "\n",
    "        if not item.startswith('.'):\n",
    "            if ',' in item:\n",
    "                [insert(lib) for lib in item.split(',')]\n",
    "            elif \" as \" in item:\n",
    "                insert(item.split(\" as \")[0])\n",
    "            else:\n",
    "                insert(item)\n",
    "\n",
    "    library = project['library']\n",
    "    library_lines = project['library_lines']\n",
    "\n",
    "    with open(file_path, 'r', encoding='utf-8') as f:\n",
    "        for line in f:\n",
    "            match = re.search(LIBRARY_PATTERN, line)\n",
    "            if match:\n",
    "                library_lines.append(line)\n",
    "                if match.group(1) != None:\n",
    "                    process_expression(match.group(1))\n",
    "                else:\n",
    "                    process_expression(match.group(2))\n",
    "\n",
    "    project['library'] = library\n",
    "    project['library_lines'] = library_lines"
   ]
  },
  {
   "cell_type": "markdown",
   "metadata": {},
   "source": [
    "Por otra parte, definimos también una función que dado un fichero **README** lo lea y almacena en la propiedad **readme_txt**"
   ]
  },
  {
   "cell_type": "code",
   "execution_count": 11,
   "metadata": {},
   "outputs": [],
   "source": [
    "def process_readme_file(project, file_path):\n",
    "    with open(file_path, 'r') as f:\n",
    "        project['readme_txt'] = f.read()"
   ]
  },
  {
   "cell_type": "markdown",
   "metadata": {},
   "source": [
    "Finalmente recorremos los repositorios no procesados, como comentabamos anteriormente este proceso permite lanzarlo reiteradas veces, para cada repositorio analizamos su fichero **README** y cada uno de los ficheros Python para extraer las librerías."
   ]
  },
  {
   "cell_type": "code",
   "execution_count": 12,
   "metadata": {},
   "outputs": [
    {
     "name": "stdout",
     "output_type": "stream",
     "text": [
      "Processing project geetest_break\n",
      "Processing project MachineLearningAction\n",
      "Processing project QQ_zone\n",
      "Processing project webcrawler\n",
      "Processing project solving-minesweeper-by-tensorflow\n",
      "Processing project parseNTFS\n",
      "Processing project captcha-svm\n",
      "Processing project minimal_flight_search\n",
      "Processing project wx_robot_example\n",
      "Processing project new-pac\n"
     ]
    }
   ],
   "source": [
    "for project in repository_projects.find({'pipeline_status':'CLONED'}):\n",
    "    try:\n",
    "        path = ROOT_PATH + \"/\" + str(project[\"id\"])\n",
    "        if os.path.isdir(path):\n",
    "            print(\"Processing project\", project[\"name\"])\n",
    "            for root, dirs, files in os.walk(path):\n",
    "                for file in files:\n",
    "                    try:\n",
    "                        if file.endswith(FILE_LANGUAGE_EXTENSION):\n",
    "                            process_python_file(project, os.path.join(root, file))\n",
    "                        else:\n",
    "                            if file.lower().startswith(\"readme.\"):\n",
    "                                process_readme_file(project, os.path.join(root, file))\n",
    "                    except:\n",
    "                        pass\n",
    "            project['pipeline_status'] = 'PROCESSED'\n",
    "            repository_projects.update({'_id': project['_id']}, {\"$set\": project}, upsert=False) \n",
    "    except:\n",
    "        print(\"Error procesing project {0} [{1}] - {2}\".format(project['id'], project['name'], sys.exc_info()[0]))"
   ]
  },
  {
   "cell_type": "markdown",
   "metadata": {},
   "source": [
    "## Detección del idioma del proyecto"
   ]
  },
  {
   "cell_type": "markdown",
   "metadata": {},
   "source": [
    "Dado que uno de los pilares del sistema de detección es el Procesamiento del Lenguaje Natural, uno de los primeros pasos es detectar el idioma en el que está redactado el fichero **README** fuente de nuestros textos. Dado que la mayoría de proyectos están redactados en Ingles, y en aras de simplificar el modelo, vamos a eliminar todos los proyectos que no estén descritos en este idioma."
   ]
  },
  {
   "cell_type": "markdown",
   "metadata": {},
   "source": [
    "Para ello vamos a usar la función **detect** de la librería **langdetect**, implementaremos un *wrapper* sobre ella que tendrá en cuenta los posibles errores así como la posibildad de que el fichero README esté vacío."
   ]
  },
  {
   "cell_type": "code",
   "execution_count": 13,
   "metadata": {},
   "outputs": [],
   "source": [
    "from langdetect import detect\n",
    "\n",
    "def detect_language(project):\n",
    "    language = None\n",
    "    try:\n",
    "        if len(project['readme_txt']):\n",
    "            language = detect(project['readme_txt'])\n",
    "    except:\n",
    "        pass\n",
    "    return (language)"
   ]
  },
  {
   "cell_type": "markdown",
   "metadata": {},
   "source": [
    "Obtenemos los proyectos que, por un motivo un otro, no estén en **Inglés**"
   ]
  },
  {
   "cell_type": "code",
   "execution_count": 14,
   "metadata": {},
   "outputs": [],
   "source": [
    "projects_not_english = [project for project in list(repository_projects.find()) if detect_language(project) != 'en']"
   ]
  },
  {
   "cell_type": "markdown",
   "metadata": {},
   "source": [
    "Comprobamos que el número de proyectos que vamos a borrar no es muy elevado con respecto al total."
   ]
  },
  {
   "cell_type": "code",
   "execution_count": 15,
   "metadata": {},
   "outputs": [
    {
     "name": "stdout",
     "output_type": "stream",
     "text": [
      "Not English proyects number  : 10\n",
      "Total number of proyects : 39\n"
     ]
    }
   ],
   "source": [
    "print(\"Not English proyects number  :\", len(projects_not_english))\n",
    "print(\"Total number of proyects :\", repository_projects.count() )"
   ]
  },
  {
   "cell_type": "markdown",
   "metadata": {},
   "source": [
    "Finalmente borramos los proyectos que no nos interesan"
   ]
  },
  {
   "cell_type": "code",
   "execution_count": 16,
   "metadata": {},
   "outputs": [],
   "source": [
    "for project in projects_not_english:\n",
    "    repository_projects.delete_one({'id': project[\"id\"]})"
   ]
  },
  {
   "cell_type": "markdown",
   "metadata": {},
   "source": [
    "Mostramos el número de proyectos que han quedado"
   ]
  },
  {
   "cell_type": "code",
   "execution_count": 17,
   "metadata": {},
   "outputs": [
    {
     "name": "stdout",
     "output_type": "stream",
     "text": [
      "Total number of proyects : 29\n"
     ]
    }
   ],
   "source": [
    "print(\"Total number of proyects :\", repository_projects.count() )"
   ]
  },
  {
   "cell_type": "markdown",
   "metadata": {},
   "source": [
    "# Procesamiento de los datos"
   ]
  },
  {
   "cell_type": "markdown",
   "metadata": {},
   "source": [
    "Una vez tenemos la base de los metadatos que vamos a usar, el siguiente paso es procesarlos de cara a tenerlos preparados para su uso directo por parte de los modelos."
   ]
  },
  {
   "cell_type": "markdown",
   "metadata": {},
   "source": [
    "## Proyectos\n",
    "\n",
    "En cuanto a lo que a los proyectos se refiere, procesamos las descripciones quedándonos con las palabras diferentes que encontramos en cada una de ellas, eliminamos puntuaciones, números y palabras irrelevantes como nombres personales y palabras comunes que no aportan significado (denominados \"stop words\"), esto evitará que se formen tópicos en torno a ellos\n",
    "\n",
    "Además, utilizamos el stemmer Snowball, también llamado Porter2 stemmer, para detectar palabras similares presentes en diferentes formatos (eliminar sufijo, prefijo, etc.). Snowball es un lenguaje desarrollado por M.F. Porter, para definir de forma eficiente stemmers. Este algoritmo de derivación es el más utilizado en el dominio del procesamiento del lenguaje natural.\n",
    "\n",
    "Para hacer el procesamiento usaremos la librería **nltk** (Natural Language Toolkit), proporciona un gran número de métodos que cubren diferentes temas en el dominio de los datos del lenguaje humano, como la clasificación, derivación, etiquetado, análisis y razonamiento semántico."
   ]
  },
  {
   "cell_type": "markdown",
   "metadata": {},
   "source": [
    "Creamos una función que dado un texto lo descompone en las palabras con significado que lo componen. Vamos a excluir los siguientes tipos de palabras:\n",
    "\n",
    "- Nombres propios\n",
    "- Palabras consideradas como \"Stop Words\"\n",
    "- Números\n",
    "\n",
    "Adicionalmente aplicamos el proceso de \"steamming\" que comentabamos anteriormente"
   ]
  },
  {
   "cell_type": "code",
   "execution_count": 18,
   "metadata": {},
   "outputs": [],
   "source": [
    "import nltk\n",
    "from nltk.tokenize import RegexpTokenizer\n",
    "from nltk.corpus import stopwords\n",
    "from nltk.stem import SnowballStemmer"
   ]
  },
  {
   "cell_type": "code",
   "execution_count": 19,
   "metadata": {},
   "outputs": [],
   "source": [
    "tokenizer = RegexpTokenizer(r'\\w+')\n",
    "stop_words = set(stopwords.words('english'))\n",
    "stemmer = SnowballStemmer(\"english\")"
   ]
  },
  {
   "cell_type": "code",
   "execution_count": 20,
   "metadata": {},
   "outputs": [],
   "source": [
    "def get_words(text):\n",
    "    def add_word(word):\n",
    "        word = word.lower()\n",
    "        if word not in stop_words and not word.replace('.', '').isdigit():\n",
    "            words.append(stemmer.stem(word))\n",
    "\n",
    "    words = []\n",
    "    for chunk in nltk.ne_chunk(nltk.pos_tag(tokenizer.tokenize(text))):\n",
    "        # nltk.word_tokenize    devuelve la lista de palabras que forman la frase (tokenización)\n",
    "        # nltk.pos_tag          devuelve el part of speech (categoría) correspondiente a la palabra introducida\n",
    "        # nltk.ne_chunk         devuelve la etiqueta correspondiente al part of speech (POC)\n",
    "        try:\n",
    "            if chunk.label() == 'PERSON':\n",
    "                # PERSON es un POC asociado a los nombres propios, los cuales no vamos a añadir\n",
    "                pass\n",
    "            else:\n",
    "                for c in chunk.leaves():\n",
    "                    add_word(c[0])\n",
    "        except AttributeError:\n",
    "            add_word(chunk[0])\n",
    "\n",
    "    return words"
   ]
  },
  {
   "cell_type": "markdown",
   "metadata": {},
   "source": [
    "\n",
    "## Librerías\n",
    "\n",
    "En cuanto a las librerías solo vamos tener en cuenta las librerías de \"**terceros**\", es decir vamos a excluir las librerías definidas en los propios proyectos y las librerías del sistema, las primeras porque obviamente no las van a tener otros proyectos y lo único que haría sería incluir ruido y las segundas, las del sistema, por ser demasiado comunes."
   ]
  },
  {
   "cell_type": "markdown",
   "metadata": {},
   "source": [
    "Para poder catalogar las librerías de terceros, vamos a usar como referencia las librerías disponibles en [PyPi](https://pypi.python.org/pypi). Realizaremos un proceso de scraping sobre su web, almacenaremos las librerías un una colección de nuestra BBDD Mongo.\n",
    "\n",
    "**NOTA**: Vamos a sustituir el caracter \"**-**\" por \"**_**\", esto se hace porque nos encontraremos casos en los que la librería se llame algo como **some-word** y la instalación se deba hacer con ese nombre **pip install some-word**, sin embargo, cuando la encontremos en el código pasará a llamarse **some_word**, es decir encontraremos algo como **import some_word**"
   ]
  },
  {
   "cell_type": "code",
   "execution_count": 21,
   "metadata": {},
   "outputs": [],
   "source": [
    "def get_repository_library():\n",
    "    client = MongoClient('localhost', 27017)\n",
    "    db = client.tfm_poc\n",
    "    return db.library"
   ]
  },
  {
   "cell_type": "code",
   "execution_count": 22,
   "metadata": {},
   "outputs": [],
   "source": [
    "repository_library = get_repository_library()"
   ]
  },
  {
   "cell_type": "code",
   "execution_count": 23,
   "metadata": {},
   "outputs": [],
   "source": [
    "def insert_library(library_name):\n",
    "    library_name = library_name.lower().replace(\"-\", \"_\")\n",
    "    if repository_library.find_one({\"name\": library_name}):\n",
    "        print(\"Library {0} is already included in the repository\".format(library_name))\n",
    "    else:\n",
    "        library = {\n",
    "            'name': library_name\n",
    "        }\n",
    "        repository_library.insert(library)"
   ]
  },
  {
   "cell_type": "code",
   "execution_count": 24,
   "metadata": {},
   "outputs": [],
   "source": [
    "#import requests\n",
    "#\n",
    "#PYPI_LIST_URL = 'https://pypi.python.org/simple/'\n",
    "#\n",
    "#content = requests.get(PYPI_LIST_URL)\n",
    "#\n",
    "#for line in content.text.split('\\n'):\n",
    "#    match = re.search(\"'>([\\w\\-\\.]+)\", line)\n",
    "#    if match:\n",
    "#        insert_library(match.group(1))"
   ]
  },
  {
   "cell_type": "markdown",
   "metadata": {},
   "source": [
    "Vamos a definir una función que filtre las librerías que no pertenezcan a la colección creada en los pasos anteriores anteriores"
   ]
  },
  {
   "cell_type": "code",
   "execution_count": 25,
   "metadata": {},
   "outputs": [],
   "source": [
    "def process_library(library):\n",
    "    library_processed = []\n",
    "    for lib in library:\n",
    "        if repository_library.find_one({\"name\": lib}):\n",
    "            library_processed.append(lib)\n",
    "    return library_processed"
   ]
  },
  {
   "cell_type": "markdown",
   "metadata": {},
   "source": [
    "A continuación recorremos los proyectos aplicándole tanto el procesamiento a los ficheros **README** como a las **librerías**."
   ]
  },
  {
   "cell_type": "code",
   "execution_count": 26,
   "metadata": {},
   "outputs": [],
   "source": [
    "for project in repository_projects.find({'pipeline_status':'PROCESSED'}):\n",
    "    try:\n",
    "        print(\"Processing\",project[\"name\"])\n",
    "        project['readme_words'] = get_words(project['readme_txt'])\n",
    "        project['library'] = process_library(project['library'])\n",
    "        project['pipeline_status'] = 'DONE'\n",
    "    \n",
    "        repository_projects.update({'_id': project['_id']}, {\"$set\": project}, upsert=False)\n",
    "    except:\n",
    "        print(\"Error procesing project {0} [{1}] - {2}\".format(project['id'], project['name'], sys.exc_info()[0]))\n",
    "        pass"
   ]
  },
  {
   "cell_type": "markdown",
   "metadata": {},
   "source": [
    "Finalmente eliminaremos de nuestro repositorio los proyectos que no tienen librerías o que no tienen ningun elemento en su lista de palabras (la descomposición de los ficheros **readme**)"
   ]
  },
  {
   "cell_type": "code",
   "execution_count": 27,
   "metadata": {},
   "outputs": [
    {
     "name": "stdout",
     "output_type": "stream",
     "text": [
      "Projects deleted: 0\n"
     ]
    }
   ],
   "source": [
    "i = 0\n",
    "for project in repository_projects.find({'pipeline_status': 'DONE'}):\n",
    "    if len(project['library']) == 0 or len(project['readme_words']) == 0:\n",
    "        i += 1\n",
    "        print(\"Deleting\",project[\"name\"])\n",
    "        repository_projects.delete_one({'id': project[\"id\"]})\n",
    "\n",
    "print(\"Projects deleted:\", i)"
   ]
  },
  {
   "cell_type": "markdown",
   "metadata": {},
   "source": [
    "."
   ]
  },
  {
   "cell_type": "markdown",
   "metadata": {},
   "source": [
    "<span style=\"color: #12297c; font-family: Arial; font-size: 3em;\">Implementación de modelos</span>"
   ]
  },
  {
   "cell_type": "markdown",
   "metadata": {},
   "source": [
    "Tras la fase anterior, tendríamos una colección MongoDB con cada uno de los proyectos de nuestro \"pre-corpus\" con la lista de librerías que cada proyecto usa, así como su descripción **\"extendida\"** extraída de su fichero **README**. Estaríamos en disposición por tanto de comenzar la implementación de nuestro recomendador.\n",
    "\n",
    "Vamos a implementar dos versiones del recomendador, una que buscará similitudes basándose en las descripciones de los proyectos y otra que se basará en las librerías que cada proyecto usa para determinar proyectos similares.\n",
    "Para la primera de las opciones se usará un modelo **LSA** (Latent Semantic Analysis) usando procesamiento de lenguaje natural, para la segunda se usará un simple **\"Count Vectorizer\"**, dado que la aproximación anterior no es adecuada para documentos con pocos términos, en nuestro caso un documento sería el listado de las librerías usadas.\n"
   ]
  },
  {
   "cell_type": "markdown",
   "metadata": {},
   "source": [
    "## Carga de los datos\n"
   ]
  },
  {
   "cell_type": "markdown",
   "metadata": {
    "collapsed": true
   },
   "source": [
    "Comenzamos importando las librerías que vamos a usar en esta fase del proyecto."
   ]
  },
  {
   "cell_type": "code",
   "execution_count": 28,
   "metadata": {},
   "outputs": [
    {
     "name": "stderr",
     "output_type": "stream",
     "text": [
      "Slow version of gensim.models.doc2vec is being used\n"
     ]
    }
   ],
   "source": [
    "import os\n",
    "import uuid\n",
    "import re\n",
    "import nltk\n",
    "import json\n",
    "import itertools\n",
    "import gensim\n",
    "import random\n",
    "import numpy as np\n",
    "import matplotlib.pyplot as plt\n",
    "from pymongo import MongoClient\n",
    "from collections import defaultdict\n",
    "from collections import OrderedDict\n",
    "from gensim import corpora, models, similarities, matutils\n",
    "from gensim.models import CoherenceModel"
   ]
  },
  {
   "cell_type": "markdown",
   "metadata": {},
   "source": [
    "Definimos una funcion para cargar los datos de los proyectos, entre los datos a cargar está el fichero **readme** y las librerías usadas, datos que serán los que usemos para calcular las similitudes entre los proyectos."
   ]
  },
  {
   "cell_type": "code",
   "execution_count": 29,
   "metadata": {},
   "outputs": [],
   "source": [
    "def load_projects(max_projects=50000):\n",
    "    def get_repository():\n",
    "        client = MongoClient('localhost', 27017)\n",
    "        db = client.tfm_data\n",
    "        return db.projects\n",
    "    projects_repository = get_repository()\n",
    "    return list(projects_repository.find({'pipeline_status':'DONE'}).limit(max_projects))"
   ]
  },
  {
   "cell_type": "markdown",
   "metadata": {},
   "source": [
    "Usando la funcíon anterior cargamos los datos, dado que el proceso es bastante pesado solo cargaremos un subconjunto de las mismas"
   ]
  },
  {
   "cell_type": "code",
   "execution_count": 30,
   "metadata": {},
   "outputs": [],
   "source": [
    "projects = load_projects(10000)"
   ]
  },
  {
   "cell_type": "code",
   "execution_count": 31,
   "metadata": {},
   "outputs": [
    {
     "data": {
      "text/plain": [
       "10000"
      ]
     },
     "execution_count": 31,
     "metadata": {},
     "output_type": "execute_result"
    }
   ],
   "source": [
    "len(projects)"
   ]
  },
  {
   "cell_type": "markdown",
   "metadata": {},
   "source": [
    "A modo de ejemplo, mostramos las primeras 5 librerías de uno de los proyectos"
   ]
  },
  {
   "cell_type": "code",
   "execution_count": 32,
   "metadata": {},
   "outputs": [
    {
     "data": {
      "text/plain": [
       "['unittest', 'logging', 'cssutils', 'glue', 'pkg_resources']"
      ]
     },
     "execution_count": 32,
     "metadata": {},
     "output_type": "execute_result"
    }
   ],
   "source": [
    "projects[0]['library'][:5]"
   ]
  },
  {
   "cell_type": "markdown",
   "metadata": {},
   "source": [
    "Creamos una función que construye una lista con todas las descripciones de todos los proyectos"
   ]
  },
  {
   "cell_type": "code",
   "execution_count": 33,
   "metadata": {},
   "outputs": [],
   "source": [
    "def get_texts_from_readme(projects):\n",
    "    texts = []\n",
    "    [texts.append(project['readme_words']) for project in projects]\n",
    "    return texts"
   ]
  },
  {
   "cell_type": "markdown",
   "metadata": {},
   "source": [
    "Ejecutamos la función que acabamos de definir, tendremos una lista de listas, en la que para cada proyecto tendremos las palabras que lo definen."
   ]
  },
  {
   "cell_type": "code",
   "execution_count": 34,
   "metadata": {},
   "outputs": [],
   "source": [
    "texts_from_readme = get_texts_from_readme(projects)"
   ]
  },
  {
   "cell_type": "markdown",
   "metadata": {},
   "source": [
    "A modo de ejemplo, mostramos las 5 primeras entradas de uno de los proyectos."
   ]
  },
  {
   "cell_type": "code",
   "execution_count": 35,
   "metadata": {},
   "outputs": [
    {
     "data": {
      "text/plain": [
       "['glue', 'imag', 'https', 'badg', 'furi']"
      ]
     },
     "execution_count": 35,
     "metadata": {},
     "output_type": "execute_result"
    }
   ],
   "source": [
    "texts_from_readme[0][:5]"
   ]
  },
  {
   "cell_type": "markdown",
   "metadata": {},
   "source": [
    "Y una parte del contenido del fichero README"
   ]
  },
  {
   "cell_type": "code",
   "execution_count": 36,
   "metadata": {},
   "outputs": [
    {
     "data": {
      "text/plain": [
       "'Glue\\n====\\n\\n.. image:: https://badge.fury.io/py/glue.png\\n    :target: http://badge.fury.io/py/glue\\n\\n.. image:: https://travis-ci.org/jorgebastida/glue.png?branch=master\\n    :target: https://travis-ci.org/jorgebastida/glue\\n\\n.. image:: https://coveralls.io/repos/jorgebastida/glue/badge.png?branch=master\\n    :target: https://coveralls.io/r/jorgebastida/glue?branch=master\\n\\n.. image:: https://pypip.in/d/glue/badge.png\\n    :target: https://crate.io/packages/glue/\\n\\n\\nGlue is a simple command line tool to generate sprites::\\n\\n    $ glue source output\\n\\n* The latest documentation is available at: http://glue.readthedocs.org\\n* Installation instructions: http://glue.readthedocs.org/en/latest/installation.html\\n* Glue-users mailing list: https://groups.google.com/forum/#!forum/glue-users\\n\\nFeatures\\n--------\\n* Automatic Sprite (Image + Metadata) creation including:\\n\\n  - css (less, scss)\\n  - cocos2d\\n  - json (array, hash)\\n  - CAAT\\n\\n* Automatic multi-dpi `retina <http://glue.readthedocs.org/en/latest/ratios.html>`_ sprite creation.\\n* Support for multi-sprite projects.\\n* Create sprites from multiple folders (recursively).\\n* Multiple `algorithms <http://glue.readthedocs.org/en/latest/options.html#a-algorithm>`_ available.\\n* Automatic `crop of unnecessary transparent borders <http://glue.readthedocs.org/en/latest/quickstart.html#crop-unnecessary-transparent-spaces>`_ around source images.\\n* Configurable `paddings and margin per image, sprite or project <http://glue.readthedocs.org/en/latest/paddings.html>`_.\\n* Watch option to keep glue running watching for file changes.\\n* Project-, Sprite- and Image-level configuration via static config files.\\n* Customizable `output <http://glue.readthedocs.org/en/latest/options.html#global-template>`_ using jinja templates.\\n* CSS: Optional .less/.scss output format.\\n* CSS: Configurable `cache busting for sprite images <http://glue.readthedocs.org/en/latest/options.html#cachebuster>`_.\\n* CSS: Customizable `class names <http://glue.readthedocs.org/en/latest'"
      ]
     },
     "execution_count": 36,
     "metadata": {},
     "output_type": "execute_result"
    }
   ],
   "source": [
    "projects[0]['readme_txt'][:2000]"
   ]
  },
  {
   "cell_type": "markdown",
   "metadata": {},
   "source": [
    "# Modelo LSA/LSI: Latent Semantic Analysis / Latent Semantic Indexing"
   ]
  },
  {
   "cell_type": "markdown",
   "metadata": {},
   "source": [
    "## Principios teóricos"
   ]
  },
  {
   "cell_type": "markdown",
   "metadata": {},
   "source": [
    "Para identificar la similitud entre los proyectos basándonos en su descripción, entendiéndose como tal su fichero README, utilizamos el \"análisis semántico latente\" (LSA, usando la abreviatura en inglés), que es una técnica ampliamente utilizada en el procesamiento del lenguaje natural. LSA transforma cada texto en un vector, en un espacio de características. En nuestro caso, las características son palabras que ocurren en las descripciones. A continuación, se crea una matriz que contiene todos los vectores: las columnas representan las descripciones de los proyectos y las filas representan palabras únicas. Por consiguiente, el número de filas puede ascender a decenas de miles de palabras. \n",
    "\n",
    "Con el fin de identificar las características relevantes de esta matriz, usaremos la \"descomposición de valores singulares\" (SVD, usando la abreviatura en inglés), que es una técnica de reducción de dimensión, se utiliza para reducir el número de líneas -palabras-, manteniendo y resaltando la similitud entre columnas-descripción -. La dimensión de esta matriz de aproximación se establece mediante un hiperparámetro que es el número de temas, comúnmente llamado como tópicos. En este marco, un tópico consiste en un conjunto de palabras con pesos asociados que definen la contribución de cada palabra a la dirección de este tópico. Basándose en esta matriz de aproximación de baja dimensión, la similitud entre dos columnas -descripciones- se calcula utilizando el coseno del ángulo entre estos dos vectores.\n",
    "\n",
    "\n",
    "**NOTA**: Generalmente LSA y LSI se utilizan indistintamente para referirse al mismo concepto."
   ]
  },
  {
   "cell_type": "markdown",
   "metadata": {},
   "source": [
    "## Creación del diccionario\n",
    " \n",
    "El diccionario está formado por la concatenación de todas las palabras que aparecen en algún resumen de alguno de los proyectos. Básicamente esta función mapea cada palabra única con su identificador. Es decir, si tenemos N palabras, lo que conseguiremos al final es que cada proyecto sea representada mediante un vector en un espacio de N dimensiones.\n",
    " \n",
    "Para ello, partiendo de la lista creada en el paso anterior, usaremos la función **corpora** del paquete **gensim**.\n",
    "\n",
    "El diccionario consiste en una concatenación de palabras únicas de todas las descripciones. Gensim es una biblioteca eficiente para analizar la similitud semántica latente entre documentos.\n",
    "Este módulo implementa el concepto de Diccionario - un mapeo entre palabras y\n",
    "sus entes ids.\n",
    "\n",
    "Los diccionarios pueden ser creados a partir de un corpus y luego pueden ver las frecuencia del documento (eliminación de palabras comunes mediante el método func: `Dictionary.filter_extremes`), guardado / cargado desde el disco (vía: func: `Dictionary.save` y: func:` Dictionary.load`), fusionado con otro diccionario (: func: `Dictionary.merge_with`) etc."
   ]
  },
  {
   "cell_type": "code",
   "execution_count": 37,
   "metadata": {},
   "outputs": [
    {
     "data": {
      "text/plain": [
       "<gensim.corpora.dictionary.Dictionary at 0x2e4033b0>"
      ]
     },
     "execution_count": 37,
     "metadata": {},
     "output_type": "execute_result"
    }
   ],
   "source": [
    "dictionary = corpora.Dictionary(texts_from_readme)\n",
    "dictionary"
   ]
  },
  {
   "cell_type": "markdown",
   "metadata": {},
   "source": [
    "Podemos ver la longitud del diccionario creado"
   ]
  },
  {
   "cell_type": "code",
   "execution_count": 38,
   "metadata": {},
   "outputs": [
    {
     "name": "stdout",
     "output_type": "stream",
     "text": [
      "Dictionary(131546 unique tokens: ['libfontconfig', 'bitfinex', 'liner', 'ping13', '2ceiw1dmk6vy3tjnnttlmockers4aphjehxe4szpewsuxfsyb4frsjsa8zbwdsxyhh7']...)\n"
     ]
    }
   ],
   "source": [
    "print(dictionary)"
   ]
  },
  {
   "cell_type": "markdown",
   "metadata": {},
   "source": [
    "La función **token2i** asigna palabras únicas con sus ids. En nuestro caso, la longitud del diccionario es igual a *N* palabras lo que significa que cada descripción del proyecto será representada a través de un espacio vectorial de *N* dimensiones\n",
    "\n",
    "Mostramos las primeras 10 entradas"
   ]
  },
  {
   "cell_type": "code",
   "execution_count": 39,
   "metadata": {},
   "outputs": [
    {
     "data": {
      "text/plain": [
       "[('libfontconfig', 14694),\n",
       " ('bitfinex', 88069),\n",
       " ('liner', 8502),\n",
       " ('ping13', 97046),\n",
       " ('2ceiw1dmk6vy3tjnnttlmockers4aphjehxe4szpewsuxfsyb4frsjsa8zbwdsxyhh7',\n",
       "  55102),\n",
       " ('microsd', 4145),\n",
       " ('metdata', 29796),\n",
       " ('opensvp', 34396),\n",
       " ('_medici', 20558),\n",
       " ('toplama', 92336)]"
      ]
     },
     "execution_count": 39,
     "metadata": {},
     "output_type": "execute_result"
    }
   ],
   "source": [
    "list(itertools.islice(dictionary.token2id.items(), 0, 10))"
   ]
  },
  {
   "cell_type": "markdown",
   "metadata": {},
   "source": [
    "## Creación del Corpus\n",
    "\n",
    "Crearemos un corpus con la colección de todos los resúmenes previamente pre-procesados y transformados usando el diccionario. Vamos a convertir los textos a un formato que gensim puede utilizar, esto es, una representación como bolsa de palabras (BoW). Gensim espera ser alimentado con una estructura de datos de corpus, básicamente una lista de \"sparce vectors\", estos constan de pares (id, score), donde el id es un ID numérico que se asigna al término a través de un diccionario. "
   ]
  },
  {
   "cell_type": "markdown",
   "metadata": {},
   "source": [
    "Mostramos el numero de elementos únicos que existen en los documentos (los que componen el diccionario) y el numero de textos (correspondientes a las descripciones de los proyectos)."
   ]
  },
  {
   "cell_type": "code",
   "execution_count": 40,
   "metadata": {},
   "outputs": [
    {
     "name": "stdout",
     "output_type": "stream",
     "text": [
      "Number of unique tokens : 131546\n",
      "Number of documents     : 10000\n"
     ]
    }
   ],
   "source": [
    "print('Number of unique tokens : %d' % len(dictionary))\n",
    "print('Number of documents     : %d' % len(texts_from_readme))"
   ]
  },
  {
   "cell_type": "code",
   "execution_count": 41,
   "metadata": {},
   "outputs": [],
   "source": [
    "def create_corpus(dictionary, texts):\n",
    "    return [dictionary.doc2bow(text) for text in texts]"
   ]
  },
  {
   "cell_type": "code",
   "execution_count": 42,
   "metadata": {},
   "outputs": [],
   "source": [
    "corpus = create_corpus(dictionary, texts_from_readme)"
   ]
  },
  {
   "cell_type": "markdown",
   "metadata": {},
   "source": [
    "A modo de ejemplo, mostramos las 5 primeras entradas del primer proyecto"
   ]
  },
  {
   "cell_type": "code",
   "execution_count": 43,
   "metadata": {},
   "outputs": [
    {
     "data": {
      "text/plain": [
       "[(0, 4), (1, 2), (2, 1), (3, 2), (4, 1)]"
      ]
     },
     "execution_count": 43,
     "metadata": {},
     "output_type": "execute_result"
    }
   ],
   "source": [
    "corpus[0][:5]"
   ]
  },
  {
   "cell_type": "markdown",
   "metadata": {},
   "source": [
    "## Creación del modelo TFID\n",
    "\n",
    "Un alto peso en tf-idf se alcanza por una alta frecuencia en un Documento y una baja frecuencia en toda la colección de documentos; los pesos tienden a filtrar términos comunes. Para la creación de este corpus, vamos a usar la función **TfidfModel** del objeto **models** (perteneciente a la librería *gemsim*).\n"
   ]
  },
  {
   "cell_type": "code",
   "execution_count": 44,
   "metadata": {},
   "outputs": [],
   "source": [
    "def create_tfidf(corpus):\n",
    "    tfidf = models.TfidfModel(corpus)\n",
    "    corpus_tfidf = tfidf[corpus]\n",
    "    return corpus_tfidf"
   ]
  },
  {
   "cell_type": "code",
   "execution_count": 45,
   "metadata": {},
   "outputs": [],
   "source": [
    "corpus_tfidf = create_tfidf(corpus)"
   ]
  },
  {
   "cell_type": "markdown",
   "metadata": {},
   "source": [
    "En corpus tenemos, para cada project, una lista con sus palabras y el tfidf de cada una. Mostramos las 10 primeras entradas del <primer elemento"
   ]
  },
  {
   "cell_type": "code",
   "execution_count": 46,
   "metadata": {},
   "outputs": [
    {
     "data": {
      "text/plain": [
       "[(0, 0.05761854322053846),\n",
       " (1, 0.02979646764514527),\n",
       " (2, 0.011654538385197933),\n",
       " (3, 0.05886720965598663),\n",
       " (4, 0.033792406111922954),\n",
       " (5, 0.010956200100641224),\n",
       " (6, 0.078520333557761),\n",
       " (7, 0.00554316051250372),\n",
       " (8, 0.01654351139506536),\n",
       " (9, 0.007661428185064732)]"
      ]
     },
     "execution_count": 46,
     "metadata": {},
     "output_type": "execute_result"
    }
   ],
   "source": [
    "corpus_tfidf[0][:10]"
   ]
  },
  {
   "cell_type": "markdown",
   "metadata": {},
   "source": [
    "Si queremos saber que palabra es cada uno de estos términos podemos consultar el diccionario"
   ]
  },
  {
   "cell_type": "code",
   "execution_count": 47,
   "metadata": {},
   "outputs": [
    {
     "name": "stdout",
     "output_type": "stream",
     "text": [
      "want , class , get\n"
     ]
    }
   ],
   "source": [
    "print(dictionary[8],\",\",dictionary[19],\",\", dictionary[88])"
   ]
  },
  {
   "cell_type": "markdown",
   "metadata": {},
   "source": [
    "## Determinación del número de topicos"
   ]
  },
  {
   "cell_type": "markdown",
   "metadata": {},
   "source": [
    "Con los elementos que tenemos hasta ahora ya estamos listos para entrenar el modelo LSI/LDA. Pero antes que nada, como dicen los anglosajones \"*el elefante en la habitación*\", **¿Cuál es el número correcto de tópicos?**\n",
    "\n",
    "LSA busca identificar un conjunto de tópicos relacionados las descripciones de los proyectos. El número de estos temas N es igual a la dimensión de la matriz de aproximación resultante de la técnica de reducción de dimensión SVD. Este número es un hiperparámetro que se debe ajustar cuidadosamente, es el resultado de la selección de los N valores singulares más grandes de la matriz del corpus tf-idf. \n",
    "\n",
    "En principio no hay una respuesta correcta o fácil para la pregunta inicial, depende tanto de los datos que tengamos como de la aplicación que queramos dar a estos datos. Por ejemplo, en ciertos casos puede ser útil tener un número pequeño de tópicos, de mara que se puedan interpretar y \"etiquetar\".\n",
    "\n"
   ]
  },
  {
   "cell_type": "markdown",
   "metadata": {},
   "source": [
    "Vamos a crear una serie de modelos variando el número de tópicos y posteriormente los evaluaremos buscando el número óptimo de tópicos.\n",
    "\n",
    "\n",
    "**NOTA**: Gensim puede provocar cuelgues por un uso excesivo de memoria, así que hay que tener en cuenta esta limitación cuando se indica por ejemplo el número de tópicos. Antes de entrenar su modelo, se puede obtener una estimación aproximada del uso de la memoria usando la siguiente fórmula:\n",
    "\n",
    "</br>\n",
    "\n",
    "<center>**8 bytes** *x* **numero_terminos** *x* **numero_topicos** *x* **3**</center>\n",
    "\n",
    "Así pues, dadas las características de máquina con la que se realizán los cálculos vamos a indicar **120** tópicos como máximo"
   ]
  },
  {
   "cell_type": "code",
   "execution_count": 48,
   "metadata": {},
   "outputs": [
    {
     "name": "stdout",
     "output_type": "stream",
     "text": [
      "Training LDA(k=10)\n",
      "Training LDA(k=20)\n",
      "Training LDA(k=30)\n",
      "Training LDA(k=40)\n"
     ]
    }
   ],
   "source": [
    "trained_models = OrderedDict()\n",
    "for num_topics in range(10, 41, 10):\n",
    "    print(\"Training LDA(k=%d)\" % num_topics)\n",
    "    lda = models.LdaMulticore(\n",
    "        corpus_tfidf, id2word=dictionary, num_topics=num_topics, workers=4,\n",
    "        passes=10, iterations=100, random_state=42, \n",
    "        eval_every=None,      # No evalúa la perplejidad del modelo, lleva demasiado tiempo.\n",
    "        alpha='asymmetric',   # Demuestra ser mejor que simétrico en la mayoría de los casos\n",
    "        decay=0.5, offset=64  # Mejores varlores para Hoffman paper\n",
    "    )\n",
    "    trained_models[num_topics] = lda"
   ]
  },
  {
   "cell_type": "markdown",
   "metadata": {},
   "source": [
    "Podemos mostrar uno de los modelos creados"
   ]
  },
  {
   "cell_type": "code",
   "execution_count": 49,
   "metadata": {},
   "outputs": [
    {
     "data": {
      "text/plain": [
       "<gensim.models.ldamulticore.LdaMulticore at 0x2e403390>"
      ]
     },
     "execution_count": 49,
     "metadata": {},
     "output_type": "execute_result"
    }
   ],
   "source": [
    "trained_models[10]"
   ]
  },
  {
   "cell_type": "markdown",
   "metadata": {},
   "source": [
    "### Evaluación usando la *Coherencia*"
   ]
  },
  {
   "cell_type": "markdown",
   "metadata": {},
   "source": [
    "Vamos a evaluar cada uno de nuestros modelos de LDA utilizando la coherencia. La **coherencia** es una medida de cuán interpretables son los topicos para los humanos. Se basa en la representación de temas como las N palabras más probables para un topico en particular. Más específicamente, dada la matriz de *topic-term* para LDA, clasificamos cada tema de pesos más altos a más bajos y luego seleccionamos los primeros N términos.\n",
    "\n",
    "La coherencia esencialmente mide cuán similares son estas palabras entre sí. Existen varios métodos para hacerlo, la mayoría de los cuales han sido explorados en el documento [\"Exploring the Space of Topic Coherence Measures\"](https://svn.aksw.org/papers/2015/WSDM_Topic_Evaluation/public.pdf). Los autores realizaron un análisis comparativo de varios métodos, correlacionándolos con juicios humanos. El método llamado coherencia \"c_v\" resultó ser el más altamente correlacionado. Este y varios de los otros métodos se han implementado en gensim.models.CoherenceModel. Usaremos esto para realizar nuestras evaluaciones.\n",
    "\n"
   ]
  },
  {
   "cell_type": "markdown",
   "metadata": {},
   "source": [
    "Recorremos la lista de modelos y obtenemos la **coherencia** de cada uno de ellos, además llevaremos un registro para determinar cual de ellos obtiene el mejor resultado."
   ]
  },
  {
   "cell_type": "code",
   "execution_count": 50,
   "metadata": {},
   "outputs": [
    {
     "name": "stdout",
     "output_type": "stream",
     "text": [
      "Topic number: 10 - Coherence: 0.4752899907228535\n",
      "Topic number: 20 - Coherence: 0.50061715339604\n",
      "Topic number: 30 - Coherence: 0.5441192173565835\n",
      "Topic number: 40 - Coherence: 0.5401590765285943\n",
      "\n",
      "Best model has 30 topics and a coherence of 0.5441192173565835\n"
     ]
    }
   ],
   "source": [
    "best_coherence = 0\n",
    "best_coherence_key = 0\n",
    "for key, value in trained_models.items():\n",
    "    cm = CoherenceModel(model=value, texts=texts_from_readme, dictionary=dictionary, coherence='c_v')\n",
    "    actual_coherence = cm.get_coherence()\n",
    "    print(\"Topic number: {} - Coherence: {}\".format(key,actual_coherence))\n",
    "    if actual_coherence > best_coherence:\n",
    "        best_coherence = actual_coherence\n",
    "        best_coherence_key = key\n",
    "print(\"\\nBest model has {} topics and a coherence of {}\".format(best_coherence_key,best_coherence))"
   ]
  },
  {
   "cell_type": "markdown",
   "metadata": {},
   "source": [
    "La prueba nos ha dado como resultado que con **20** tópicos obtenemos los mejores resultados."
   ]
  },
  {
   "cell_type": "markdown",
   "metadata": {
    "collapsed": true
   },
   "source": [
    "Finalmente creamos constantes para los valores seleccionados.\n",
    " * **TOTAL_LSA_TOPICS**: Limita el numero de terminos, por supuesto tiene que ver con el tamaño de la muestra, mientras más proyectos tengamos mas terminos tendremos y por tanto la reduccion seria mayor, estamos clusterizando las proyectos en TOTAL_TOPICOS_LSA clusters\n",
    " \n",
    "* **SIMILARITY_THRESHOLD** Umbral de similitud que se debe superar para que dos proyectos se consideren similares (en cualquier caso, posteriormente usaremos los proyectos ordenados por similitud"
   ]
  },
  {
   "cell_type": "code",
   "execution_count": 51,
   "metadata": {},
   "outputs": [],
   "source": [
    "best_coherence_key = 20\n",
    "TOTAL_LSA_TOPICS = best_coherence_key\n",
    "SIMILARITY_THRESHOLD = 0.4"
   ]
  },
  {
   "cell_type": "code",
   "execution_count": 52,
   "metadata": {},
   "outputs": [
    {
     "data": {
      "text/plain": [
       "20"
      ]
     },
     "execution_count": 52,
     "metadata": {},
     "output_type": "execute_result"
    }
   ],
   "source": [
    "TOTAL_LSA_TOPICS"
   ]
  },
  {
   "cell_type": "markdown",
   "metadata": {},
   "source": [
    "## Definición del modelo LSA"
   ]
  },
  {
   "cell_type": "markdown",
   "metadata": {},
   "source": [
    "### Funciones auxiliares"
   ]
  },
  {
   "cell_type": "markdown",
   "metadata": {},
   "source": [
    "Definimos una serie de funciones auxiliares para ayudarnos en las siguientes operaciones."
   ]
  },
  {
   "cell_type": "markdown",
   "metadata": {},
   "source": [
    "**get_similarities_by_description**\n",
    "\n",
    "Dado un documento (correspondiente a la descripción de un proyecto), nos determina la lista de proyectos que superan el umbral de similitud. Para cada proyecto que supere el umbral, almacenaremos el índice dentro de la matriz de proyectos, para localizarla posteriormente, y el grado de similitud. "
   ]
  },
  {
   "cell_type": "code",
   "execution_count": 53,
   "metadata": {},
   "outputs": [],
   "source": [
    "def get_similarities_by_description(model, dictionary, similarity_matrix, doc):\n",
    "    ''' Calcula las similitudes de un documento, expresado este como una lista de palabras'''\n",
    "    project_similarities = defaultdict(float)\n",
    "\n",
    "    # Convertimos el documento al espacio LSI\n",
    "    vec_bow = dictionary.doc2bow(doc)\n",
    "    vec_lsi = model[vec_bow]\n",
    "\n",
    "    similarities = similarity_matrix[vec_lsi]\n",
    "    similarities = sorted(enumerate(similarities), key=lambda item: -item[1])\n",
    "\n",
    "    for sim in similarities:\n",
    "        similarity_project = int(sim[0])\n",
    "        similarity_score = sim[1]\n",
    "        if similarity_score > SIMILARITY_THRESHOLD:\n",
    "            project_similarities[similarity_project] = similarity_score\n",
    "\n",
    "    return (project_similarities)"
   ]
  },
  {
   "cell_type": "markdown",
   "metadata": {},
   "source": [
    "**show_project_similarities**\n",
    "\n",
    "Dada una lista de proyectos similares a uno dado, lo imprime por pantalla."
   ]
  },
  {
   "cell_type": "code",
   "execution_count": 54,
   "metadata": {},
   "outputs": [],
   "source": [
    "def show_project_similarities(projects, project_similarities):\n",
    "    for project_id in sorted(project_similarities, key=project_similarities.get, reverse=True)[:10]:\n",
    "         print(\"Project: {0}: - Similarity: {1}\".format(projects[project_id][\"name\"], project_similarities[project_id]))"
   ]
  },
  {
   "cell_type": "markdown",
   "metadata": {},
   "source": [
    "**get_library_similarities**\n",
    "\n",
    "Dada una lista de proyectos similares a uno dado y una lista de librerías, retorna las librerías que usan esos proyectos y que no están en la lista pasada por parámetro. Además para cada librería calcula su índice de similitud, basándose en la similitud de los proyectos a los que pertenece. "
   ]
  },
  {
   "cell_type": "code",
   "execution_count": 55,
   "metadata": {},
   "outputs": [],
   "source": [
    "def get_library_similarities(projects, project_similarities, project_libraries):\n",
    "    library_similarities=defaultdict(float)\n",
    "    for project_id in sorted(project_similarities, key=project_similarities.get, reverse=True)[:10]:\n",
    "        similarity = project_similarities[project_id]\n",
    "        libraries = projects[project_id][\"library\"]\n",
    "        for library in libraries:\n",
    "            if library not in project_libraries:\n",
    "                library_similarities[library] += similarity\n",
    "    return library_similarities"
   ]
  },
  {
   "cell_type": "markdown",
   "metadata": {},
   "source": [
    "**show_library_similarities**\n",
    "\n",
    "Dada una lista de proyectos similares a uno dado y una lista de librerías, retorna las librerías que usan esos proyectos y que no están en la lista pasada por parámetro. Además apra cada librería calcula su índice de similitud, basándose en la similitud de los proyectos a los que pertenece. "
   ]
  },
  {
   "cell_type": "code",
   "execution_count": 56,
   "metadata": {},
   "outputs": [],
   "source": [
    "def show_library_similarities(library_similarities):\n",
    "    clean_library_similarities = {k: v for k, v in library_similarities.items() if v > 0}\n",
    "    for library in sorted(clean_library_similarities, key=clean_library_similarities.get, reverse=True)[:10]:\n",
    "        print(\"Library: {0}: - Score: {1}\".format(library, clean_library_similarities[library]))"
   ]
  },
  {
   "cell_type": "markdown",
   "metadata": {},
   "source": [
    "### Creación del modelo"
   ]
  },
  {
   "cell_type": "markdown",
   "metadata": {},
   "source": [
    "Para ello usaremos la librería **models** que nos ofrece gensim"
   ]
  },
  {
   "cell_type": "code",
   "execution_count": 57,
   "metadata": {},
   "outputs": [],
   "source": [
    "model = models.LsiModel(corpus_tfidf, id2word=dictionary, num_topics=TOTAL_LSA_TOPICS)"
   ]
  },
  {
   "cell_type": "markdown",
   "metadata": {},
   "source": [
    "Podemos ver como influyen las palabras en la determinación de los diferentes tópicos, por ejemplo mostramos los 3 primeros tópicos"
   ]
  },
  {
   "cell_type": "code",
   "execution_count": 58,
   "metadata": {},
   "outputs": [
    {
     "name": "stdout",
     "output_type": "stream",
     "text": [
      "Topic 0:\n",
      "0.216*\"django\"\n",
      "0.115*\"file\"\n",
      "0.112*\"test\"\n",
      "0.105*\"py\"\n",
      "0.102*\"instal\"\n",
      "0.101*\"_\"\n",
      "0.091*\"set\"\n",
      "0.091*\"run\"\n",
      "0.090*\"licens\"\n",
      "0.090*\"python\"\n",
      "\n",
      "Topic 1:\n",
      "0.734*\"rst\"\n",
      "0.649*\"readm\"\n",
      "0.176*\"includ\"\n",
      "-0.040*\"django\"\n",
      "0.014*\"softwar\"\n",
      "0.013*\"md\"\n",
      "0.013*\"sphinx\"\n",
      "0.011*\"highlight\"\n",
      "-0.010*\"app\"\n",
      "-0.010*\"model\"\n",
      "\n",
      "Topic 2:\n",
      "-0.763*\"django\"\n",
      "0.149*\"softwar\"\n",
      "-0.138*\"admin\"\n",
      "-0.108*\"model\"\n",
      "0.101*\"sublim\"\n",
      "-0.095*\"templat\"\n",
      "-0.081*\"manag\"\n",
      "0.080*\"plugin\"\n",
      "-0.079*\"_\"\n",
      "0.078*\"file\"\n",
      "\n"
     ]
    }
   ],
   "source": [
    "for i, topic in enumerate(model.print_topics(3)):\n",
    "    print('Topic {}:'.format(i))\n",
    "    print(topic[1].replace(' + ', '\\n'))\n",
    "    print('')"
   ]
  },
  {
   "cell_type": "markdown",
   "metadata": {},
   "source": [
    "Usando nuestro modelo LSI construimos la matriz de similitud"
   ]
  },
  {
   "cell_type": "code",
   "execution_count": 59,
   "metadata": {},
   "outputs": [],
   "source": [
    "similarity_matrix = gensim.similarities.MatrixSimilarity(model[corpus_tfidf])"
   ]
  },
  {
   "cell_type": "markdown",
   "metadata": {},
   "source": [
    "### Prueba de concepto"
   ]
  },
  {
   "cell_type": "markdown",
   "metadata": {},
   "source": [
    "A modo de ejemplo, como prueba de concepto, vamos a determinar los proyectos similares a uno dado. En primer lugar definimos las propiedades de nuestro proyecto **fake**."
   ]
  },
  {
   "cell_type": "code",
   "execution_count": 60,
   "metadata": {},
   "outputs": [],
   "source": [
    "poc_library = [ \"logging\", \"time\", \"printer\", \"distutils\", \"scapy\", \"requests\", \"bs4\", \"pysnmp\", \"paramiko\", \"nmap\", \"unittest\" ]\n",
    "poc_readme_words = get_words(\"works on Windows and write down some installation instructions\")"
   ]
  },
  {
   "cell_type": "markdown",
   "metadata": {},
   "source": [
    "Calculamos la lista de proyectos similares"
   ]
  },
  {
   "cell_type": "code",
   "execution_count": 61,
   "metadata": {},
   "outputs": [],
   "source": [
    "project_similarities_by_description = get_similarities_by_description(model, dictionary, similarity_matrix, poc_readme_words)"
   ]
  },
  {
   "cell_type": "markdown",
   "metadata": {},
   "source": [
    "Mostramos los proyectos más similares"
   ]
  },
  {
   "cell_type": "code",
   "execution_count": 62,
   "metadata": {},
   "outputs": [
    {
     "name": "stdout",
     "output_type": "stream",
     "text": [
      "Project: Photini: - Similarity: 0.9474321603775024\n",
      "Project: bluepass: - Similarity: 0.9416524171829224\n",
      "Project: elseql: - Similarity: 0.9362103939056396\n",
      "Project: cyg-apt: - Similarity: 0.9346104264259338\n",
      "Project: tomate: - Similarity: 0.9343813061714172\n",
      "Project: bockbuild: - Similarity: 0.9339820742607117\n",
      "Project: sploitego: - Similarity: 0.9332752823829651\n",
      "Project: fuglu: - Similarity: 0.9329404234886169\n",
      "Project: pyadb: - Similarity: 0.9313347935676575\n",
      "Project: stb-tester: - Similarity: 0.9296969175338745\n"
     ]
    }
   ],
   "source": [
    "show_project_similarities(projects, project_similarities_by_description)"
   ]
  },
  {
   "cell_type": "markdown",
   "metadata": {
    "collapsed": true
   },
   "source": [
    "El objetivo final no no es encontrar proyectos similares, sino encontrar las librerias que usan esos proyectos similares. Así pues, recorremos esos proyectos e identificamos esas librerías, descartando las que nuestro proyecto ya incluye."
   ]
  },
  {
   "cell_type": "markdown",
   "metadata": {},
   "source": [
    "Recorremos los proyectos más similares y calculamos el scoring de cada librería usada en esos proyectos"
   ]
  },
  {
   "cell_type": "code",
   "execution_count": 63,
   "metadata": {},
   "outputs": [],
   "source": [
    "library_similarities_by_description = get_library_similarities(projects, project_similarities_by_description, poc_library)"
   ]
  },
  {
   "cell_type": "markdown",
   "metadata": {},
   "source": [
    "Mostramos las 10 librerías más usadas por los proyectos similares"
   ]
  },
  {
   "cell_type": "code",
   "execution_count": 64,
   "metadata": {},
   "outputs": [
    {
     "name": "stdout",
     "output_type": "stream",
     "text": [
      "Library: datetime: - Score: 4.678432881832123\n",
      "Library: pkg_resources: - Score: 2.8136478662490845\n",
      "Library: hashlib: - Score: 2.808574914932251\n",
      "Library: uuid: - Score: 2.8078681230545044\n",
      "Library: functools: - Score: 2.8053314089775085\n",
      "Library: six: - Score: 1.8890845775604248\n",
      "Library: setuptools: - Score: 1.8818134665489197\n",
      "Library: gi: - Score: 1.877129077911377\n",
      "Library: argparse: - Score: 1.8713493347167969\n",
      "Library: signal: - Score: 1.8713493347167969\n"
     ]
    }
   ],
   "source": [
    "show_library_similarities(library_similarities_by_description)"
   ]
  },
  {
   "cell_type": "markdown",
   "metadata": {},
   "source": [
    "# Modelo CountVectorizer"
   ]
  },
  {
   "cell_type": "markdown",
   "metadata": {
    "collapsed": true
   },
   "source": [
    "Otro acercamiento que podemos realizar es usar como nivel de similitud las propias librerías que un proyecto usa, es decir buscaremos proyectos que usen las mismas librerías que nosotros ya estamos usando y mostraremos otras librerias que esos mismos proyectos estén usando y nuestro proyecto no."
   ]
  },
  {
   "cell_type": "markdown",
   "metadata": {},
   "source": [
    "En este caso los documentos serán muy pequeños, así que técnicas como LSI/LDA no son apropidas dado que están basados en estadísticas y con documentos pequeños no tendríamos suficiente información, se podrían usar técnicas como\n",
    "[Word network topic model](https://dl.acm.org/citation.cfm?id=2974795), pero en este caso vamos a usar una aproximacion más simple y usaremos un modelo **CountVectorizer** de extracción de características."
   ]
  },
  {
   "cell_type": "code",
   "execution_count": 65,
   "metadata": {},
   "outputs": [],
   "source": [
    "import scipy as sp\n",
    "from sklearn.feature_extraction.text import CountVectorizer"
   ]
  },
  {
   "cell_type": "markdown",
   "metadata": {},
   "source": [
    "El modelo que construiremos necesita como entrada textos, así que transformamos nuestras listas de palabras en textos, en los que las librerías estarán separados por espacios."
   ]
  },
  {
   "cell_type": "code",
   "execution_count": 66,
   "metadata": {},
   "outputs": [],
   "source": [
    "global_texts = [\" \".join(project['library']) for project in projects]"
   ]
  },
  {
   "cell_type": "code",
   "execution_count": 67,
   "metadata": {},
   "outputs": [
    {
     "data": {
      "text/plain": [
       "['unittest logging cssutils glue pkg_resources argparse hashlib jinja2 base css time signal',\n",
       " 'time']"
      ]
     },
     "execution_count": 67,
     "metadata": {},
     "output_type": "execute_result"
    }
   ],
   "source": [
    "global_texts[:2]"
   ]
  },
  {
   "cell_type": "markdown",
   "metadata": {},
   "source": [
    "Usaremos un objeto de **CountVectorizer**, el cual convierte una colección de documentos de texto en una matriz de conteos de tokens. \n",
    "\n",
    "Useremos el parámetro **min_df**, denomina comunmente como **corte**, con el valor **2**; esto hará que al construir el vocabulario, se ignoren los términos que tienen una frecuencia de documento más baja que el umbral dado"
   ]
  },
  {
   "cell_type": "code",
   "execution_count": 68,
   "metadata": {},
   "outputs": [],
   "source": [
    "model_countVectorizer = CountVectorizer(min_df=2)"
   ]
  },
  {
   "cell_type": "markdown",
   "metadata": {},
   "source": [
    "Usando el objeto creado, realizamos la transformación de nuestros datos"
   ]
  },
  {
   "cell_type": "code",
   "execution_count": 69,
   "metadata": {},
   "outputs": [],
   "source": [
    "data = model_countVectorizer.fit_transform(global_texts)"
   ]
  },
  {
   "cell_type": "markdown",
   "metadata": {},
   "source": [
    "A continuación definimos una función que usando los datos anteriores, el objeto countVectorizer y una lista de librerias, calcula la distancia coseno con cada una de las listas de librerias de los proyectos objeto de estudio. La **distancia coseno**  no es propiamente una distancia sino una medida de similaridad entre dos vectores en un espacio que tiene definido un producto interior. "
   ]
  },
  {
   "cell_type": "code",
   "execution_count": 70,
   "metadata": {},
   "outputs": [],
   "source": [
    "def get_similarities_by_library(train_data, doc, model):\n",
    "    def cos_distance(v1, v2):\n",
    "        return 1 - (v1 * v2.transpose()).sum() / (sp.linalg.norm(v1.toarray()) * sp.linalg.norm(v2.toarray()))\n",
    "    \n",
    "    new_doc_vectorized = model.transform([doc])[0]\n",
    "    library_similarities = defaultdict(float)\n",
    "    for i, doc_vec in enumerate(train_data):\n",
    "        library_similarities[i] = 1 - cos_distance(doc_vec, new_doc_vectorized)\n",
    "    return library_similarities"
   ]
  },
  {
   "cell_type": "markdown",
   "metadata": {},
   "source": [
    "Vamos a realizar una prueba de concepto usando la lista de librería que ya tenemos creada, primero la convertimos en un documento tal como se ha comentado anteriormente."
   ]
  },
  {
   "cell_type": "code",
   "execution_count": 71,
   "metadata": {},
   "outputs": [
    {
     "data": {
      "text/plain": [
       "'logging time printer distutils scapy requests bs4 pysnmp paramiko nmap unittest'"
      ]
     },
     "execution_count": 71,
     "metadata": {},
     "output_type": "execute_result"
    }
   ],
   "source": [
    "doc_from_library = \" \".join(poc_library)\n",
    "doc_from_library"
   ]
  },
  {
   "cell_type": "markdown",
   "metadata": {},
   "source": [
    "Obtenemos los proyectos más similares en función de las librerías que comparten"
   ]
  },
  {
   "cell_type": "code",
   "execution_count": 72,
   "metadata": {},
   "outputs": [],
   "source": [
    "project_similarities_by_library = get_similarities_by_library(data, doc_from_library, model_countVectorizer)"
   ]
  },
  {
   "cell_type": "markdown",
   "metadata": {},
   "source": [
    "Como hicimos con el análisis por descripciones, podemos mostrar los proyectos ordenados por similitud"
   ]
  },
  {
   "cell_type": "code",
   "execution_count": 73,
   "metadata": {},
   "outputs": [
    {
     "name": "stdout",
     "output_type": "stream",
     "text": [
      "Project: pygerrit: - Similarity: 0.5698028822981898\n",
      "Project: assertEquals: - Similarity: 0.5393598899705937\n",
      "Project: mailinator: - Similarity: 0.5222329678670935\n",
      "Project: python-statsd-client: - Similarity: 0.492365963917331\n",
      "Project: python-webdav: - Similarity: 0.492365963917331\n",
      "Project: uwsgiFouine: - Similarity: 0.4522670168666454\n",
      "Project: pyreBloom: - Similarity: 0.4522670168666454\n",
      "Project: i3-py: - Similarity: 0.4522670168666454\n",
      "Project: logging_tree: - Similarity: 0.4522670168666454\n",
      "Project: termsaver: - Similarity: 0.4522670168666454\n"
     ]
    }
   ],
   "source": [
    "show_project_similarities(projects, project_similarities_by_library)"
   ]
  },
  {
   "cell_type": "markdown",
   "metadata": {},
   "source": [
    "Aunque como ya dijimos entonces, el objetivo es recomendar librerías, no proyectos. Así que obtenemos la lista a partir de nuestra lista de proyectos"
   ]
  },
  {
   "cell_type": "code",
   "execution_count": 74,
   "metadata": {},
   "outputs": [],
   "source": [
    "library_similarities_by_libraries = get_library_similarities(projects, project_similarities_by_library, poc_library)"
   ]
  },
  {
   "cell_type": "markdown",
   "metadata": {},
   "source": [
    "Finalmente mostramos el resultado"
   ]
  },
  {
   "cell_type": "code",
   "execution_count": 75,
   "metadata": {},
   "outputs": [
    {
     "name": "stdout",
     "output_type": "stream",
     "text": [
      "Library: setuptools: - Score: 1.1091627722687836\n",
      "Library: argparse: - Score: 1.0220698991648351\n",
      "Library: datetime: - Score: 0.9446329807839764\n",
      "Library: pygerrit: - Score: 0.5698028822981898\n",
      "Library: statsd: - Score: 0.492365963917331\n",
      "Library: functools: - Score: 0.492365963917331\n",
      "Library: python_webdav: - Score: 0.492365963917331\n",
      "Library: mock: - Score: 0.492365963917331\n",
      "Library: redis: - Score: 0.4522670168666454\n",
      "Library: logging_tree: - Score: 0.4522670168666454\n"
     ]
    }
   ],
   "source": [
    "show_library_similarities(library_similarities_by_libraries)"
   ]
  },
  {
   "cell_type": "markdown",
   "metadata": {
    "collapsed": true
   },
   "source": [
    "."
   ]
  },
  {
   "cell_type": "markdown",
   "metadata": {},
   "source": [
    "<span style=\"color: #12297c; font-family: Arial; font-size: 3em;\">Rendimiento del modelo</span>"
   ]
  },
  {
   "cell_type": "markdown",
   "metadata": {},
   "source": [
    "Vamos a implementar un algoritmo que mida el rendimiento de los dos modelos (el LSI y el CountVectorizer). El concepto será el mismo para los dos modelos, aunque con diferentes implementaciones, lo que haremos será dividir el conjunto de datos en dos subconjuntos, con el primero entrenaremos los modelos, una vez entrenados usaremos el conjunto de test para predecir las librerías que cada proyecto debería tener. Como medida de rendimiento usaremos el número de librerias que se han predicho correctamente con respecto al total de librerías que tiene el proyecto, es decir, que porcentaje de librerias correctamente predichas."
   ]
  },
  {
   "cell_type": "markdown",
   "metadata": {},
   "source": [
    "Dividimos el conjunto de datos en dos subconjuntos, uno de **entrenamiento** con el **70%** de los datos y otro de **test** con el **30%**. Mostramos el numero total de proyectos para verificar que se distribuyen correctamente los dos subconjuntos"
   ]
  },
  {
   "cell_type": "code",
   "execution_count": 76,
   "metadata": {},
   "outputs": [
    {
     "name": "stdout",
     "output_type": "stream",
     "text": [
      "Total data set size: 10000\n"
     ]
    }
   ],
   "source": [
    "num_projects = len(projects)\n",
    "print(\"Total data set size:\",num_projects)"
   ]
  },
  {
   "cell_type": "markdown",
   "metadata": {},
   "source": [
    "Antes de hacer la partición, los desordenamos, de otra forma los subconjuntos estarían sesgados dado que están ordenados por el **id** el cual depende de la fecha en la que se creó."
   ]
  },
  {
   "cell_type": "code",
   "execution_count": 77,
   "metadata": {},
   "outputs": [],
   "source": [
    "random.shuffle(projects)"
   ]
  },
  {
   "cell_type": "markdown",
   "metadata": {},
   "source": [
    "### Conjunto de entrenamiento \n",
    "\n",
    "Para el conjunto de entrenamiento, nos quedamos con el 70% de los datos"
   ]
  },
  {
   "cell_type": "code",
   "execution_count": 78,
   "metadata": {},
   "outputs": [
    {
     "name": "stdout",
     "output_type": "stream",
     "text": [
      "Training data set size: 7000\n"
     ]
    }
   ],
   "source": [
    "projects_train = projects[:int(0.7*num_projects)]\n",
    "print(\"Training data set size:\",len(projects_train))"
   ]
  },
  {
   "cell_type": "markdown",
   "metadata": {},
   "source": [
    "### Conjunto de tests \n",
    "\n",
    "Para el conjunto de tests, nos quedamos con el 70% de los datos"
   ]
  },
  {
   "cell_type": "code",
   "execution_count": 79,
   "metadata": {},
   "outputs": [
    {
     "name": "stdout",
     "output_type": "stream",
     "text": [
      "Test data set size: 3000\n"
     ]
    }
   ],
   "source": [
    "projects_test = projects[int(0.7*num_projects):]\n",
    "print(\"Test data set size:\",len(projects_test))"
   ]
  },
  {
   "cell_type": "markdown",
   "metadata": {
    "collapsed": true
   },
   "source": [
    "### Función de *Scoring*\n",
    "\n",
    "Definimos una funcion que calcule el acierto de una predicción, se basa en el porcentaje de librerias que se han predicho con respecto al total de librerías."
   ]
  },
  {
   "cell_type": "code",
   "execution_count": 80,
   "metadata": {},
   "outputs": [],
   "source": [
    "def score(actual, predicted):\n",
    "    actual_len = len(actual)\n",
    "    predictec_success = set(actual).intersection(predicted)\n",
    "    predictec_success_len = len(predictec_success)\n",
    "    return(predictec_success_len/actual_len)"
   ]
  },
  {
   "cell_type": "markdown",
   "metadata": {},
   "source": [
    "# Modelo LSI"
   ]
  },
  {
   "cell_type": "markdown",
   "metadata": {},
   "source": [
    "Obtenemos la lista con las descripciones de los proyectos del conjunto de entrenamiento"
   ]
  },
  {
   "cell_type": "code",
   "execution_count": 81,
   "metadata": {},
   "outputs": [
    {
     "name": "stdout",
     "output_type": "stream",
     "text": [
      "['packag', 'publish_to_sn', 'upload', 's3', 'dir', 'mktemp', 'directori', 'pip', 'instal', 'cfnlambda', 'dep', 'dir', 'cp', 'v', 'publish_to_sn', 'py', 'dir', 'zip', 'junk', 'path', 'dir', 'publish_to_sn', 'zip', 'dir', 'publish_to_sn', 'py', 'dir', 'cfnlambda', 'py', 'aw', 'profil', 'infosec', 'prod', 'region', 'us', 'west', 's3', 'cp', 'dir', 'publish_to_sn', 'zip', 's3', 'infosec', 'lambda', 'us', 'west', 'aw', 'profil', 'infosec', 'prod', 'region', 'us', 'east', 's3', 'cp', 'dir', 'publish_to_sn', 'zip', 's3', 'infosec', 'lambda', 'us', 'east', 'rm', 'rf', 'dir']\n"
     ]
    }
   ],
   "source": [
    "texts_train = get_texts_from_readme(projects_train)\n",
    "print(texts_train[1])"
   ]
  },
  {
   "cell_type": "markdown",
   "metadata": {},
   "source": [
    "Creamos el diccionario"
   ]
  },
  {
   "cell_type": "code",
   "execution_count": 82,
   "metadata": {},
   "outputs": [],
   "source": [
    "dictionary_train = corpora.Dictionary(texts_train)"
   ]
  },
  {
   "cell_type": "code",
   "execution_count": 83,
   "metadata": {},
   "outputs": [
    {
     "name": "stdout",
     "output_type": "stream",
     "text": [
      "Dictionary(103083 unique tokens: ['liner', 'ping13', '2ceiw1dmk6vy3tjnnttlmockers4aphjehxe4szpewsuxfsyb4frsjsa8zbwdsxyhh7', 'metdata', '_medici']...)\n"
     ]
    }
   ],
   "source": [
    "print(dictionary_train)"
   ]
  },
  {
   "cell_type": "markdown",
   "metadata": {
    "collapsed": true
   },
   "source": [
    "Por último creamos el corpus y el corpus tfidf a partir de él"
   ]
  },
  {
   "cell_type": "code",
   "execution_count": 84,
   "metadata": {},
   "outputs": [],
   "source": [
    "corpus_train = create_corpus(dictionary_train, texts_train)"
   ]
  },
  {
   "cell_type": "code",
   "execution_count": 85,
   "metadata": {},
   "outputs": [],
   "source": [
    "corpus_tfidf_train = create_tfidf(corpus_train)"
   ]
  },
  {
   "cell_type": "markdown",
   "metadata": {
    "collapsed": true
   },
   "source": [
    "Con los elementos creados entrenamos el modelo a evaluar"
   ]
  },
  {
   "cell_type": "code",
   "execution_count": 86,
   "metadata": {},
   "outputs": [],
   "source": [
    "model_train = models.LsiModel(corpus_tfidf_train, id2word=dictionary_train, num_topics=TOTAL_LSA_TOPICS)"
   ]
  },
  {
   "cell_type": "markdown",
   "metadata": {
    "collapsed": true
   },
   "source": [
    "Creamos la matriz de similaritud"
   ]
  },
  {
   "cell_type": "code",
   "execution_count": 87,
   "metadata": {},
   "outputs": [],
   "source": [
    "similarity_matrix_train = similarities.MatrixSimilarity(model_train[corpus_tfidf_train])"
   ]
  },
  {
   "cell_type": "markdown",
   "metadata": {
    "collapsed": true
   },
   "source": [
    "Por otra parte definimos otra función que obtiene la predicción para un proyecto y, usando la función anterior, calcula el score de dicha predicción."
   ]
  },
  {
   "cell_type": "code",
   "execution_count": 88,
   "metadata": {},
   "outputs": [],
   "source": [
    "def predict_libraries_from_description(model, dictionary, similarity_matrix, project):\n",
    "    project_similarities = get_similarities_by_description(model, dictionary, similarity_matrix, project['readme_words'])\n",
    "    library_similarities = get_library_similarities(projects, project_similarities, [])\n",
    "    # Ordenar y pasar a lista, tomamos el mismo número de librerías que las que tiene el proyecto real\n",
    "    num_lib = len(project['library'])\n",
    "    project['library_prediction'] = sorted(library_similarities, key=library_similarities.get, reverse=True)[:num_lib]\n",
    "    project['score'] = score(project['library'], project['library_prediction'])"
   ]
  },
  {
   "cell_type": "markdown",
   "metadata": {
    "collapsed": true
   },
   "source": [
    "Finalmente obtenemos la predicción para todos los proyectos del conjunto de entrenamiento, adicionalmente calculamos el score para el modelo"
   ]
  },
  {
   "cell_type": "code",
   "execution_count": 89,
   "metadata": {},
   "outputs": [
    {
     "name": "stdout",
     "output_type": "stream",
     "text": [
      "Processing project 250 of 3000\n",
      "Processing project 500 of 3000\n",
      "Processing project 750 of 3000\n",
      "Processing project 1000 of 3000\n",
      "Processing project 1250 of 3000\n",
      "Processing project 1500 of 3000\n",
      "Processing project 1750 of 3000\n",
      "Processing project 2000 of 3000\n",
      "Processing project 2250 of 3000\n",
      "Processing project 2500 of 3000\n",
      "Processing project 2750 of 3000\n",
      "Processing project 3000 of 3000\n"
     ]
    }
   ],
   "source": [
    "model_score = 0\n",
    "projects_count = len(projects_test)\n",
    "for idx, project in enumerate(projects_test):\n",
    "    if (idx+1) % 250 == 0:\n",
    "        print(\"Processing project {0} of {1}\".format(idx+1, projects_count))\n",
    "    predict_libraries_from_description(model_train, dictionary_train, similarity_matrix_train, project)\n",
    "    model_score += project['score']\n",
    "model_score = model_score/len(projects_test)"
   ]
  },
  {
   "cell_type": "code",
   "execution_count": 90,
   "metadata": {},
   "outputs": [
    {
     "name": "stdout",
     "output_type": "stream",
     "text": [
      "El score obtenido es: 0.2956954523989923\n"
     ]
    }
   ],
   "source": [
    "print('El score obtenido es:',model_score)"
   ]
  },
  {
   "cell_type": "markdown",
   "metadata": {},
   "source": [
    "# Modelo CountVectorizer"
   ]
  },
  {
   "cell_type": "markdown",
   "metadata": {},
   "source": [
    "Como ya se comentó anteriormente, el modelo que construiremos necesita como entrada textos, así que transformamos nuestras listas de librerías en textos, en los que las librerías estarán separados por espacios, esto lo hacemos sólo para los projectos del subconjunto de entrenamiento"
   ]
  },
  {
   "cell_type": "code",
   "execution_count": 91,
   "metadata": {},
   "outputs": [
    {
     "data": {
      "text/plain": [
       "['ast time logging requests awsauth rgwadmin unittest',\n",
       " 'lxml mechanize bugzilla sets boto argparse logging yaml pytest boto3 botocore cfnlambda dateutil']"
      ]
     },
     "execution_count": 91,
     "metadata": {},
     "output_type": "execute_result"
    }
   ],
   "source": [
    "global_texts_train = [\" \".join(project['library']) for project in projects_train]\n",
    "global_texts_train[:2]"
   ]
  },
  {
   "cell_type": "markdown",
   "metadata": {},
   "source": [
    "Creamos el modelo de la misma forma que hicimos anteriormente"
   ]
  },
  {
   "cell_type": "code",
   "execution_count": 92,
   "metadata": {},
   "outputs": [],
   "source": [
    "model_countVectorizer_train = CountVectorizer(min_df=2)"
   ]
  },
  {
   "cell_type": "markdown",
   "metadata": {},
   "source": [
    "Entrenamos el modelo usando la lista de textos calculada"
   ]
  },
  {
   "cell_type": "code",
   "execution_count": 93,
   "metadata": {},
   "outputs": [],
   "source": [
    "data_train = model_countVectorizer_train.fit_transform(global_texts_train)"
   ]
  },
  {
   "cell_type": "markdown",
   "metadata": {},
   "source": [
    "Defimos la función que usando el modelo entrenado y dado un proyecto, haga la predicción de cuales librerías debería usar. Una vez realizada, calculamos el *scoring* comparado con el resultado real."
   ]
  },
  {
   "cell_type": "code",
   "execution_count": 94,
   "metadata": {},
   "outputs": [],
   "source": [
    "def predict_libraries_from_library(model, data, project):\n",
    "    doc_from_library = \" \".join(project['library'])\n",
    "    project_similarities = get_similarities_by_library(data, doc_from_library, model)\n",
    "    library_similarities = get_library_similarities(projects, project_similarities, [])\n",
    "    # Ordenar y pasar a lista, tomamos el mismo número de librerías que las que tiene el proyecto real\n",
    "    num_lib = len(project['library'])\n",
    "    project['library_prediction'] = [library for library in sorted(library_similarities, key=library_similarities.get, reverse=True)[:num_lib]]\n",
    "    project['score'] = score(project['library'], project['library_prediction'])"
   ]
  },
  {
   "cell_type": "markdown",
   "metadata": {},
   "source": [
    "Finalmente, aplicamos la funció de predicción a todos los proyectos del conjunto de tests y calculamos el *scoring* global del proyecto."
   ]
  },
  {
   "cell_type": "code",
   "execution_count": 95,
   "metadata": {},
   "outputs": [
    {
     "name": "stdout",
     "output_type": "stream",
     "text": [
      "Processing project 1 of 3000\n",
      "Processing project 2 of 3000\n",
      "Processing project 3 of 3000\n",
      "Processing project 4 of 3000\n",
      "Processing project 5 of 3000\n",
      "Processing project 6 of 3000\n",
      "Processing project 7 of 3000\n",
      "Processing project 8 of 3000\n",
      "Processing project 9 of 3000\n",
      "Processing project 10 of 3000\n",
      "Processing project 11 of 3000\n",
      "Processing project 12 of 3000\n",
      "Processing project 13 of 3000\n",
      "Processing project 14 of 3000\n",
      "Processing project 15 of 3000\n",
      "Processing project 16 of 3000\n",
      "Processing project 17 of 3000\n",
      "Processing project 18 of 3000\n",
      "Processing project 19 of 3000\n",
      "Processing project 20 of 3000\n",
      "Processing project 21 of 3000\n",
      "Processing project 22 of 3000\n",
      "Processing project 23 of 3000\n",
      "Processing project 24 of 3000\n",
      "Processing project 25 of 3000\n",
      "Processing project 26 of 3000\n",
      "Processing project 27 of 3000\n",
      "Processing project 28 of 3000\n",
      "Processing project 29 of 3000\n",
      "Processing project 30 of 3000\n",
      "Processing project 31 of 3000\n",
      "Processing project 32 of 3000\n",
      "Processing project 33 of 3000\n",
      "Processing project 34 of 3000\n",
      "Processing project 35 of 3000\n",
      "Processing project 36 of 3000\n",
      "Processing project 37 of 3000\n",
      "Processing project 38 of 3000\n",
      "Processing project 39 of 3000\n",
      "Processing project 40 of 3000\n",
      "Processing project 41 of 3000\n",
      "Processing project 42 of 3000\n",
      "Processing project 43 of 3000\n",
      "Processing project 44 of 3000\n",
      "Processing project 45 of 3000\n",
      "Processing project 46 of 3000\n",
      "Processing project 47 of 3000\n",
      "Processing project 48 of 3000\n",
      "Processing project 49 of 3000\n",
      "Processing project 50 of 3000\n",
      "Processing project 51 of 3000\n",
      "Processing project 52 of 3000\n",
      "Processing project 53 of 3000\n",
      "Processing project 54 of 3000\n",
      "Processing project 55 of 3000\n",
      "Processing project 56 of 3000\n",
      "Processing project 57 of 3000\n",
      "Processing project 58 of 3000\n",
      "Processing project 59 of 3000\n",
      "Processing project 60 of 3000\n",
      "Processing project 61 of 3000\n",
      "Processing project 62 of 3000\n",
      "Processing project 63 of 3000\n",
      "Processing project 64 of 3000\n",
      "Processing project 65 of 3000\n",
      "Processing project 66 of 3000\n",
      "Processing project 67 of 3000\n",
      "Processing project 68 of 3000\n",
      "Processing project 69 of 3000\n",
      "Processing project 70 of 3000\n",
      "Processing project 71 of 3000\n",
      "Processing project 72 of 3000\n",
      "Processing project 73 of 3000\n",
      "Processing project 74 of 3000\n",
      "Processing project 75 of 3000\n",
      "Processing project 76 of 3000\n",
      "Processing project 77 of 3000\n",
      "Processing project 78 of 3000\n",
      "Processing project 79 of 3000\n",
      "Processing project 80 of 3000\n",
      "Processing project 81 of 3000\n",
      "Processing project 82 of 3000\n",
      "Processing project 83 of 3000\n",
      "Processing project 84 of 3000\n",
      "Processing project 85 of 3000\n",
      "Processing project 86 of 3000\n",
      "Processing project 87 of 3000\n",
      "Processing project 88 of 3000\n",
      "Processing project 89 of 3000\n",
      "Processing project 90 of 3000\n",
      "Processing project 91 of 3000\n",
      "Processing project 92 of 3000\n",
      "Processing project 93 of 3000\n",
      "Processing project 94 of 3000\n",
      "Processing project 95 of 3000\n",
      "Processing project 96 of 3000\n",
      "Processing project 97 of 3000\n",
      "Processing project 98 of 3000\n",
      "Processing project 99 of 3000\n",
      "Processing project 100 of 3000\n",
      "Processing project 101 of 3000\n",
      "Processing project 102 of 3000\n",
      "Processing project 103 of 3000\n",
      "Processing project 104 of 3000\n",
      "Processing project 105 of 3000\n",
      "Processing project 106 of 3000\n",
      "Processing project 107 of 3000\n",
      "Processing project 108 of 3000\n",
      "Processing project 109 of 3000\n",
      "Processing project 110 of 3000\n",
      "Processing project 111 of 3000\n",
      "Processing project 112 of 3000\n",
      "Processing project 113 of 3000\n",
      "Processing project 114 of 3000\n",
      "Processing project 115 of 3000\n",
      "Processing project 116 of 3000\n",
      "Processing project 117 of 3000\n",
      "Processing project 118 of 3000\n",
      "Processing project 119 of 3000\n",
      "Processing project 120 of 3000\n",
      "Processing project 121 of 3000\n",
      "Processing project 122 of 3000\n",
      "Processing project 123 of 3000\n",
      "Processing project 124 of 3000\n",
      "Processing project 125 of 3000\n",
      "Processing project 126 of 3000\n",
      "Processing project 127 of 3000\n",
      "Processing project 128 of 3000\n",
      "Processing project 129 of 3000\n",
      "Processing project 130 of 3000\n",
      "Processing project 131 of 3000\n",
      "Processing project 132 of 3000\n",
      "Processing project 133 of 3000\n",
      "Processing project 134 of 3000\n",
      "Processing project 135 of 3000\n",
      "Processing project 136 of 3000\n",
      "Processing project 137 of 3000\n",
      "Processing project 138 of 3000\n",
      "Processing project 139 of 3000\n",
      "Processing project 140 of 3000\n",
      "Processing project 141 of 3000\n",
      "Processing project 142 of 3000\n",
      "Processing project 143 of 3000\n",
      "Processing project 144 of 3000\n",
      "Processing project 145 of 3000\n",
      "Processing project 146 of 3000\n",
      "Processing project 147 of 3000\n",
      "Processing project 148 of 3000\n",
      "Processing project 149 of 3000\n",
      "Processing project 150 of 3000\n",
      "Processing project 151 of 3000\n",
      "Processing project 152 of 3000\n",
      "Processing project 153 of 3000\n",
      "Processing project 154 of 3000\n",
      "Processing project 155 of 3000\n",
      "Processing project 156 of 3000\n",
      "Processing project 157 of 3000\n",
      "Processing project 158 of 3000\n",
      "Processing project 159 of 3000\n",
      "Processing project 160 of 3000\n",
      "Processing project 161 of 3000\n",
      "Processing project 162 of 3000\n",
      "Processing project 163 of 3000\n",
      "Processing project 164 of 3000\n",
      "Processing project 165 of 3000\n",
      "Processing project 166 of 3000\n",
      "Processing project 167 of 3000\n",
      "Processing project 168 of 3000\n",
      "Processing project 169 of 3000\n",
      "Processing project 170 of 3000\n",
      "Processing project 171 of 3000\n",
      "Processing project 172 of 3000\n",
      "Processing project 173 of 3000\n",
      "Processing project 174 of 3000\n",
      "Processing project 175 of 3000\n",
      "Processing project 176 of 3000\n",
      "Processing project 177 of 3000\n",
      "Processing project 178 of 3000\n",
      "Processing project 179 of 3000\n",
      "Processing project 180 of 3000\n",
      "Processing project 181 of 3000\n",
      "Processing project 182 of 3000\n",
      "Processing project 183 of 3000\n",
      "Processing project 184 of 3000\n",
      "Processing project 185 of 3000\n",
      "Processing project 186 of 3000\n",
      "Processing project 187 of 3000\n",
      "Processing project 188 of 3000\n",
      "Processing project 189 of 3000\n",
      "Processing project 190 of 3000\n",
      "Processing project 191 of 3000\n",
      "Processing project 192 of 3000\n",
      "Processing project 193 of 3000\n",
      "Processing project 194 of 3000\n",
      "Processing project 195 of 3000\n",
      "Processing project 196 of 3000\n",
      "Processing project 197 of 3000\n",
      "Processing project 198 of 3000\n",
      "Processing project 199 of 3000\n",
      "Processing project 200 of 3000\n",
      "Processing project 201 of 3000\n",
      "Processing project 202 of 3000\n",
      "Processing project 203 of 3000\n",
      "Processing project 204 of 3000\n",
      "Processing project 205 of 3000\n",
      "Processing project 206 of 3000\n",
      "Processing project 207 of 3000\n",
      "Processing project 208 of 3000\n",
      "Processing project 209 of 3000\n",
      "Processing project 210 of 3000\n",
      "Processing project 211 of 3000\n",
      "Processing project 212 of 3000\n",
      "Processing project 213 of 3000\n",
      "Processing project 214 of 3000\n",
      "Processing project 215 of 3000\n",
      "Processing project 216 of 3000\n",
      "Processing project 217 of 3000\n",
      "Processing project 218 of 3000\n",
      "Processing project 219 of 3000\n",
      "Processing project 220 of 3000\n",
      "Processing project 221 of 3000\n",
      "Processing project 222 of 3000\n",
      "Processing project 223 of 3000\n",
      "Processing project 224 of 3000\n",
      "Processing project 225 of 3000\n",
      "Processing project 226 of 3000\n",
      "Processing project 227 of 3000\n",
      "Processing project 228 of 3000\n",
      "Processing project 229 of 3000\n",
      "Processing project 230 of 3000\n",
      "Processing project 231 of 3000\n",
      "Processing project 232 of 3000\n",
      "Processing project 233 of 3000\n",
      "Processing project 234 of 3000\n",
      "Processing project 235 of 3000\n",
      "Processing project 236 of 3000\n",
      "Processing project 237 of 3000\n",
      "Processing project 238 of 3000\n",
      "Processing project 239 of 3000\n",
      "Processing project 240 of 3000\n",
      "Processing project 241 of 3000\n",
      "Processing project 242 of 3000\n",
      "Processing project 243 of 3000\n",
      "Processing project 244 of 3000\n",
      "Processing project 245 of 3000\n",
      "Processing project 246 of 3000\n",
      "Processing project 247 of 3000\n",
      "Processing project 248 of 3000\n",
      "Processing project 249 of 3000\n",
      "Processing project 250 of 3000\n",
      "Processing project 251 of 3000\n",
      "Processing project 252 of 3000\n",
      "Processing project 253 of 3000\n",
      "Processing project 254 of 3000\n",
      "Processing project 255 of 3000\n",
      "Processing project 256 of 3000\n",
      "Processing project 257 of 3000\n",
      "Processing project 258 of 3000\n",
      "Processing project 259 of 3000\n",
      "Processing project 260 of 3000\n",
      "Processing project 261 of 3000\n",
      "Processing project 262 of 3000\n",
      "Processing project 263 of 3000\n",
      "Processing project 264 of 3000\n",
      "Processing project 265 of 3000\n",
      "Processing project 266 of 3000\n",
      "Processing project 267 of 3000\n",
      "Processing project 268 of 3000\n"
     ]
    },
    {
     "name": "stdout",
     "output_type": "stream",
     "text": [
      "Processing project 269 of 3000\n",
      "Processing project 270 of 3000\n",
      "Processing project 271 of 3000\n",
      "Processing project 272 of 3000\n",
      "Processing project 273 of 3000\n",
      "Processing project 274 of 3000\n",
      "Processing project 275 of 3000\n",
      "Processing project 276 of 3000\n",
      "Processing project 277 of 3000\n",
      "Processing project 278 of 3000\n",
      "Processing project 279 of 3000\n",
      "Processing project 280 of 3000\n",
      "Processing project 281 of 3000\n",
      "Processing project 282 of 3000\n",
      "Processing project 283 of 3000\n",
      "Processing project 284 of 3000\n",
      "Processing project 285 of 3000\n",
      "Processing project 286 of 3000\n",
      "Processing project 287 of 3000\n",
      "Processing project 288 of 3000\n",
      "Processing project 289 of 3000\n",
      "Processing project 290 of 3000\n",
      "Processing project 291 of 3000\n",
      "Processing project 292 of 3000\n",
      "Processing project 293 of 3000\n",
      "Processing project 294 of 3000\n",
      "Processing project 295 of 3000\n",
      "Processing project 296 of 3000\n",
      "Processing project 297 of 3000\n",
      "Processing project 298 of 3000\n",
      "Processing project 299 of 3000\n",
      "Processing project 300 of 3000\n",
      "Processing project 301 of 3000\n",
      "Processing project 302 of 3000\n",
      "Processing project 303 of 3000\n",
      "Processing project 304 of 3000\n",
      "Processing project 305 of 3000\n",
      "Processing project 306 of 3000\n",
      "Processing project 307 of 3000\n",
      "Processing project 308 of 3000\n",
      "Processing project 309 of 3000\n",
      "Processing project 310 of 3000\n",
      "Processing project 311 of 3000\n",
      "Processing project 312 of 3000\n",
      "Processing project 313 of 3000\n",
      "Processing project 314 of 3000\n",
      "Processing project 315 of 3000\n",
      "Processing project 316 of 3000\n",
      "Processing project 317 of 3000\n",
      "Processing project 318 of 3000\n",
      "Processing project 319 of 3000\n",
      "Processing project 320 of 3000\n",
      "Processing project 321 of 3000\n",
      "Processing project 322 of 3000\n",
      "Processing project 323 of 3000\n",
      "Processing project 324 of 3000\n",
      "Processing project 325 of 3000\n",
      "Processing project 326 of 3000\n",
      "Processing project 327 of 3000\n",
      "Processing project 328 of 3000\n",
      "Processing project 329 of 3000\n",
      "Processing project 330 of 3000\n",
      "Processing project 331 of 3000\n",
      "Processing project 332 of 3000\n",
      "Processing project 333 of 3000\n",
      "Processing project 334 of 3000\n",
      "Processing project 335 of 3000\n",
      "Processing project 336 of 3000\n",
      "Processing project 337 of 3000\n",
      "Processing project 338 of 3000\n",
      "Processing project 339 of 3000\n",
      "Processing project 340 of 3000\n",
      "Processing project 341 of 3000\n",
      "Processing project 342 of 3000\n",
      "Processing project 343 of 3000\n",
      "Processing project 344 of 3000\n",
      "Processing project 345 of 3000\n",
      "Processing project 346 of 3000\n",
      "Processing project 347 of 3000\n",
      "Processing project 348 of 3000\n",
      "Processing project 349 of 3000\n",
      "Processing project 350 of 3000\n",
      "Processing project 351 of 3000\n",
      "Processing project 352 of 3000\n",
      "Processing project 353 of 3000\n",
      "Processing project 354 of 3000\n",
      "Processing project 355 of 3000\n",
      "Processing project 356 of 3000\n",
      "Processing project 357 of 3000\n",
      "Processing project 358 of 3000\n",
      "Processing project 359 of 3000\n",
      "Processing project 360 of 3000\n",
      "Processing project 361 of 3000\n",
      "Processing project 362 of 3000\n",
      "Processing project 363 of 3000\n",
      "Processing project 364 of 3000\n",
      "Processing project 365 of 3000\n",
      "Processing project 366 of 3000\n",
      "Processing project 367 of 3000\n",
      "Processing project 368 of 3000\n",
      "Processing project 369 of 3000\n",
      "Processing project 370 of 3000\n",
      "Processing project 371 of 3000\n",
      "Processing project 372 of 3000\n",
      "Processing project 373 of 3000\n",
      "Processing project 374 of 3000\n",
      "Processing project 375 of 3000\n",
      "Processing project 376 of 3000\n",
      "Processing project 377 of 3000\n",
      "Processing project 378 of 3000\n",
      "Processing project 379 of 3000\n",
      "Processing project 380 of 3000\n",
      "Processing project 381 of 3000\n",
      "Processing project 382 of 3000\n",
      "Processing project 383 of 3000\n",
      "Processing project 384 of 3000\n",
      "Processing project 385 of 3000\n",
      "Processing project 386 of 3000\n",
      "Processing project 387 of 3000\n",
      "Processing project 388 of 3000\n",
      "Processing project 389 of 3000\n",
      "Processing project 390 of 3000\n",
      "Processing project 391 of 3000\n",
      "Processing project 392 of 3000\n",
      "Processing project 393 of 3000\n",
      "Processing project 394 of 3000\n",
      "Processing project 395 of 3000\n",
      "Processing project 396 of 3000\n",
      "Processing project 397 of 3000\n",
      "Processing project 398 of 3000\n",
      "Processing project 399 of 3000\n",
      "Processing project 400 of 3000\n",
      "Processing project 401 of 3000\n",
      "Processing project 402 of 3000\n",
      "Processing project 403 of 3000\n",
      "Processing project 404 of 3000\n",
      "Processing project 405 of 3000\n",
      "Processing project 406 of 3000\n",
      "Processing project 407 of 3000\n",
      "Processing project 408 of 3000\n",
      "Processing project 409 of 3000\n",
      "Processing project 410 of 3000\n",
      "Processing project 411 of 3000\n",
      "Processing project 412 of 3000\n",
      "Processing project 413 of 3000\n",
      "Processing project 414 of 3000\n",
      "Processing project 415 of 3000\n",
      "Processing project 416 of 3000\n",
      "Processing project 417 of 3000\n",
      "Processing project 418 of 3000\n",
      "Processing project 419 of 3000\n",
      "Processing project 420 of 3000\n",
      "Processing project 421 of 3000\n",
      "Processing project 422 of 3000\n",
      "Processing project 423 of 3000\n",
      "Processing project 424 of 3000\n",
      "Processing project 425 of 3000\n",
      "Processing project 426 of 3000\n",
      "Processing project 427 of 3000\n",
      "Processing project 428 of 3000\n",
      "Processing project 429 of 3000\n",
      "Processing project 430 of 3000\n",
      "Processing project 431 of 3000\n",
      "Processing project 432 of 3000\n",
      "Processing project 433 of 3000\n",
      "Processing project 434 of 3000\n",
      "Processing project 435 of 3000\n",
      "Processing project 436 of 3000\n",
      "Processing project 437 of 3000\n",
      "Processing project 438 of 3000\n",
      "Processing project 439 of 3000\n",
      "Processing project 440 of 3000\n",
      "Processing project 441 of 3000\n",
      "Processing project 442 of 3000\n",
      "Processing project 443 of 3000\n",
      "Processing project 444 of 3000\n",
      "Processing project 445 of 3000\n",
      "Processing project 446 of 3000\n",
      "Processing project 447 of 3000\n",
      "Processing project 448 of 3000\n",
      "Processing project 449 of 3000\n",
      "Processing project 450 of 3000\n",
      "Processing project 451 of 3000\n",
      "Processing project 452 of 3000\n",
      "Processing project 453 of 3000\n",
      "Processing project 454 of 3000\n",
      "Processing project 455 of 3000\n",
      "Processing project 456 of 3000\n",
      "Processing project 457 of 3000\n",
      "Processing project 458 of 3000\n",
      "Processing project 459 of 3000\n",
      "Processing project 460 of 3000\n",
      "Processing project 461 of 3000\n",
      "Processing project 462 of 3000\n",
      "Processing project 463 of 3000\n",
      "Processing project 464 of 3000\n",
      "Processing project 465 of 3000\n",
      "Processing project 466 of 3000\n",
      "Processing project 467 of 3000\n",
      "Processing project 468 of 3000\n",
      "Processing project 469 of 3000\n",
      "Processing project 470 of 3000\n",
      "Processing project 471 of 3000\n",
      "Processing project 472 of 3000\n",
      "Processing project 473 of 3000\n",
      "Processing project 474 of 3000\n",
      "Processing project 475 of 3000\n",
      "Processing project 476 of 3000\n",
      "Processing project 477 of 3000\n",
      "Processing project 478 of 3000\n",
      "Processing project 479 of 3000\n",
      "Processing project 480 of 3000\n",
      "Processing project 481 of 3000\n",
      "Processing project 482 of 3000\n",
      "Processing project 483 of 3000\n",
      "Processing project 484 of 3000\n",
      "Processing project 485 of 3000\n",
      "Processing project 486 of 3000\n",
      "Processing project 487 of 3000\n",
      "Processing project 488 of 3000\n",
      "Processing project 489 of 3000\n",
      "Processing project 490 of 3000\n",
      "Processing project 491 of 3000\n",
      "Processing project 492 of 3000\n",
      "Processing project 493 of 3000\n",
      "Processing project 494 of 3000\n",
      "Processing project 495 of 3000\n",
      "Processing project 496 of 3000\n",
      "Processing project 497 of 3000\n",
      "Processing project 498 of 3000\n",
      "Processing project 499 of 3000\n",
      "Processing project 500 of 3000\n",
      "Processing project 501 of 3000\n",
      "Processing project 502 of 3000\n",
      "Processing project 503 of 3000\n",
      "Processing project 504 of 3000\n",
      "Processing project 505 of 3000\n",
      "Processing project 506 of 3000\n",
      "Processing project 507 of 3000\n",
      "Processing project 508 of 3000\n",
      "Processing project 509 of 3000\n",
      "Processing project 510 of 3000\n",
      "Processing project 511 of 3000\n",
      "Processing project 512 of 3000\n",
      "Processing project 513 of 3000\n",
      "Processing project 514 of 3000\n",
      "Processing project 515 of 3000\n",
      "Processing project 516 of 3000\n",
      "Processing project 517 of 3000\n",
      "Processing project 518 of 3000\n",
      "Processing project 519 of 3000\n",
      "Processing project 520 of 3000\n",
      "Processing project 521 of 3000\n",
      "Processing project 522 of 3000\n",
      "Processing project 523 of 3000\n",
      "Processing project 524 of 3000\n",
      "Processing project 525 of 3000\n",
      "Processing project 526 of 3000\n",
      "Processing project 527 of 3000\n",
      "Processing project 528 of 3000\n",
      "Processing project 529 of 3000\n",
      "Processing project 530 of 3000\n",
      "Processing project 531 of 3000\n",
      "Processing project 532 of 3000\n",
      "Processing project 533 of 3000\n"
     ]
    },
    {
     "name": "stdout",
     "output_type": "stream",
     "text": [
      "Processing project 534 of 3000\n",
      "Processing project 535 of 3000\n",
      "Processing project 536 of 3000\n",
      "Processing project 537 of 3000\n",
      "Processing project 538 of 3000\n",
      "Processing project 539 of 3000\n",
      "Processing project 540 of 3000\n",
      "Processing project 541 of 3000\n",
      "Processing project 542 of 3000\n",
      "Processing project 543 of 3000\n",
      "Processing project 544 of 3000\n",
      "Processing project 545 of 3000\n",
      "Processing project 546 of 3000\n",
      "Processing project 547 of 3000\n",
      "Processing project 548 of 3000\n",
      "Processing project 549 of 3000\n",
      "Processing project 550 of 3000\n",
      "Processing project 551 of 3000\n",
      "Processing project 552 of 3000\n",
      "Processing project 553 of 3000\n",
      "Processing project 554 of 3000\n",
      "Processing project 555 of 3000\n",
      "Processing project 556 of 3000\n",
      "Processing project 557 of 3000\n",
      "Processing project 558 of 3000\n",
      "Processing project 559 of 3000\n",
      "Processing project 560 of 3000\n",
      "Processing project 561 of 3000\n",
      "Processing project 562 of 3000\n",
      "Processing project 563 of 3000\n",
      "Processing project 564 of 3000\n",
      "Processing project 565 of 3000\n",
      "Processing project 566 of 3000\n",
      "Processing project 567 of 3000\n",
      "Processing project 568 of 3000\n",
      "Processing project 569 of 3000\n",
      "Processing project 570 of 3000\n",
      "Processing project 571 of 3000\n",
      "Processing project 572 of 3000\n",
      "Processing project 573 of 3000\n",
      "Processing project 574 of 3000\n",
      "Processing project 575 of 3000\n",
      "Processing project 576 of 3000\n",
      "Processing project 577 of 3000\n",
      "Processing project 578 of 3000\n",
      "Processing project 579 of 3000\n",
      "Processing project 580 of 3000\n",
      "Processing project 581 of 3000\n",
      "Processing project 582 of 3000\n",
      "Processing project 583 of 3000\n",
      "Processing project 584 of 3000\n",
      "Processing project 585 of 3000\n",
      "Processing project 586 of 3000\n",
      "Processing project 587 of 3000\n",
      "Processing project 588 of 3000\n",
      "Processing project 589 of 3000\n",
      "Processing project 590 of 3000\n",
      "Processing project 591 of 3000\n",
      "Processing project 592 of 3000\n",
      "Processing project 593 of 3000\n",
      "Processing project 594 of 3000\n",
      "Processing project 595 of 3000\n",
      "Processing project 596 of 3000\n",
      "Processing project 597 of 3000\n",
      "Processing project 598 of 3000\n",
      "Processing project 599 of 3000\n",
      "Processing project 600 of 3000\n",
      "Processing project 601 of 3000\n",
      "Processing project 602 of 3000\n",
      "Processing project 603 of 3000\n",
      "Processing project 604 of 3000\n",
      "Processing project 605 of 3000\n",
      "Processing project 606 of 3000\n",
      "Processing project 607 of 3000\n",
      "Processing project 608 of 3000\n",
      "Processing project 609 of 3000\n",
      "Processing project 610 of 3000\n",
      "Processing project 611 of 3000\n",
      "Processing project 612 of 3000\n",
      "Processing project 613 of 3000\n",
      "Processing project 614 of 3000\n",
      "Processing project 615 of 3000\n",
      "Processing project 616 of 3000\n",
      "Processing project 617 of 3000\n",
      "Processing project 618 of 3000\n",
      "Processing project 619 of 3000\n",
      "Processing project 620 of 3000\n",
      "Processing project 621 of 3000\n",
      "Processing project 622 of 3000\n",
      "Processing project 623 of 3000\n",
      "Processing project 624 of 3000\n",
      "Processing project 625 of 3000\n",
      "Processing project 626 of 3000\n",
      "Processing project 627 of 3000\n",
      "Processing project 628 of 3000\n",
      "Processing project 629 of 3000\n",
      "Processing project 630 of 3000\n",
      "Processing project 631 of 3000\n",
      "Processing project 632 of 3000\n",
      "Processing project 633 of 3000\n",
      "Processing project 634 of 3000\n",
      "Processing project 635 of 3000\n",
      "Processing project 636 of 3000\n",
      "Processing project 637 of 3000\n",
      "Processing project 638 of 3000\n",
      "Processing project 639 of 3000\n",
      "Processing project 640 of 3000\n",
      "Processing project 641 of 3000\n",
      "Processing project 642 of 3000\n",
      "Processing project 643 of 3000\n",
      "Processing project 644 of 3000\n",
      "Processing project 645 of 3000\n",
      "Processing project 646 of 3000\n",
      "Processing project 647 of 3000\n",
      "Processing project 648 of 3000\n",
      "Processing project 649 of 3000\n",
      "Processing project 650 of 3000\n",
      "Processing project 651 of 3000\n",
      "Processing project 652 of 3000\n",
      "Processing project 653 of 3000\n",
      "Processing project 654 of 3000\n",
      "Processing project 655 of 3000\n",
      "Processing project 656 of 3000\n",
      "Processing project 657 of 3000\n",
      "Processing project 658 of 3000\n",
      "Processing project 659 of 3000\n",
      "Processing project 660 of 3000\n",
      "Processing project 661 of 3000\n",
      "Processing project 662 of 3000\n",
      "Processing project 663 of 3000\n",
      "Processing project 664 of 3000\n",
      "Processing project 665 of 3000\n",
      "Processing project 666 of 3000\n",
      "Processing project 667 of 3000\n",
      "Processing project 668 of 3000\n",
      "Processing project 669 of 3000\n",
      "Processing project 670 of 3000\n",
      "Processing project 671 of 3000\n",
      "Processing project 672 of 3000\n",
      "Processing project 673 of 3000\n",
      "Processing project 674 of 3000\n",
      "Processing project 675 of 3000\n",
      "Processing project 676 of 3000\n",
      "Processing project 677 of 3000\n",
      "Processing project 678 of 3000\n",
      "Processing project 679 of 3000\n",
      "Processing project 680 of 3000\n",
      "Processing project 681 of 3000\n",
      "Processing project 682 of 3000\n",
      "Processing project 683 of 3000\n",
      "Processing project 684 of 3000\n",
      "Processing project 685 of 3000\n",
      "Processing project 686 of 3000\n",
      "Processing project 687 of 3000\n",
      "Processing project 688 of 3000\n",
      "Processing project 689 of 3000\n",
      "Processing project 690 of 3000\n",
      "Processing project 691 of 3000\n",
      "Processing project 692 of 3000\n",
      "Processing project 693 of 3000\n",
      "Processing project 694 of 3000\n",
      "Processing project 695 of 3000\n",
      "Processing project 696 of 3000\n",
      "Processing project 697 of 3000\n",
      "Processing project 698 of 3000\n",
      "Processing project 699 of 3000\n",
      "Processing project 700 of 3000\n",
      "Processing project 701 of 3000\n",
      "Processing project 702 of 3000\n",
      "Processing project 703 of 3000\n",
      "Processing project 704 of 3000\n",
      "Processing project 705 of 3000\n",
      "Processing project 706 of 3000\n",
      "Processing project 707 of 3000\n",
      "Processing project 708 of 3000\n",
      "Processing project 709 of 3000\n",
      "Processing project 710 of 3000\n",
      "Processing project 711 of 3000\n",
      "Processing project 712 of 3000\n",
      "Processing project 713 of 3000\n",
      "Processing project 714 of 3000\n",
      "Processing project 715 of 3000\n",
      "Processing project 716 of 3000\n",
      "Processing project 717 of 3000\n",
      "Processing project 718 of 3000\n",
      "Processing project 719 of 3000\n",
      "Processing project 720 of 3000\n",
      "Processing project 721 of 3000\n",
      "Processing project 722 of 3000\n",
      "Processing project 723 of 3000\n",
      "Processing project 724 of 3000\n",
      "Processing project 725 of 3000\n",
      "Processing project 726 of 3000\n",
      "Processing project 727 of 3000\n",
      "Processing project 728 of 3000\n",
      "Processing project 729 of 3000\n",
      "Processing project 730 of 3000\n",
      "Processing project 731 of 3000\n",
      "Processing project 732 of 3000\n",
      "Processing project 733 of 3000\n",
      "Processing project 734 of 3000\n",
      "Processing project 735 of 3000\n",
      "Processing project 736 of 3000\n",
      "Processing project 737 of 3000\n",
      "Processing project 738 of 3000\n",
      "Processing project 739 of 3000\n",
      "Processing project 740 of 3000\n",
      "Processing project 741 of 3000\n",
      "Processing project 742 of 3000\n",
      "Processing project 743 of 3000\n",
      "Processing project 744 of 3000\n",
      "Processing project 745 of 3000\n",
      "Processing project 746 of 3000\n",
      "Processing project 747 of 3000\n",
      "Processing project 748 of 3000\n",
      "Processing project 749 of 3000\n",
      "Processing project 750 of 3000\n",
      "Processing project 751 of 3000\n",
      "Processing project 752 of 3000\n",
      "Processing project 753 of 3000\n",
      "Processing project 754 of 3000\n",
      "Processing project 755 of 3000\n",
      "Processing project 756 of 3000\n",
      "Processing project 757 of 3000\n",
      "Processing project 758 of 3000\n",
      "Processing project 759 of 3000\n",
      "Processing project 760 of 3000\n",
      "Processing project 761 of 3000\n",
      "Processing project 762 of 3000\n",
      "Processing project 763 of 3000\n",
      "Processing project 764 of 3000\n",
      "Processing project 765 of 3000\n",
      "Processing project 766 of 3000\n",
      "Processing project 767 of 3000\n",
      "Processing project 768 of 3000\n",
      "Processing project 769 of 3000\n",
      "Processing project 770 of 3000\n",
      "Processing project 771 of 3000\n",
      "Processing project 772 of 3000\n",
      "Processing project 773 of 3000\n",
      "Processing project 774 of 3000\n",
      "Processing project 775 of 3000\n",
      "Processing project 776 of 3000\n",
      "Processing project 777 of 3000\n",
      "Processing project 778 of 3000\n",
      "Processing project 779 of 3000\n",
      "Processing project 780 of 3000\n",
      "Processing project 781 of 3000\n",
      "Processing project 782 of 3000\n",
      "Processing project 783 of 3000\n",
      "Processing project 784 of 3000\n",
      "Processing project 785 of 3000\n",
      "Processing project 786 of 3000\n",
      "Processing project 787 of 3000\n",
      "Processing project 788 of 3000\n",
      "Processing project 789 of 3000\n",
      "Processing project 790 of 3000\n",
      "Processing project 791 of 3000\n",
      "Processing project 792 of 3000\n",
      "Processing project 793 of 3000\n",
      "Processing project 794 of 3000\n",
      "Processing project 795 of 3000\n",
      "Processing project 796 of 3000\n",
      "Processing project 797 of 3000\n",
      "Processing project 798 of 3000\n"
     ]
    },
    {
     "name": "stdout",
     "output_type": "stream",
     "text": [
      "Processing project 799 of 3000\n",
      "Processing project 800 of 3000\n",
      "Processing project 801 of 3000\n",
      "Processing project 802 of 3000\n",
      "Processing project 803 of 3000\n",
      "Processing project 804 of 3000\n",
      "Processing project 805 of 3000\n",
      "Processing project 806 of 3000\n",
      "Processing project 807 of 3000\n",
      "Processing project 808 of 3000\n",
      "Processing project 809 of 3000\n",
      "Processing project 810 of 3000\n",
      "Processing project 811 of 3000\n",
      "Processing project 812 of 3000\n",
      "Processing project 813 of 3000\n",
      "Processing project 814 of 3000\n",
      "Processing project 815 of 3000\n",
      "Processing project 816 of 3000\n",
      "Processing project 817 of 3000\n",
      "Processing project 818 of 3000\n",
      "Processing project 819 of 3000\n",
      "Processing project 820 of 3000\n",
      "Processing project 821 of 3000\n",
      "Processing project 822 of 3000\n",
      "Processing project 823 of 3000\n",
      "Processing project 824 of 3000\n",
      "Processing project 825 of 3000\n",
      "Processing project 826 of 3000\n",
      "Processing project 827 of 3000\n",
      "Processing project 828 of 3000\n",
      "Processing project 829 of 3000\n",
      "Processing project 830 of 3000\n",
      "Processing project 831 of 3000\n",
      "Processing project 832 of 3000\n",
      "Processing project 833 of 3000\n",
      "Processing project 834 of 3000\n",
      "Processing project 835 of 3000\n",
      "Processing project 836 of 3000\n",
      "Processing project 837 of 3000\n",
      "Processing project 838 of 3000\n",
      "Processing project 839 of 3000\n",
      "Processing project 840 of 3000\n",
      "Processing project 841 of 3000\n",
      "Processing project 842 of 3000\n",
      "Processing project 843 of 3000\n",
      "Processing project 844 of 3000\n",
      "Processing project 845 of 3000\n",
      "Processing project 846 of 3000\n",
      "Processing project 847 of 3000\n",
      "Processing project 848 of 3000\n",
      "Processing project 849 of 3000\n",
      "Processing project 850 of 3000\n",
      "Processing project 851 of 3000\n",
      "Processing project 852 of 3000\n",
      "Processing project 853 of 3000\n",
      "Processing project 854 of 3000\n",
      "Processing project 855 of 3000\n",
      "Processing project 856 of 3000\n",
      "Processing project 857 of 3000\n",
      "Processing project 858 of 3000\n",
      "Processing project 859 of 3000\n",
      "Processing project 860 of 3000\n",
      "Processing project 861 of 3000\n",
      "Processing project 862 of 3000\n",
      "Processing project 863 of 3000\n",
      "Processing project 864 of 3000\n",
      "Processing project 865 of 3000\n",
      "Processing project 866 of 3000\n",
      "Processing project 867 of 3000\n",
      "Processing project 868 of 3000\n",
      "Processing project 869 of 3000\n",
      "Processing project 870 of 3000\n",
      "Processing project 871 of 3000\n",
      "Processing project 872 of 3000\n",
      "Processing project 873 of 3000\n",
      "Processing project 874 of 3000\n",
      "Processing project 875 of 3000\n",
      "Processing project 876 of 3000\n",
      "Processing project 877 of 3000\n",
      "Processing project 878 of 3000\n",
      "Processing project 879 of 3000\n",
      "Processing project 880 of 3000\n",
      "Processing project 881 of 3000\n",
      "Processing project 882 of 3000\n",
      "Processing project 883 of 3000\n",
      "Processing project 884 of 3000\n",
      "Processing project 885 of 3000\n",
      "Processing project 886 of 3000\n",
      "Processing project 887 of 3000\n",
      "Processing project 888 of 3000\n",
      "Processing project 889 of 3000\n",
      "Processing project 890 of 3000\n",
      "Processing project 891 of 3000\n",
      "Processing project 892 of 3000\n",
      "Processing project 893 of 3000\n",
      "Processing project 894 of 3000\n",
      "Processing project 895 of 3000\n",
      "Processing project 896 of 3000\n",
      "Processing project 897 of 3000\n",
      "Processing project 898 of 3000\n",
      "Processing project 899 of 3000\n",
      "Processing project 900 of 3000\n",
      "Processing project 901 of 3000\n",
      "Processing project 902 of 3000\n",
      "Processing project 903 of 3000\n",
      "Processing project 904 of 3000\n",
      "Processing project 905 of 3000\n",
      "Processing project 906 of 3000\n",
      "Processing project 907 of 3000\n",
      "Processing project 908 of 3000\n",
      "Processing project 909 of 3000\n",
      "Processing project 910 of 3000\n",
      "Processing project 911 of 3000\n",
      "Processing project 912 of 3000\n",
      "Processing project 913 of 3000\n",
      "Processing project 914 of 3000\n",
      "Processing project 915 of 3000\n",
      "Processing project 916 of 3000\n",
      "Processing project 917 of 3000\n",
      "Processing project 918 of 3000\n",
      "Processing project 919 of 3000\n",
      "Processing project 920 of 3000\n",
      "Processing project 921 of 3000\n",
      "Processing project 922 of 3000\n",
      "Processing project 923 of 3000\n",
      "Processing project 924 of 3000\n",
      "Processing project 925 of 3000\n",
      "Processing project 926 of 3000\n",
      "Processing project 927 of 3000\n",
      "Processing project 928 of 3000\n",
      "Processing project 929 of 3000\n",
      "Processing project 930 of 3000\n",
      "Processing project 931 of 3000\n",
      "Processing project 932 of 3000\n",
      "Processing project 933 of 3000\n",
      "Processing project 934 of 3000\n",
      "Processing project 935 of 3000\n",
      "Processing project 936 of 3000\n",
      "Processing project 937 of 3000\n",
      "Processing project 938 of 3000\n",
      "Processing project 939 of 3000\n",
      "Processing project 940 of 3000\n",
      "Processing project 941 of 3000\n",
      "Processing project 942 of 3000\n",
      "Processing project 943 of 3000\n",
      "Processing project 944 of 3000\n",
      "Processing project 945 of 3000\n",
      "Processing project 946 of 3000\n",
      "Processing project 947 of 3000\n",
      "Processing project 948 of 3000\n",
      "Processing project 949 of 3000\n",
      "Processing project 950 of 3000\n",
      "Processing project 951 of 3000\n",
      "Processing project 952 of 3000\n",
      "Processing project 953 of 3000\n",
      "Processing project 954 of 3000\n",
      "Processing project 955 of 3000\n",
      "Processing project 956 of 3000\n",
      "Processing project 957 of 3000\n",
      "Processing project 958 of 3000\n",
      "Processing project 959 of 3000\n",
      "Processing project 960 of 3000\n",
      "Processing project 961 of 3000\n",
      "Processing project 962 of 3000\n",
      "Processing project 963 of 3000\n",
      "Processing project 964 of 3000\n",
      "Processing project 965 of 3000\n",
      "Processing project 966 of 3000\n",
      "Processing project 967 of 3000\n",
      "Processing project 968 of 3000\n",
      "Processing project 969 of 3000\n",
      "Processing project 970 of 3000\n",
      "Processing project 971 of 3000\n",
      "Processing project 972 of 3000\n",
      "Processing project 973 of 3000\n",
      "Processing project 974 of 3000\n",
      "Processing project 975 of 3000\n",
      "Processing project 976 of 3000\n",
      "Processing project 977 of 3000\n",
      "Processing project 978 of 3000\n",
      "Processing project 979 of 3000\n",
      "Processing project 980 of 3000\n",
      "Processing project 981 of 3000\n",
      "Processing project 982 of 3000\n",
      "Processing project 983 of 3000\n",
      "Processing project 984 of 3000\n",
      "Processing project 985 of 3000\n",
      "Processing project 986 of 3000\n",
      "Processing project 987 of 3000\n",
      "Processing project 988 of 3000\n",
      "Processing project 989 of 3000\n",
      "Processing project 990 of 3000\n",
      "Processing project 991 of 3000\n",
      "Processing project 992 of 3000\n",
      "Processing project 993 of 3000\n",
      "Processing project 994 of 3000\n",
      "Processing project 995 of 3000\n",
      "Processing project 996 of 3000\n",
      "Processing project 997 of 3000\n",
      "Processing project 998 of 3000\n",
      "Processing project 999 of 3000\n",
      "Processing project 1000 of 3000\n",
      "Processing project 1001 of 3000\n",
      "Processing project 1002 of 3000\n",
      "Processing project 1003 of 3000\n",
      "Processing project 1004 of 3000\n",
      "Processing project 1005 of 3000\n",
      "Processing project 1006 of 3000\n",
      "Processing project 1007 of 3000\n",
      "Processing project 1008 of 3000\n",
      "Processing project 1009 of 3000\n",
      "Processing project 1010 of 3000\n",
      "Processing project 1011 of 3000\n",
      "Processing project 1012 of 3000\n",
      "Processing project 1013 of 3000\n",
      "Processing project 1014 of 3000\n",
      "Processing project 1015 of 3000\n",
      "Processing project 1016 of 3000\n",
      "Processing project 1017 of 3000\n",
      "Processing project 1018 of 3000\n",
      "Processing project 1019 of 3000\n",
      "Processing project 1020 of 3000\n",
      "Processing project 1021 of 3000\n",
      "Processing project 1022 of 3000\n",
      "Processing project 1023 of 3000\n",
      "Processing project 1024 of 3000\n",
      "Processing project 1025 of 3000\n",
      "Processing project 1026 of 3000\n",
      "Processing project 1027 of 3000\n",
      "Processing project 1028 of 3000\n",
      "Processing project 1029 of 3000\n",
      "Processing project 1030 of 3000\n",
      "Processing project 1031 of 3000\n",
      "Processing project 1032 of 3000\n",
      "Processing project 1033 of 3000\n",
      "Processing project 1034 of 3000\n",
      "Processing project 1035 of 3000\n",
      "Processing project 1036 of 3000\n",
      "Processing project 1037 of 3000\n",
      "Processing project 1038 of 3000\n",
      "Processing project 1039 of 3000\n",
      "Processing project 1040 of 3000\n",
      "Processing project 1041 of 3000\n",
      "Processing project 1042 of 3000\n",
      "Processing project 1043 of 3000\n",
      "Processing project 1044 of 3000\n",
      "Processing project 1045 of 3000\n",
      "Processing project 1046 of 3000\n",
      "Processing project 1047 of 3000\n",
      "Processing project 1048 of 3000\n",
      "Processing project 1049 of 3000\n",
      "Processing project 1050 of 3000\n",
      "Processing project 1051 of 3000\n",
      "Processing project 1052 of 3000\n",
      "Processing project 1053 of 3000\n",
      "Processing project 1054 of 3000\n",
      "Processing project 1055 of 3000\n",
      "Processing project 1056 of 3000\n",
      "Processing project 1057 of 3000\n",
      "Processing project 1058 of 3000\n",
      "Processing project 1059 of 3000\n",
      "Processing project 1060 of 3000\n",
      "Processing project 1061 of 3000\n"
     ]
    },
    {
     "name": "stdout",
     "output_type": "stream",
     "text": [
      "Processing project 1062 of 3000\n",
      "Processing project 1063 of 3000\n",
      "Processing project 1064 of 3000\n",
      "Processing project 1065 of 3000\n",
      "Processing project 1066 of 3000\n",
      "Processing project 1067 of 3000\n",
      "Processing project 1068 of 3000\n",
      "Processing project 1069 of 3000\n",
      "Processing project 1070 of 3000\n",
      "Processing project 1071 of 3000\n",
      "Processing project 1072 of 3000\n",
      "Processing project 1073 of 3000\n",
      "Processing project 1074 of 3000\n",
      "Processing project 1075 of 3000\n",
      "Processing project 1076 of 3000\n",
      "Processing project 1077 of 3000\n",
      "Processing project 1078 of 3000\n",
      "Processing project 1079 of 3000\n",
      "Processing project 1080 of 3000\n",
      "Processing project 1081 of 3000\n",
      "Processing project 1082 of 3000\n",
      "Processing project 1083 of 3000\n",
      "Processing project 1084 of 3000\n",
      "Processing project 1085 of 3000\n",
      "Processing project 1086 of 3000\n",
      "Processing project 1087 of 3000\n",
      "Processing project 1088 of 3000\n",
      "Processing project 1089 of 3000\n",
      "Processing project 1090 of 3000\n",
      "Processing project 1091 of 3000\n",
      "Processing project 1092 of 3000\n",
      "Processing project 1093 of 3000\n",
      "Processing project 1094 of 3000\n",
      "Processing project 1095 of 3000\n",
      "Processing project 1096 of 3000\n",
      "Processing project 1097 of 3000\n",
      "Processing project 1098 of 3000\n",
      "Processing project 1099 of 3000\n",
      "Processing project 1100 of 3000\n",
      "Processing project 1101 of 3000\n",
      "Processing project 1102 of 3000\n",
      "Processing project 1103 of 3000\n",
      "Processing project 1104 of 3000\n",
      "Processing project 1105 of 3000\n",
      "Processing project 1106 of 3000\n",
      "Processing project 1107 of 3000\n",
      "Processing project 1108 of 3000\n",
      "Processing project 1109 of 3000\n",
      "Processing project 1110 of 3000\n",
      "Processing project 1111 of 3000\n",
      "Processing project 1112 of 3000\n",
      "Processing project 1113 of 3000\n",
      "Processing project 1114 of 3000\n",
      "Processing project 1115 of 3000\n",
      "Processing project 1116 of 3000\n",
      "Processing project 1117 of 3000\n",
      "Processing project 1118 of 3000\n",
      "Processing project 1119 of 3000\n",
      "Processing project 1120 of 3000\n",
      "Processing project 1121 of 3000\n",
      "Processing project 1122 of 3000\n",
      "Processing project 1123 of 3000\n",
      "Processing project 1124 of 3000\n",
      "Processing project 1125 of 3000\n",
      "Processing project 1126 of 3000\n",
      "Processing project 1127 of 3000\n",
      "Processing project 1128 of 3000\n",
      "Processing project 1129 of 3000\n",
      "Processing project 1130 of 3000\n",
      "Processing project 1131 of 3000\n",
      "Processing project 1132 of 3000\n",
      "Processing project 1133 of 3000\n",
      "Processing project 1134 of 3000\n",
      "Processing project 1135 of 3000\n",
      "Processing project 1136 of 3000\n",
      "Processing project 1137 of 3000\n",
      "Processing project 1138 of 3000\n",
      "Processing project 1139 of 3000\n",
      "Processing project 1140 of 3000\n",
      "Processing project 1141 of 3000\n",
      "Processing project 1142 of 3000\n",
      "Processing project 1143 of 3000\n",
      "Processing project 1144 of 3000\n",
      "Processing project 1145 of 3000\n",
      "Processing project 1146 of 3000\n",
      "Processing project 1147 of 3000\n",
      "Processing project 1148 of 3000\n",
      "Processing project 1149 of 3000\n",
      "Processing project 1150 of 3000\n",
      "Processing project 1151 of 3000\n",
      "Processing project 1152 of 3000\n",
      "Processing project 1153 of 3000\n",
      "Processing project 1154 of 3000\n",
      "Processing project 1155 of 3000\n",
      "Processing project 1156 of 3000\n",
      "Processing project 1157 of 3000\n",
      "Processing project 1158 of 3000\n",
      "Processing project 1159 of 3000\n",
      "Processing project 1160 of 3000\n",
      "Processing project 1161 of 3000\n",
      "Processing project 1162 of 3000\n",
      "Processing project 1163 of 3000\n",
      "Processing project 1164 of 3000\n",
      "Processing project 1165 of 3000\n",
      "Processing project 1166 of 3000\n",
      "Processing project 1167 of 3000\n",
      "Processing project 1168 of 3000\n",
      "Processing project 1169 of 3000\n",
      "Processing project 1170 of 3000\n",
      "Processing project 1171 of 3000\n",
      "Processing project 1172 of 3000\n",
      "Processing project 1173 of 3000\n",
      "Processing project 1174 of 3000\n",
      "Processing project 1175 of 3000\n",
      "Processing project 1176 of 3000\n",
      "Processing project 1177 of 3000\n",
      "Processing project 1178 of 3000\n",
      "Processing project 1179 of 3000\n",
      "Processing project 1180 of 3000\n",
      "Processing project 1181 of 3000\n",
      "Processing project 1182 of 3000\n",
      "Processing project 1183 of 3000\n",
      "Processing project 1184 of 3000\n",
      "Processing project 1185 of 3000\n",
      "Processing project 1186 of 3000\n",
      "Processing project 1187 of 3000\n",
      "Processing project 1188 of 3000\n",
      "Processing project 1189 of 3000\n",
      "Processing project 1190 of 3000\n",
      "Processing project 1191 of 3000\n",
      "Processing project 1192 of 3000\n",
      "Processing project 1193 of 3000\n",
      "Processing project 1194 of 3000\n",
      "Processing project 1195 of 3000\n",
      "Processing project 1196 of 3000\n",
      "Processing project 1197 of 3000\n",
      "Processing project 1198 of 3000\n",
      "Processing project 1199 of 3000\n",
      "Processing project 1200 of 3000\n",
      "Processing project 1201 of 3000\n",
      "Processing project 1202 of 3000\n",
      "Processing project 1203 of 3000\n",
      "Processing project 1204 of 3000\n",
      "Processing project 1205 of 3000\n",
      "Processing project 1206 of 3000\n",
      "Processing project 1207 of 3000\n",
      "Processing project 1208 of 3000\n",
      "Processing project 1209 of 3000\n",
      "Processing project 1210 of 3000\n",
      "Processing project 1211 of 3000\n",
      "Processing project 1212 of 3000\n",
      "Processing project 1213 of 3000\n",
      "Processing project 1214 of 3000\n",
      "Processing project 1215 of 3000\n",
      "Processing project 1216 of 3000\n",
      "Processing project 1217 of 3000\n",
      "Processing project 1218 of 3000\n",
      "Processing project 1219 of 3000\n",
      "Processing project 1220 of 3000\n",
      "Processing project 1221 of 3000\n",
      "Processing project 1222 of 3000\n",
      "Processing project 1223 of 3000\n",
      "Processing project 1224 of 3000\n",
      "Processing project 1225 of 3000\n",
      "Processing project 1226 of 3000\n",
      "Processing project 1227 of 3000\n",
      "Processing project 1228 of 3000\n",
      "Processing project 1229 of 3000\n",
      "Processing project 1230 of 3000\n",
      "Processing project 1231 of 3000\n",
      "Processing project 1232 of 3000\n",
      "Processing project 1233 of 3000\n",
      "Processing project 1234 of 3000\n",
      "Processing project 1235 of 3000\n",
      "Processing project 1236 of 3000\n",
      "Processing project 1237 of 3000\n",
      "Processing project 1238 of 3000\n",
      "Processing project 1239 of 3000\n",
      "Processing project 1240 of 3000\n",
      "Processing project 1241 of 3000\n",
      "Processing project 1242 of 3000\n",
      "Processing project 1243 of 3000\n",
      "Processing project 1244 of 3000\n",
      "Processing project 1245 of 3000\n",
      "Processing project 1246 of 3000\n",
      "Processing project 1247 of 3000\n",
      "Processing project 1248 of 3000\n",
      "Processing project 1249 of 3000\n",
      "Processing project 1250 of 3000\n",
      "Processing project 1251 of 3000\n",
      "Processing project 1252 of 3000\n",
      "Processing project 1253 of 3000\n",
      "Processing project 1254 of 3000\n",
      "Processing project 1255 of 3000\n",
      "Processing project 1256 of 3000\n",
      "Processing project 1257 of 3000\n",
      "Processing project 1258 of 3000\n",
      "Processing project 1259 of 3000\n",
      "Processing project 1260 of 3000\n",
      "Processing project 1261 of 3000\n",
      "Processing project 1262 of 3000\n",
      "Processing project 1263 of 3000\n",
      "Processing project 1264 of 3000\n",
      "Processing project 1265 of 3000\n",
      "Processing project 1266 of 3000\n",
      "Processing project 1267 of 3000\n",
      "Processing project 1268 of 3000\n",
      "Processing project 1269 of 3000\n",
      "Processing project 1270 of 3000\n",
      "Processing project 1271 of 3000\n",
      "Processing project 1272 of 3000\n",
      "Processing project 1273 of 3000\n",
      "Processing project 1274 of 3000\n",
      "Processing project 1275 of 3000\n",
      "Processing project 1276 of 3000\n",
      "Processing project 1277 of 3000\n",
      "Processing project 1278 of 3000\n",
      "Processing project 1279 of 3000\n",
      "Processing project 1280 of 3000\n",
      "Processing project 1281 of 3000\n",
      "Processing project 1282 of 3000\n",
      "Processing project 1283 of 3000\n",
      "Processing project 1284 of 3000\n",
      "Processing project 1285 of 3000\n",
      "Processing project 1286 of 3000\n",
      "Processing project 1287 of 3000\n",
      "Processing project 1288 of 3000\n",
      "Processing project 1289 of 3000\n",
      "Processing project 1290 of 3000\n",
      "Processing project 1291 of 3000\n",
      "Processing project 1292 of 3000\n",
      "Processing project 1293 of 3000\n",
      "Processing project 1294 of 3000\n",
      "Processing project 1295 of 3000\n",
      "Processing project 1296 of 3000\n",
      "Processing project 1297 of 3000\n",
      "Processing project 1298 of 3000\n",
      "Processing project 1299 of 3000\n",
      "Processing project 1300 of 3000\n",
      "Processing project 1301 of 3000\n",
      "Processing project 1302 of 3000\n",
      "Processing project 1303 of 3000\n",
      "Processing project 1304 of 3000\n",
      "Processing project 1305 of 3000\n",
      "Processing project 1306 of 3000\n",
      "Processing project 1307 of 3000\n",
      "Processing project 1308 of 3000\n",
      "Processing project 1309 of 3000\n",
      "Processing project 1310 of 3000\n",
      "Processing project 1311 of 3000\n",
      "Processing project 1312 of 3000\n",
      "Processing project 1313 of 3000\n",
      "Processing project 1314 of 3000\n",
      "Processing project 1315 of 3000\n",
      "Processing project 1316 of 3000\n",
      "Processing project 1317 of 3000\n",
      "Processing project 1318 of 3000\n"
     ]
    },
    {
     "name": "stdout",
     "output_type": "stream",
     "text": [
      "Processing project 1319 of 3000\n",
      "Processing project 1320 of 3000\n",
      "Processing project 1321 of 3000\n",
      "Processing project 1322 of 3000\n",
      "Processing project 1323 of 3000\n",
      "Processing project 1324 of 3000\n",
      "Processing project 1325 of 3000\n",
      "Processing project 1326 of 3000\n",
      "Processing project 1327 of 3000\n",
      "Processing project 1328 of 3000\n",
      "Processing project 1329 of 3000\n",
      "Processing project 1330 of 3000\n",
      "Processing project 1331 of 3000\n",
      "Processing project 1332 of 3000\n",
      "Processing project 1333 of 3000\n",
      "Processing project 1334 of 3000\n",
      "Processing project 1335 of 3000\n",
      "Processing project 1336 of 3000\n",
      "Processing project 1337 of 3000\n",
      "Processing project 1338 of 3000\n",
      "Processing project 1339 of 3000\n",
      "Processing project 1340 of 3000\n",
      "Processing project 1341 of 3000\n",
      "Processing project 1342 of 3000\n",
      "Processing project 1343 of 3000\n",
      "Processing project 1344 of 3000\n",
      "Processing project 1345 of 3000\n",
      "Processing project 1346 of 3000\n",
      "Processing project 1347 of 3000\n",
      "Processing project 1348 of 3000\n",
      "Processing project 1349 of 3000\n",
      "Processing project 1350 of 3000\n",
      "Processing project 1351 of 3000\n",
      "Processing project 1352 of 3000\n",
      "Processing project 1353 of 3000\n",
      "Processing project 1354 of 3000\n",
      "Processing project 1355 of 3000\n",
      "Processing project 1356 of 3000\n",
      "Processing project 1357 of 3000\n",
      "Processing project 1358 of 3000\n",
      "Processing project 1359 of 3000\n",
      "Processing project 1360 of 3000\n",
      "Processing project 1361 of 3000\n",
      "Processing project 1362 of 3000\n",
      "Processing project 1363 of 3000\n",
      "Processing project 1364 of 3000\n",
      "Processing project 1365 of 3000\n",
      "Processing project 1366 of 3000\n",
      "Processing project 1367 of 3000\n",
      "Processing project 1368 of 3000\n",
      "Processing project 1369 of 3000\n",
      "Processing project 1370 of 3000\n",
      "Processing project 1371 of 3000\n",
      "Processing project 1372 of 3000\n",
      "Processing project 1373 of 3000\n",
      "Processing project 1374 of 3000\n",
      "Processing project 1375 of 3000\n",
      "Processing project 1376 of 3000\n",
      "Processing project 1377 of 3000\n",
      "Processing project 1378 of 3000\n",
      "Processing project 1379 of 3000\n",
      "Processing project 1380 of 3000\n",
      "Processing project 1381 of 3000\n",
      "Processing project 1382 of 3000\n",
      "Processing project 1383 of 3000\n",
      "Processing project 1384 of 3000\n",
      "Processing project 1385 of 3000\n",
      "Processing project 1386 of 3000\n",
      "Processing project 1387 of 3000\n",
      "Processing project 1388 of 3000\n",
      "Processing project 1389 of 3000\n",
      "Processing project 1390 of 3000\n",
      "Processing project 1391 of 3000\n",
      "Processing project 1392 of 3000\n",
      "Processing project 1393 of 3000\n",
      "Processing project 1394 of 3000\n",
      "Processing project 1395 of 3000\n",
      "Processing project 1396 of 3000\n",
      "Processing project 1397 of 3000\n",
      "Processing project 1398 of 3000\n",
      "Processing project 1399 of 3000\n",
      "Processing project 1400 of 3000\n",
      "Processing project 1401 of 3000\n",
      "Processing project 1402 of 3000\n",
      "Processing project 1403 of 3000\n",
      "Processing project 1404 of 3000\n",
      "Processing project 1405 of 3000\n",
      "Processing project 1406 of 3000\n",
      "Processing project 1407 of 3000\n",
      "Processing project 1408 of 3000\n",
      "Processing project 1409 of 3000\n",
      "Processing project 1410 of 3000\n",
      "Processing project 1411 of 3000\n",
      "Processing project 1412 of 3000\n",
      "Processing project 1413 of 3000\n",
      "Processing project 1414 of 3000\n",
      "Processing project 1415 of 3000\n",
      "Processing project 1416 of 3000\n",
      "Processing project 1417 of 3000\n",
      "Processing project 1418 of 3000\n",
      "Processing project 1419 of 3000\n",
      "Processing project 1420 of 3000\n",
      "Processing project 1421 of 3000\n",
      "Processing project 1422 of 3000\n",
      "Processing project 1423 of 3000\n",
      "Processing project 1424 of 3000\n",
      "Processing project 1425 of 3000\n",
      "Processing project 1426 of 3000\n",
      "Processing project 1427 of 3000\n",
      "Processing project 1428 of 3000\n",
      "Processing project 1429 of 3000\n",
      "Processing project 1430 of 3000\n",
      "Processing project 1431 of 3000\n",
      "Processing project 1432 of 3000\n",
      "Processing project 1433 of 3000\n",
      "Processing project 1434 of 3000\n",
      "Processing project 1435 of 3000\n",
      "Processing project 1436 of 3000\n",
      "Processing project 1437 of 3000\n",
      "Processing project 1438 of 3000\n",
      "Processing project 1439 of 3000\n",
      "Processing project 1440 of 3000\n",
      "Processing project 1441 of 3000\n",
      "Processing project 1442 of 3000\n",
      "Processing project 1443 of 3000\n",
      "Processing project 1444 of 3000\n",
      "Processing project 1445 of 3000\n",
      "Processing project 1446 of 3000\n",
      "Processing project 1447 of 3000\n",
      "Processing project 1448 of 3000\n",
      "Processing project 1449 of 3000\n",
      "Processing project 1450 of 3000\n",
      "Processing project 1451 of 3000\n",
      "Processing project 1452 of 3000\n",
      "Processing project 1453 of 3000\n",
      "Processing project 1454 of 3000\n",
      "Processing project 1455 of 3000\n",
      "Processing project 1456 of 3000\n",
      "Processing project 1457 of 3000\n",
      "Processing project 1458 of 3000\n",
      "Processing project 1459 of 3000\n",
      "Processing project 1460 of 3000\n",
      "Processing project 1461 of 3000\n",
      "Processing project 1462 of 3000\n",
      "Processing project 1463 of 3000\n",
      "Processing project 1464 of 3000\n",
      "Processing project 1465 of 3000\n",
      "Processing project 1466 of 3000\n",
      "Processing project 1467 of 3000\n",
      "Processing project 1468 of 3000\n",
      "Processing project 1469 of 3000\n",
      "Processing project 1470 of 3000\n",
      "Processing project 1471 of 3000\n",
      "Processing project 1472 of 3000\n",
      "Processing project 1473 of 3000\n",
      "Processing project 1474 of 3000\n",
      "Processing project 1475 of 3000\n",
      "Processing project 1476 of 3000\n",
      "Processing project 1477 of 3000\n",
      "Processing project 1478 of 3000\n",
      "Processing project 1479 of 3000\n",
      "Processing project 1480 of 3000\n",
      "Processing project 1481 of 3000\n",
      "Processing project 1482 of 3000\n",
      "Processing project 1483 of 3000\n",
      "Processing project 1484 of 3000\n",
      "Processing project 1485 of 3000\n",
      "Processing project 1486 of 3000\n",
      "Processing project 1487 of 3000\n",
      "Processing project 1488 of 3000\n",
      "Processing project 1489 of 3000\n",
      "Processing project 1490 of 3000\n",
      "Processing project 1491 of 3000\n",
      "Processing project 1492 of 3000\n",
      "Processing project 1493 of 3000\n",
      "Processing project 1494 of 3000\n",
      "Processing project 1495 of 3000\n",
      "Processing project 1496 of 3000\n",
      "Processing project 1497 of 3000\n",
      "Processing project 1498 of 3000\n",
      "Processing project 1499 of 3000\n",
      "Processing project 1500 of 3000\n",
      "Processing project 1501 of 3000\n",
      "Processing project 1502 of 3000\n",
      "Processing project 1503 of 3000\n",
      "Processing project 1504 of 3000\n",
      "Processing project 1505 of 3000\n",
      "Processing project 1506 of 3000\n",
      "Processing project 1507 of 3000\n",
      "Processing project 1508 of 3000\n",
      "Processing project 1509 of 3000\n",
      "Processing project 1510 of 3000\n",
      "Processing project 1511 of 3000\n",
      "Processing project 1512 of 3000\n",
      "Processing project 1513 of 3000\n",
      "Processing project 1514 of 3000\n",
      "Processing project 1515 of 3000\n",
      "Processing project 1516 of 3000\n",
      "Processing project 1517 of 3000\n",
      "Processing project 1518 of 3000\n",
      "Processing project 1519 of 3000\n",
      "Processing project 1520 of 3000\n",
      "Processing project 1521 of 3000\n",
      "Processing project 1522 of 3000\n",
      "Processing project 1523 of 3000\n",
      "Processing project 1524 of 3000\n",
      "Processing project 1525 of 3000\n",
      "Processing project 1526 of 3000\n",
      "Processing project 1527 of 3000\n",
      "Processing project 1528 of 3000\n",
      "Processing project 1529 of 3000\n",
      "Processing project 1530 of 3000\n",
      "Processing project 1531 of 3000\n",
      "Processing project 1532 of 3000\n",
      "Processing project 1533 of 3000\n",
      "Processing project 1534 of 3000\n",
      "Processing project 1535 of 3000\n",
      "Processing project 1536 of 3000\n",
      "Processing project 1537 of 3000\n",
      "Processing project 1538 of 3000\n",
      "Processing project 1539 of 3000\n",
      "Processing project 1540 of 3000\n",
      "Processing project 1541 of 3000\n",
      "Processing project 1542 of 3000\n",
      "Processing project 1543 of 3000\n",
      "Processing project 1544 of 3000\n",
      "Processing project 1545 of 3000\n",
      "Processing project 1546 of 3000\n",
      "Processing project 1547 of 3000\n",
      "Processing project 1548 of 3000\n",
      "Processing project 1549 of 3000\n",
      "Processing project 1550 of 3000\n",
      "Processing project 1551 of 3000\n",
      "Processing project 1552 of 3000\n",
      "Processing project 1553 of 3000\n",
      "Processing project 1554 of 3000\n",
      "Processing project 1555 of 3000\n",
      "Processing project 1556 of 3000\n",
      "Processing project 1557 of 3000\n",
      "Processing project 1558 of 3000\n",
      "Processing project 1559 of 3000\n",
      "Processing project 1560 of 3000\n",
      "Processing project 1561 of 3000\n",
      "Processing project 1562 of 3000\n",
      "Processing project 1563 of 3000\n",
      "Processing project 1564 of 3000\n",
      "Processing project 1565 of 3000\n",
      "Processing project 1566 of 3000\n",
      "Processing project 1567 of 3000\n",
      "Processing project 1568 of 3000\n",
      "Processing project 1569 of 3000\n",
      "Processing project 1570 of 3000\n",
      "Processing project 1571 of 3000\n",
      "Processing project 1572 of 3000\n",
      "Processing project 1573 of 3000\n",
      "Processing project 1574 of 3000\n",
      "Processing project 1575 of 3000\n"
     ]
    },
    {
     "name": "stdout",
     "output_type": "stream",
     "text": [
      "Processing project 1576 of 3000\n",
      "Processing project 1577 of 3000\n",
      "Processing project 1578 of 3000\n",
      "Processing project 1579 of 3000\n",
      "Processing project 1580 of 3000\n",
      "Processing project 1581 of 3000\n",
      "Processing project 1582 of 3000\n",
      "Processing project 1583 of 3000\n",
      "Processing project 1584 of 3000\n",
      "Processing project 1585 of 3000\n",
      "Processing project 1586 of 3000\n",
      "Processing project 1587 of 3000\n",
      "Processing project 1588 of 3000\n",
      "Processing project 1589 of 3000\n",
      "Processing project 1590 of 3000\n",
      "Processing project 1591 of 3000\n",
      "Processing project 1592 of 3000\n",
      "Processing project 1593 of 3000\n",
      "Processing project 1594 of 3000\n",
      "Processing project 1595 of 3000\n",
      "Processing project 1596 of 3000\n",
      "Processing project 1597 of 3000\n",
      "Processing project 1598 of 3000\n",
      "Processing project 1599 of 3000\n",
      "Processing project 1600 of 3000\n",
      "Processing project 1601 of 3000\n",
      "Processing project 1602 of 3000\n",
      "Processing project 1603 of 3000\n",
      "Processing project 1604 of 3000\n",
      "Processing project 1605 of 3000\n",
      "Processing project 1606 of 3000\n",
      "Processing project 1607 of 3000\n",
      "Processing project 1608 of 3000\n",
      "Processing project 1609 of 3000\n",
      "Processing project 1610 of 3000\n",
      "Processing project 1611 of 3000\n",
      "Processing project 1612 of 3000\n",
      "Processing project 1613 of 3000\n",
      "Processing project 1614 of 3000\n",
      "Processing project 1615 of 3000\n",
      "Processing project 1616 of 3000\n",
      "Processing project 1617 of 3000\n",
      "Processing project 1618 of 3000\n",
      "Processing project 1619 of 3000\n",
      "Processing project 1620 of 3000\n",
      "Processing project 1621 of 3000\n",
      "Processing project 1622 of 3000\n",
      "Processing project 1623 of 3000\n",
      "Processing project 1624 of 3000\n",
      "Processing project 1625 of 3000\n",
      "Processing project 1626 of 3000\n",
      "Processing project 1627 of 3000\n",
      "Processing project 1628 of 3000\n",
      "Processing project 1629 of 3000\n",
      "Processing project 1630 of 3000\n",
      "Processing project 1631 of 3000\n",
      "Processing project 1632 of 3000\n",
      "Processing project 1633 of 3000\n",
      "Processing project 1634 of 3000\n",
      "Processing project 1635 of 3000\n",
      "Processing project 1636 of 3000\n",
      "Processing project 1637 of 3000\n",
      "Processing project 1638 of 3000\n",
      "Processing project 1639 of 3000\n",
      "Processing project 1640 of 3000\n",
      "Processing project 1641 of 3000\n",
      "Processing project 1642 of 3000\n",
      "Processing project 1643 of 3000\n",
      "Processing project 1644 of 3000\n",
      "Processing project 1645 of 3000\n",
      "Processing project 1646 of 3000\n",
      "Processing project 1647 of 3000\n",
      "Processing project 1648 of 3000\n",
      "Processing project 1649 of 3000\n",
      "Processing project 1650 of 3000\n",
      "Processing project 1651 of 3000\n",
      "Processing project 1652 of 3000\n",
      "Processing project 1653 of 3000\n",
      "Processing project 1654 of 3000\n",
      "Processing project 1655 of 3000\n",
      "Processing project 1656 of 3000\n",
      "Processing project 1657 of 3000\n",
      "Processing project 1658 of 3000\n",
      "Processing project 1659 of 3000\n",
      "Processing project 1660 of 3000\n",
      "Processing project 1661 of 3000\n",
      "Processing project 1662 of 3000\n",
      "Processing project 1663 of 3000\n",
      "Processing project 1664 of 3000\n",
      "Processing project 1665 of 3000\n",
      "Processing project 1666 of 3000\n",
      "Processing project 1667 of 3000\n",
      "Processing project 1668 of 3000\n",
      "Processing project 1669 of 3000\n",
      "Processing project 1670 of 3000\n",
      "Processing project 1671 of 3000\n",
      "Processing project 1672 of 3000\n",
      "Processing project 1673 of 3000\n",
      "Processing project 1674 of 3000\n",
      "Processing project 1675 of 3000\n",
      "Processing project 1676 of 3000\n",
      "Processing project 1677 of 3000\n",
      "Processing project 1678 of 3000\n",
      "Processing project 1679 of 3000\n",
      "Processing project 1680 of 3000\n",
      "Processing project 1681 of 3000\n",
      "Processing project 1682 of 3000\n",
      "Processing project 1683 of 3000\n",
      "Processing project 1684 of 3000\n",
      "Processing project 1685 of 3000\n",
      "Processing project 1686 of 3000\n",
      "Processing project 1687 of 3000\n",
      "Processing project 1688 of 3000\n",
      "Processing project 1689 of 3000\n",
      "Processing project 1690 of 3000\n",
      "Processing project 1691 of 3000\n",
      "Processing project 1692 of 3000\n",
      "Processing project 1693 of 3000\n",
      "Processing project 1694 of 3000\n",
      "Processing project 1695 of 3000\n",
      "Processing project 1696 of 3000\n",
      "Processing project 1697 of 3000\n",
      "Processing project 1698 of 3000\n",
      "Processing project 1699 of 3000\n",
      "Processing project 1700 of 3000\n",
      "Processing project 1701 of 3000\n",
      "Processing project 1702 of 3000\n",
      "Processing project 1703 of 3000\n",
      "Processing project 1704 of 3000\n",
      "Processing project 1705 of 3000\n",
      "Processing project 1706 of 3000\n",
      "Processing project 1707 of 3000\n",
      "Processing project 1708 of 3000\n",
      "Processing project 1709 of 3000\n",
      "Processing project 1710 of 3000\n",
      "Processing project 1711 of 3000\n",
      "Processing project 1712 of 3000\n",
      "Processing project 1713 of 3000\n",
      "Processing project 1714 of 3000\n",
      "Processing project 1715 of 3000\n",
      "Processing project 1716 of 3000\n",
      "Processing project 1717 of 3000\n",
      "Processing project 1718 of 3000\n",
      "Processing project 1719 of 3000\n",
      "Processing project 1720 of 3000\n",
      "Processing project 1721 of 3000\n",
      "Processing project 1722 of 3000\n",
      "Processing project 1723 of 3000\n",
      "Processing project 1724 of 3000\n",
      "Processing project 1725 of 3000\n",
      "Processing project 1726 of 3000\n",
      "Processing project 1727 of 3000\n",
      "Processing project 1728 of 3000\n",
      "Processing project 1729 of 3000\n",
      "Processing project 1730 of 3000\n",
      "Processing project 1731 of 3000\n",
      "Processing project 1732 of 3000\n",
      "Processing project 1733 of 3000\n",
      "Processing project 1734 of 3000\n",
      "Processing project 1735 of 3000\n",
      "Processing project 1736 of 3000\n",
      "Processing project 1737 of 3000\n",
      "Processing project 1738 of 3000\n",
      "Processing project 1739 of 3000\n",
      "Processing project 1740 of 3000\n",
      "Processing project 1741 of 3000\n",
      "Processing project 1742 of 3000\n",
      "Processing project 1743 of 3000\n",
      "Processing project 1744 of 3000\n",
      "Processing project 1745 of 3000\n",
      "Processing project 1746 of 3000\n",
      "Processing project 1747 of 3000\n",
      "Processing project 1748 of 3000\n",
      "Processing project 1749 of 3000\n",
      "Processing project 1750 of 3000\n",
      "Processing project 1751 of 3000\n",
      "Processing project 1752 of 3000\n",
      "Processing project 1753 of 3000\n",
      "Processing project 1754 of 3000\n",
      "Processing project 1755 of 3000\n",
      "Processing project 1756 of 3000\n",
      "Processing project 1757 of 3000\n",
      "Processing project 1758 of 3000\n",
      "Processing project 1759 of 3000\n",
      "Processing project 1760 of 3000\n",
      "Processing project 1761 of 3000\n",
      "Processing project 1762 of 3000\n",
      "Processing project 1763 of 3000\n",
      "Processing project 1764 of 3000\n",
      "Processing project 1765 of 3000\n",
      "Processing project 1766 of 3000\n",
      "Processing project 1767 of 3000\n",
      "Processing project 1768 of 3000\n",
      "Processing project 1769 of 3000\n",
      "Processing project 1770 of 3000\n",
      "Processing project 1771 of 3000\n",
      "Processing project 1772 of 3000\n",
      "Processing project 1773 of 3000\n",
      "Processing project 1774 of 3000\n",
      "Processing project 1775 of 3000\n",
      "Processing project 1776 of 3000\n",
      "Processing project 1777 of 3000\n",
      "Processing project 1778 of 3000\n",
      "Processing project 1779 of 3000\n",
      "Processing project 1780 of 3000\n",
      "Processing project 1781 of 3000\n",
      "Processing project 1782 of 3000\n",
      "Processing project 1783 of 3000\n",
      "Processing project 1784 of 3000\n",
      "Processing project 1785 of 3000\n",
      "Processing project 1786 of 3000\n",
      "Processing project 1787 of 3000\n",
      "Processing project 1788 of 3000\n",
      "Processing project 1789 of 3000\n",
      "Processing project 1790 of 3000\n",
      "Processing project 1791 of 3000\n",
      "Processing project 1792 of 3000\n",
      "Processing project 1793 of 3000\n",
      "Processing project 1794 of 3000\n",
      "Processing project 1795 of 3000\n",
      "Processing project 1796 of 3000\n",
      "Processing project 1797 of 3000\n",
      "Processing project 1798 of 3000\n",
      "Processing project 1799 of 3000\n",
      "Processing project 1800 of 3000\n",
      "Processing project 1801 of 3000\n",
      "Processing project 1802 of 3000\n",
      "Processing project 1803 of 3000\n",
      "Processing project 1804 of 3000\n",
      "Processing project 1805 of 3000\n",
      "Processing project 1806 of 3000\n",
      "Processing project 1807 of 3000\n",
      "Processing project 1808 of 3000\n",
      "Processing project 1809 of 3000\n",
      "Processing project 1810 of 3000\n",
      "Processing project 1811 of 3000\n",
      "Processing project 1812 of 3000\n",
      "Processing project 1813 of 3000\n",
      "Processing project 1814 of 3000\n",
      "Processing project 1815 of 3000\n",
      "Processing project 1816 of 3000\n",
      "Processing project 1817 of 3000\n",
      "Processing project 1818 of 3000\n",
      "Processing project 1819 of 3000\n",
      "Processing project 1820 of 3000\n",
      "Processing project 1821 of 3000\n",
      "Processing project 1822 of 3000\n",
      "Processing project 1823 of 3000\n",
      "Processing project 1824 of 3000\n",
      "Processing project 1825 of 3000\n",
      "Processing project 1826 of 3000\n",
      "Processing project 1827 of 3000\n",
      "Processing project 1828 of 3000\n",
      "Processing project 1829 of 3000\n",
      "Processing project 1830 of 3000\n",
      "Processing project 1831 of 3000\n",
      "Processing project 1832 of 3000\n"
     ]
    },
    {
     "name": "stdout",
     "output_type": "stream",
     "text": [
      "Processing project 1833 of 3000\n",
      "Processing project 1834 of 3000\n",
      "Processing project 1835 of 3000\n",
      "Processing project 1836 of 3000\n",
      "Processing project 1837 of 3000\n",
      "Processing project 1838 of 3000\n",
      "Processing project 1839 of 3000\n",
      "Processing project 1840 of 3000\n",
      "Processing project 1841 of 3000\n",
      "Processing project 1842 of 3000\n",
      "Processing project 1843 of 3000\n",
      "Processing project 1844 of 3000\n",
      "Processing project 1845 of 3000\n",
      "Processing project 1846 of 3000\n",
      "Processing project 1847 of 3000\n",
      "Processing project 1848 of 3000\n",
      "Processing project 1849 of 3000\n",
      "Processing project 1850 of 3000\n",
      "Processing project 1851 of 3000\n",
      "Processing project 1852 of 3000\n",
      "Processing project 1853 of 3000\n",
      "Processing project 1854 of 3000\n",
      "Processing project 1855 of 3000\n",
      "Processing project 1856 of 3000\n",
      "Processing project 1857 of 3000\n",
      "Processing project 1858 of 3000\n",
      "Processing project 1859 of 3000\n",
      "Processing project 1860 of 3000\n",
      "Processing project 1861 of 3000\n",
      "Processing project 1862 of 3000\n",
      "Processing project 1863 of 3000\n",
      "Processing project 1864 of 3000\n",
      "Processing project 1865 of 3000\n",
      "Processing project 1866 of 3000\n",
      "Processing project 1867 of 3000\n",
      "Processing project 1868 of 3000\n",
      "Processing project 1869 of 3000\n",
      "Processing project 1870 of 3000\n",
      "Processing project 1871 of 3000\n",
      "Processing project 1872 of 3000\n",
      "Processing project 1873 of 3000\n",
      "Processing project 1874 of 3000\n",
      "Processing project 1875 of 3000\n",
      "Processing project 1876 of 3000\n",
      "Processing project 1877 of 3000\n",
      "Processing project 1878 of 3000\n",
      "Processing project 1879 of 3000\n",
      "Processing project 1880 of 3000\n",
      "Processing project 1881 of 3000\n",
      "Processing project 1882 of 3000\n",
      "Processing project 1883 of 3000\n",
      "Processing project 1884 of 3000\n",
      "Processing project 1885 of 3000\n",
      "Processing project 1886 of 3000\n",
      "Processing project 1887 of 3000\n",
      "Processing project 1888 of 3000\n",
      "Processing project 1889 of 3000\n",
      "Processing project 1890 of 3000\n",
      "Processing project 1891 of 3000\n",
      "Processing project 1892 of 3000\n",
      "Processing project 1893 of 3000\n",
      "Processing project 1894 of 3000\n",
      "Processing project 1895 of 3000\n",
      "Processing project 1896 of 3000\n",
      "Processing project 1897 of 3000\n",
      "Processing project 1898 of 3000\n",
      "Processing project 1899 of 3000\n",
      "Processing project 1900 of 3000\n",
      "Processing project 1901 of 3000\n",
      "Processing project 1902 of 3000\n",
      "Processing project 1903 of 3000\n",
      "Processing project 1904 of 3000\n",
      "Processing project 1905 of 3000\n",
      "Processing project 1906 of 3000\n",
      "Processing project 1907 of 3000\n",
      "Processing project 1908 of 3000\n",
      "Processing project 1909 of 3000\n",
      "Processing project 1910 of 3000\n",
      "Processing project 1911 of 3000\n",
      "Processing project 1912 of 3000\n",
      "Processing project 1913 of 3000\n",
      "Processing project 1914 of 3000\n",
      "Processing project 1915 of 3000\n",
      "Processing project 1916 of 3000\n",
      "Processing project 1917 of 3000\n",
      "Processing project 1918 of 3000\n",
      "Processing project 1919 of 3000\n",
      "Processing project 1920 of 3000\n",
      "Processing project 1921 of 3000\n",
      "Processing project 1922 of 3000\n",
      "Processing project 1923 of 3000\n",
      "Processing project 1924 of 3000\n",
      "Processing project 1925 of 3000\n",
      "Processing project 1926 of 3000\n",
      "Processing project 1927 of 3000\n",
      "Processing project 1928 of 3000\n",
      "Processing project 1929 of 3000\n",
      "Processing project 1930 of 3000\n",
      "Processing project 1931 of 3000\n",
      "Processing project 1932 of 3000\n",
      "Processing project 1933 of 3000\n",
      "Processing project 1934 of 3000\n",
      "Processing project 1935 of 3000\n",
      "Processing project 1936 of 3000\n",
      "Processing project 1937 of 3000\n",
      "Processing project 1938 of 3000\n",
      "Processing project 1939 of 3000\n",
      "Processing project 1940 of 3000\n",
      "Processing project 1941 of 3000\n",
      "Processing project 1942 of 3000\n",
      "Processing project 1943 of 3000\n",
      "Processing project 1944 of 3000\n",
      "Processing project 1945 of 3000\n",
      "Processing project 1946 of 3000\n",
      "Processing project 1947 of 3000\n",
      "Processing project 1948 of 3000\n",
      "Processing project 1949 of 3000\n",
      "Processing project 1950 of 3000\n",
      "Processing project 1951 of 3000\n",
      "Processing project 1952 of 3000\n",
      "Processing project 1953 of 3000\n",
      "Processing project 1954 of 3000\n",
      "Processing project 1955 of 3000\n",
      "Processing project 1956 of 3000\n",
      "Processing project 1957 of 3000\n",
      "Processing project 1958 of 3000\n",
      "Processing project 1959 of 3000\n",
      "Processing project 1960 of 3000\n",
      "Processing project 1961 of 3000\n",
      "Processing project 1962 of 3000\n",
      "Processing project 1963 of 3000\n",
      "Processing project 1964 of 3000\n",
      "Processing project 1965 of 3000\n",
      "Processing project 1966 of 3000\n",
      "Processing project 1967 of 3000\n",
      "Processing project 1968 of 3000\n",
      "Processing project 1969 of 3000\n",
      "Processing project 1970 of 3000\n",
      "Processing project 1971 of 3000\n",
      "Processing project 1972 of 3000\n",
      "Processing project 1973 of 3000\n",
      "Processing project 1974 of 3000\n",
      "Processing project 1975 of 3000\n",
      "Processing project 1976 of 3000\n",
      "Processing project 1977 of 3000\n",
      "Processing project 1978 of 3000\n",
      "Processing project 1979 of 3000\n",
      "Processing project 1980 of 3000\n",
      "Processing project 1981 of 3000\n",
      "Processing project 1982 of 3000\n",
      "Processing project 1983 of 3000\n",
      "Processing project 1984 of 3000\n",
      "Processing project 1985 of 3000\n",
      "Processing project 1986 of 3000\n",
      "Processing project 1987 of 3000\n",
      "Processing project 1988 of 3000\n",
      "Processing project 1989 of 3000\n",
      "Processing project 1990 of 3000\n",
      "Processing project 1991 of 3000\n",
      "Processing project 1992 of 3000\n",
      "Processing project 1993 of 3000\n",
      "Processing project 1994 of 3000\n",
      "Processing project 1995 of 3000\n",
      "Processing project 1996 of 3000\n",
      "Processing project 1997 of 3000\n",
      "Processing project 1998 of 3000\n",
      "Processing project 1999 of 3000\n",
      "Processing project 2000 of 3000\n",
      "Processing project 2001 of 3000\n",
      "Processing project 2002 of 3000\n",
      "Processing project 2003 of 3000\n",
      "Processing project 2004 of 3000\n",
      "Processing project 2005 of 3000\n",
      "Processing project 2006 of 3000\n",
      "Processing project 2007 of 3000\n",
      "Processing project 2008 of 3000\n",
      "Processing project 2009 of 3000\n",
      "Processing project 2010 of 3000\n",
      "Processing project 2011 of 3000\n",
      "Processing project 2012 of 3000\n",
      "Processing project 2013 of 3000\n",
      "Processing project 2014 of 3000\n",
      "Processing project 2015 of 3000\n",
      "Processing project 2016 of 3000\n",
      "Processing project 2017 of 3000\n",
      "Processing project 2018 of 3000\n",
      "Processing project 2019 of 3000\n",
      "Processing project 2020 of 3000\n",
      "Processing project 2021 of 3000\n",
      "Processing project 2022 of 3000\n",
      "Processing project 2023 of 3000\n",
      "Processing project 2024 of 3000\n",
      "Processing project 2025 of 3000\n",
      "Processing project 2026 of 3000\n",
      "Processing project 2027 of 3000\n",
      "Processing project 2028 of 3000\n",
      "Processing project 2029 of 3000\n",
      "Processing project 2030 of 3000\n",
      "Processing project 2031 of 3000\n",
      "Processing project 2032 of 3000\n",
      "Processing project 2033 of 3000\n",
      "Processing project 2034 of 3000\n",
      "Processing project 2035 of 3000\n",
      "Processing project 2036 of 3000\n",
      "Processing project 2037 of 3000\n",
      "Processing project 2038 of 3000\n",
      "Processing project 2039 of 3000\n",
      "Processing project 2040 of 3000\n",
      "Processing project 2041 of 3000\n",
      "Processing project 2042 of 3000\n",
      "Processing project 2043 of 3000\n",
      "Processing project 2044 of 3000\n",
      "Processing project 2045 of 3000\n",
      "Processing project 2046 of 3000\n",
      "Processing project 2047 of 3000\n",
      "Processing project 2048 of 3000\n",
      "Processing project 2049 of 3000\n",
      "Processing project 2050 of 3000\n",
      "Processing project 2051 of 3000\n",
      "Processing project 2052 of 3000\n",
      "Processing project 2053 of 3000\n",
      "Processing project 2054 of 3000\n",
      "Processing project 2055 of 3000\n",
      "Processing project 2056 of 3000\n",
      "Processing project 2057 of 3000\n",
      "Processing project 2058 of 3000\n",
      "Processing project 2059 of 3000\n",
      "Processing project 2060 of 3000\n",
      "Processing project 2061 of 3000\n",
      "Processing project 2062 of 3000\n",
      "Processing project 2063 of 3000\n",
      "Processing project 2064 of 3000\n",
      "Processing project 2065 of 3000\n",
      "Processing project 2066 of 3000\n",
      "Processing project 2067 of 3000\n",
      "Processing project 2068 of 3000\n",
      "Processing project 2069 of 3000\n",
      "Processing project 2070 of 3000\n",
      "Processing project 2071 of 3000\n",
      "Processing project 2072 of 3000\n",
      "Processing project 2073 of 3000\n",
      "Processing project 2074 of 3000\n",
      "Processing project 2075 of 3000\n",
      "Processing project 2076 of 3000\n",
      "Processing project 2077 of 3000\n",
      "Processing project 2078 of 3000\n",
      "Processing project 2079 of 3000\n",
      "Processing project 2080 of 3000\n",
      "Processing project 2081 of 3000\n",
      "Processing project 2082 of 3000\n",
      "Processing project 2083 of 3000\n",
      "Processing project 2084 of 3000\n",
      "Processing project 2085 of 3000\n",
      "Processing project 2086 of 3000\n",
      "Processing project 2087 of 3000\n",
      "Processing project 2088 of 3000\n",
      "Processing project 2089 of 3000\n"
     ]
    },
    {
     "name": "stdout",
     "output_type": "stream",
     "text": [
      "Processing project 2090 of 3000\n",
      "Processing project 2091 of 3000\n",
      "Processing project 2092 of 3000\n",
      "Processing project 2093 of 3000\n",
      "Processing project 2094 of 3000\n",
      "Processing project 2095 of 3000\n",
      "Processing project 2096 of 3000\n",
      "Processing project 2097 of 3000\n",
      "Processing project 2098 of 3000\n",
      "Processing project 2099 of 3000\n",
      "Processing project 2100 of 3000\n",
      "Processing project 2101 of 3000\n",
      "Processing project 2102 of 3000\n",
      "Processing project 2103 of 3000\n",
      "Processing project 2104 of 3000\n",
      "Processing project 2105 of 3000\n",
      "Processing project 2106 of 3000\n",
      "Processing project 2107 of 3000\n",
      "Processing project 2108 of 3000\n",
      "Processing project 2109 of 3000\n",
      "Processing project 2110 of 3000\n",
      "Processing project 2111 of 3000\n",
      "Processing project 2112 of 3000\n",
      "Processing project 2113 of 3000\n",
      "Processing project 2114 of 3000\n",
      "Processing project 2115 of 3000\n",
      "Processing project 2116 of 3000\n",
      "Processing project 2117 of 3000\n",
      "Processing project 2118 of 3000\n",
      "Processing project 2119 of 3000\n",
      "Processing project 2120 of 3000\n",
      "Processing project 2121 of 3000\n",
      "Processing project 2122 of 3000\n",
      "Processing project 2123 of 3000\n",
      "Processing project 2124 of 3000\n",
      "Processing project 2125 of 3000\n",
      "Processing project 2126 of 3000\n",
      "Processing project 2127 of 3000\n",
      "Processing project 2128 of 3000\n",
      "Processing project 2129 of 3000\n",
      "Processing project 2130 of 3000\n",
      "Processing project 2131 of 3000\n",
      "Processing project 2132 of 3000\n",
      "Processing project 2133 of 3000\n",
      "Processing project 2134 of 3000\n",
      "Processing project 2135 of 3000\n",
      "Processing project 2136 of 3000\n",
      "Processing project 2137 of 3000\n",
      "Processing project 2138 of 3000\n",
      "Processing project 2139 of 3000\n",
      "Processing project 2140 of 3000\n",
      "Processing project 2141 of 3000\n",
      "Processing project 2142 of 3000\n",
      "Processing project 2143 of 3000\n",
      "Processing project 2144 of 3000\n",
      "Processing project 2145 of 3000\n",
      "Processing project 2146 of 3000\n",
      "Processing project 2147 of 3000\n",
      "Processing project 2148 of 3000\n",
      "Processing project 2149 of 3000\n",
      "Processing project 2150 of 3000\n",
      "Processing project 2151 of 3000\n",
      "Processing project 2152 of 3000\n",
      "Processing project 2153 of 3000\n",
      "Processing project 2154 of 3000\n",
      "Processing project 2155 of 3000\n",
      "Processing project 2156 of 3000\n",
      "Processing project 2157 of 3000\n",
      "Processing project 2158 of 3000\n",
      "Processing project 2159 of 3000\n",
      "Processing project 2160 of 3000\n",
      "Processing project 2161 of 3000\n",
      "Processing project 2162 of 3000\n",
      "Processing project 2163 of 3000\n",
      "Processing project 2164 of 3000\n",
      "Processing project 2165 of 3000\n",
      "Processing project 2166 of 3000\n",
      "Processing project 2167 of 3000\n",
      "Processing project 2168 of 3000\n",
      "Processing project 2169 of 3000\n",
      "Processing project 2170 of 3000\n",
      "Processing project 2171 of 3000\n",
      "Processing project 2172 of 3000\n",
      "Processing project 2173 of 3000\n",
      "Processing project 2174 of 3000\n",
      "Processing project 2175 of 3000\n",
      "Processing project 2176 of 3000\n",
      "Processing project 2177 of 3000\n",
      "Processing project 2178 of 3000\n",
      "Processing project 2179 of 3000\n",
      "Processing project 2180 of 3000\n",
      "Processing project 2181 of 3000\n",
      "Processing project 2182 of 3000\n",
      "Processing project 2183 of 3000\n",
      "Processing project 2184 of 3000\n",
      "Processing project 2185 of 3000\n",
      "Processing project 2186 of 3000\n",
      "Processing project 2187 of 3000\n",
      "Processing project 2188 of 3000\n",
      "Processing project 2189 of 3000\n",
      "Processing project 2190 of 3000\n",
      "Processing project 2191 of 3000\n",
      "Processing project 2192 of 3000\n",
      "Processing project 2193 of 3000\n",
      "Processing project 2194 of 3000\n",
      "Processing project 2195 of 3000\n",
      "Processing project 2196 of 3000\n",
      "Processing project 2197 of 3000\n",
      "Processing project 2198 of 3000\n",
      "Processing project 2199 of 3000\n",
      "Processing project 2200 of 3000\n",
      "Processing project 2201 of 3000\n",
      "Processing project 2202 of 3000\n",
      "Processing project 2203 of 3000\n",
      "Processing project 2204 of 3000\n",
      "Processing project 2205 of 3000\n",
      "Processing project 2206 of 3000\n",
      "Processing project 2207 of 3000\n",
      "Processing project 2208 of 3000\n",
      "Processing project 2209 of 3000\n",
      "Processing project 2210 of 3000\n",
      "Processing project 2211 of 3000\n",
      "Processing project 2212 of 3000\n",
      "Processing project 2213 of 3000\n",
      "Processing project 2214 of 3000\n",
      "Processing project 2215 of 3000\n",
      "Processing project 2216 of 3000\n",
      "Processing project 2217 of 3000\n",
      "Processing project 2218 of 3000\n",
      "Processing project 2219 of 3000\n",
      "Processing project 2220 of 3000\n",
      "Processing project 2221 of 3000\n",
      "Processing project 2222 of 3000\n",
      "Processing project 2223 of 3000\n",
      "Processing project 2224 of 3000\n",
      "Processing project 2225 of 3000\n",
      "Processing project 2226 of 3000\n",
      "Processing project 2227 of 3000\n",
      "Processing project 2228 of 3000\n",
      "Processing project 2229 of 3000\n",
      "Processing project 2230 of 3000\n",
      "Processing project 2231 of 3000\n",
      "Processing project 2232 of 3000\n",
      "Processing project 2233 of 3000\n",
      "Processing project 2234 of 3000\n",
      "Processing project 2235 of 3000\n",
      "Processing project 2236 of 3000\n",
      "Processing project 2237 of 3000\n",
      "Processing project 2238 of 3000\n",
      "Processing project 2239 of 3000\n",
      "Processing project 2240 of 3000\n",
      "Processing project 2241 of 3000\n",
      "Processing project 2242 of 3000\n",
      "Processing project 2243 of 3000\n",
      "Processing project 2244 of 3000\n",
      "Processing project 2245 of 3000\n",
      "Processing project 2246 of 3000\n",
      "Processing project 2247 of 3000\n",
      "Processing project 2248 of 3000\n",
      "Processing project 2249 of 3000\n",
      "Processing project 2250 of 3000\n",
      "Processing project 2251 of 3000\n",
      "Processing project 2252 of 3000\n",
      "Processing project 2253 of 3000\n",
      "Processing project 2254 of 3000\n",
      "Processing project 2255 of 3000\n",
      "Processing project 2256 of 3000\n",
      "Processing project 2257 of 3000\n",
      "Processing project 2258 of 3000\n",
      "Processing project 2259 of 3000\n",
      "Processing project 2260 of 3000\n",
      "Processing project 2261 of 3000\n",
      "Processing project 2262 of 3000\n",
      "Processing project 2263 of 3000\n",
      "Processing project 2264 of 3000\n",
      "Processing project 2265 of 3000\n",
      "Processing project 2266 of 3000\n",
      "Processing project 2267 of 3000\n",
      "Processing project 2268 of 3000\n",
      "Processing project 2269 of 3000\n",
      "Processing project 2270 of 3000\n",
      "Processing project 2271 of 3000\n",
      "Processing project 2272 of 3000\n",
      "Processing project 2273 of 3000\n",
      "Processing project 2274 of 3000\n",
      "Processing project 2275 of 3000\n",
      "Processing project 2276 of 3000\n",
      "Processing project 2277 of 3000\n",
      "Processing project 2278 of 3000\n",
      "Processing project 2279 of 3000\n",
      "Processing project 2280 of 3000\n",
      "Processing project 2281 of 3000\n",
      "Processing project 2282 of 3000\n",
      "Processing project 2283 of 3000\n",
      "Processing project 2284 of 3000\n",
      "Processing project 2285 of 3000\n",
      "Processing project 2286 of 3000\n",
      "Processing project 2287 of 3000\n",
      "Processing project 2288 of 3000\n",
      "Processing project 2289 of 3000\n",
      "Processing project 2290 of 3000\n",
      "Processing project 2291 of 3000\n",
      "Processing project 2292 of 3000\n",
      "Processing project 2293 of 3000\n",
      "Processing project 2294 of 3000\n",
      "Processing project 2295 of 3000\n",
      "Processing project 2296 of 3000\n",
      "Processing project 2297 of 3000\n",
      "Processing project 2298 of 3000\n",
      "Processing project 2299 of 3000\n",
      "Processing project 2300 of 3000\n",
      "Processing project 2301 of 3000\n",
      "Processing project 2302 of 3000\n",
      "Processing project 2303 of 3000\n",
      "Processing project 2304 of 3000\n",
      "Processing project 2305 of 3000\n",
      "Processing project 2306 of 3000\n",
      "Processing project 2307 of 3000\n",
      "Processing project 2308 of 3000\n",
      "Processing project 2309 of 3000\n",
      "Processing project 2310 of 3000\n",
      "Processing project 2311 of 3000\n",
      "Processing project 2312 of 3000\n",
      "Processing project 2313 of 3000\n",
      "Processing project 2314 of 3000\n",
      "Processing project 2315 of 3000\n",
      "Processing project 2316 of 3000\n",
      "Processing project 2317 of 3000\n",
      "Processing project 2318 of 3000\n",
      "Processing project 2319 of 3000\n",
      "Processing project 2320 of 3000\n",
      "Processing project 2321 of 3000\n",
      "Processing project 2322 of 3000\n",
      "Processing project 2323 of 3000\n",
      "Processing project 2324 of 3000\n",
      "Processing project 2325 of 3000\n",
      "Processing project 2326 of 3000\n",
      "Processing project 2327 of 3000\n",
      "Processing project 2328 of 3000\n",
      "Processing project 2329 of 3000\n",
      "Processing project 2330 of 3000\n",
      "Processing project 2331 of 3000\n",
      "Processing project 2332 of 3000\n",
      "Processing project 2333 of 3000\n",
      "Processing project 2334 of 3000\n",
      "Processing project 2335 of 3000\n",
      "Processing project 2336 of 3000\n",
      "Processing project 2337 of 3000\n",
      "Processing project 2338 of 3000\n",
      "Processing project 2339 of 3000\n",
      "Processing project 2340 of 3000\n",
      "Processing project 2341 of 3000\n",
      "Processing project 2342 of 3000\n",
      "Processing project 2343 of 3000\n",
      "Processing project 2344 of 3000\n",
      "Processing project 2345 of 3000\n",
      "Processing project 2346 of 3000\n"
     ]
    },
    {
     "name": "stdout",
     "output_type": "stream",
     "text": [
      "Processing project 2347 of 3000\n",
      "Processing project 2348 of 3000\n",
      "Processing project 2349 of 3000\n",
      "Processing project 2350 of 3000\n",
      "Processing project 2351 of 3000\n",
      "Processing project 2352 of 3000\n",
      "Processing project 2353 of 3000\n",
      "Processing project 2354 of 3000\n",
      "Processing project 2355 of 3000\n",
      "Processing project 2356 of 3000\n",
      "Processing project 2357 of 3000\n",
      "Processing project 2358 of 3000\n",
      "Processing project 2359 of 3000\n",
      "Processing project 2360 of 3000\n",
      "Processing project 2361 of 3000\n",
      "Processing project 2362 of 3000\n",
      "Processing project 2363 of 3000\n",
      "Processing project 2364 of 3000\n",
      "Processing project 2365 of 3000\n",
      "Processing project 2366 of 3000\n",
      "Processing project 2367 of 3000\n",
      "Processing project 2368 of 3000\n",
      "Processing project 2369 of 3000\n",
      "Processing project 2370 of 3000\n",
      "Processing project 2371 of 3000\n",
      "Processing project 2372 of 3000\n",
      "Processing project 2373 of 3000\n",
      "Processing project 2374 of 3000\n",
      "Processing project 2375 of 3000\n",
      "Processing project 2376 of 3000\n",
      "Processing project 2377 of 3000\n",
      "Processing project 2378 of 3000\n",
      "Processing project 2379 of 3000\n",
      "Processing project 2380 of 3000\n",
      "Processing project 2381 of 3000\n",
      "Processing project 2382 of 3000\n",
      "Processing project 2383 of 3000\n",
      "Processing project 2384 of 3000\n",
      "Processing project 2385 of 3000\n",
      "Processing project 2386 of 3000\n",
      "Processing project 2387 of 3000\n",
      "Processing project 2388 of 3000\n",
      "Processing project 2389 of 3000\n",
      "Processing project 2390 of 3000\n",
      "Processing project 2391 of 3000\n",
      "Processing project 2392 of 3000\n",
      "Processing project 2393 of 3000\n",
      "Processing project 2394 of 3000\n",
      "Processing project 2395 of 3000\n",
      "Processing project 2396 of 3000\n",
      "Processing project 2397 of 3000\n",
      "Processing project 2398 of 3000\n",
      "Processing project 2399 of 3000\n",
      "Processing project 2400 of 3000\n",
      "Processing project 2401 of 3000\n",
      "Processing project 2402 of 3000\n",
      "Processing project 2403 of 3000\n",
      "Processing project 2404 of 3000\n",
      "Processing project 2405 of 3000\n",
      "Processing project 2406 of 3000\n",
      "Processing project 2407 of 3000\n",
      "Processing project 2408 of 3000\n",
      "Processing project 2409 of 3000\n",
      "Processing project 2410 of 3000\n",
      "Processing project 2411 of 3000\n",
      "Processing project 2412 of 3000\n",
      "Processing project 2413 of 3000\n",
      "Processing project 2414 of 3000\n",
      "Processing project 2415 of 3000\n",
      "Processing project 2416 of 3000\n",
      "Processing project 2417 of 3000\n",
      "Processing project 2418 of 3000\n",
      "Processing project 2419 of 3000\n",
      "Processing project 2420 of 3000\n",
      "Processing project 2421 of 3000\n",
      "Processing project 2422 of 3000\n",
      "Processing project 2423 of 3000\n",
      "Processing project 2424 of 3000\n",
      "Processing project 2425 of 3000\n",
      "Processing project 2426 of 3000\n",
      "Processing project 2427 of 3000\n",
      "Processing project 2428 of 3000\n",
      "Processing project 2429 of 3000\n",
      "Processing project 2430 of 3000\n",
      "Processing project 2431 of 3000\n",
      "Processing project 2432 of 3000\n",
      "Processing project 2433 of 3000\n",
      "Processing project 2434 of 3000\n",
      "Processing project 2435 of 3000\n",
      "Processing project 2436 of 3000\n",
      "Processing project 2437 of 3000\n",
      "Processing project 2438 of 3000\n",
      "Processing project 2439 of 3000\n",
      "Processing project 2440 of 3000\n",
      "Processing project 2441 of 3000\n",
      "Processing project 2442 of 3000\n",
      "Processing project 2443 of 3000\n",
      "Processing project 2444 of 3000\n",
      "Processing project 2445 of 3000\n",
      "Processing project 2446 of 3000\n",
      "Processing project 2447 of 3000\n",
      "Processing project 2448 of 3000\n",
      "Processing project 2449 of 3000\n",
      "Processing project 2450 of 3000\n",
      "Processing project 2451 of 3000\n",
      "Processing project 2452 of 3000\n",
      "Processing project 2453 of 3000\n",
      "Processing project 2454 of 3000\n",
      "Processing project 2455 of 3000\n",
      "Processing project 2456 of 3000\n",
      "Processing project 2457 of 3000\n",
      "Processing project 2458 of 3000\n",
      "Processing project 2459 of 3000\n",
      "Processing project 2460 of 3000\n",
      "Processing project 2461 of 3000\n",
      "Processing project 2462 of 3000\n",
      "Processing project 2463 of 3000\n",
      "Processing project 2464 of 3000\n",
      "Processing project 2465 of 3000\n",
      "Processing project 2466 of 3000\n",
      "Processing project 2467 of 3000\n",
      "Processing project 2468 of 3000\n",
      "Processing project 2469 of 3000\n",
      "Processing project 2470 of 3000\n",
      "Processing project 2471 of 3000\n",
      "Processing project 2472 of 3000\n",
      "Processing project 2473 of 3000\n",
      "Processing project 2474 of 3000\n",
      "Processing project 2475 of 3000\n",
      "Processing project 2476 of 3000\n",
      "Processing project 2477 of 3000\n",
      "Processing project 2478 of 3000\n",
      "Processing project 2479 of 3000\n",
      "Processing project 2480 of 3000\n",
      "Processing project 2481 of 3000\n",
      "Processing project 2482 of 3000\n",
      "Processing project 2483 of 3000\n",
      "Processing project 2484 of 3000\n",
      "Processing project 2485 of 3000\n",
      "Processing project 2486 of 3000\n",
      "Processing project 2487 of 3000\n",
      "Processing project 2488 of 3000\n",
      "Processing project 2489 of 3000\n",
      "Processing project 2490 of 3000\n",
      "Processing project 2491 of 3000\n",
      "Processing project 2492 of 3000\n",
      "Processing project 2493 of 3000\n",
      "Processing project 2494 of 3000\n",
      "Processing project 2495 of 3000\n",
      "Processing project 2496 of 3000\n",
      "Processing project 2497 of 3000\n",
      "Processing project 2498 of 3000\n",
      "Processing project 2499 of 3000\n",
      "Processing project 2500 of 3000\n",
      "Processing project 2501 of 3000\n",
      "Processing project 2502 of 3000\n",
      "Processing project 2503 of 3000\n",
      "Processing project 2504 of 3000\n",
      "Processing project 2505 of 3000\n",
      "Processing project 2506 of 3000\n",
      "Processing project 2507 of 3000\n",
      "Processing project 2508 of 3000\n",
      "Processing project 2509 of 3000\n",
      "Processing project 2510 of 3000\n",
      "Processing project 2511 of 3000\n",
      "Processing project 2512 of 3000\n",
      "Processing project 2513 of 3000\n",
      "Processing project 2514 of 3000\n",
      "Processing project 2515 of 3000\n",
      "Processing project 2516 of 3000\n",
      "Processing project 2517 of 3000\n",
      "Processing project 2518 of 3000\n",
      "Processing project 2519 of 3000\n",
      "Processing project 2520 of 3000\n",
      "Processing project 2521 of 3000\n",
      "Processing project 2522 of 3000\n",
      "Processing project 2523 of 3000\n",
      "Processing project 2524 of 3000\n",
      "Processing project 2525 of 3000\n",
      "Processing project 2526 of 3000\n",
      "Processing project 2527 of 3000\n",
      "Processing project 2528 of 3000\n",
      "Processing project 2529 of 3000\n",
      "Processing project 2530 of 3000\n",
      "Processing project 2531 of 3000\n",
      "Processing project 2532 of 3000\n",
      "Processing project 2533 of 3000\n",
      "Processing project 2534 of 3000\n",
      "Processing project 2535 of 3000\n",
      "Processing project 2536 of 3000\n",
      "Processing project 2537 of 3000\n",
      "Processing project 2538 of 3000\n",
      "Processing project 2539 of 3000\n",
      "Processing project 2540 of 3000\n",
      "Processing project 2541 of 3000\n",
      "Processing project 2542 of 3000\n",
      "Processing project 2543 of 3000\n",
      "Processing project 2544 of 3000\n",
      "Processing project 2545 of 3000\n",
      "Processing project 2546 of 3000\n",
      "Processing project 2547 of 3000\n",
      "Processing project 2548 of 3000\n",
      "Processing project 2549 of 3000\n",
      "Processing project 2550 of 3000\n",
      "Processing project 2551 of 3000\n",
      "Processing project 2552 of 3000\n",
      "Processing project 2553 of 3000\n",
      "Processing project 2554 of 3000\n",
      "Processing project 2555 of 3000\n",
      "Processing project 2556 of 3000\n",
      "Processing project 2557 of 3000\n",
      "Processing project 2558 of 3000\n",
      "Processing project 2559 of 3000\n",
      "Processing project 2560 of 3000\n",
      "Processing project 2561 of 3000\n",
      "Processing project 2562 of 3000\n",
      "Processing project 2563 of 3000\n",
      "Processing project 2564 of 3000\n",
      "Processing project 2565 of 3000\n",
      "Processing project 2566 of 3000\n",
      "Processing project 2567 of 3000\n",
      "Processing project 2568 of 3000\n",
      "Processing project 2569 of 3000\n",
      "Processing project 2570 of 3000\n",
      "Processing project 2571 of 3000\n",
      "Processing project 2572 of 3000\n",
      "Processing project 2573 of 3000\n",
      "Processing project 2574 of 3000\n",
      "Processing project 2575 of 3000\n",
      "Processing project 2576 of 3000\n",
      "Processing project 2577 of 3000\n",
      "Processing project 2578 of 3000\n",
      "Processing project 2579 of 3000\n",
      "Processing project 2580 of 3000\n",
      "Processing project 2581 of 3000\n",
      "Processing project 2582 of 3000\n",
      "Processing project 2583 of 3000\n",
      "Processing project 2584 of 3000\n",
      "Processing project 2585 of 3000\n",
      "Processing project 2586 of 3000\n",
      "Processing project 2587 of 3000\n",
      "Processing project 2588 of 3000\n",
      "Processing project 2589 of 3000\n",
      "Processing project 2590 of 3000\n",
      "Processing project 2591 of 3000\n",
      "Processing project 2592 of 3000\n",
      "Processing project 2593 of 3000\n",
      "Processing project 2594 of 3000\n",
      "Processing project 2595 of 3000\n",
      "Processing project 2596 of 3000\n",
      "Processing project 2597 of 3000\n",
      "Processing project 2598 of 3000\n",
      "Processing project 2599 of 3000\n",
      "Processing project 2600 of 3000\n",
      "Processing project 2601 of 3000\n",
      "Processing project 2602 of 3000\n",
      "Processing project 2603 of 3000\n"
     ]
    },
    {
     "name": "stdout",
     "output_type": "stream",
     "text": [
      "Processing project 2604 of 3000\n",
      "Processing project 2605 of 3000\n",
      "Processing project 2606 of 3000\n",
      "Processing project 2607 of 3000\n",
      "Processing project 2608 of 3000\n",
      "Processing project 2609 of 3000\n",
      "Processing project 2610 of 3000\n",
      "Processing project 2611 of 3000\n",
      "Processing project 2612 of 3000\n",
      "Processing project 2613 of 3000\n",
      "Processing project 2614 of 3000\n",
      "Processing project 2615 of 3000\n",
      "Processing project 2616 of 3000\n",
      "Processing project 2617 of 3000\n",
      "Processing project 2618 of 3000\n",
      "Processing project 2619 of 3000\n",
      "Processing project 2620 of 3000\n",
      "Processing project 2621 of 3000\n",
      "Processing project 2622 of 3000\n",
      "Processing project 2623 of 3000\n",
      "Processing project 2624 of 3000\n",
      "Processing project 2625 of 3000\n",
      "Processing project 2626 of 3000\n",
      "Processing project 2627 of 3000\n",
      "Processing project 2628 of 3000\n",
      "Processing project 2629 of 3000\n",
      "Processing project 2630 of 3000\n",
      "Processing project 2631 of 3000\n",
      "Processing project 2632 of 3000\n",
      "Processing project 2633 of 3000\n",
      "Processing project 2634 of 3000\n",
      "Processing project 2635 of 3000\n",
      "Processing project 2636 of 3000\n",
      "Processing project 2637 of 3000\n",
      "Processing project 2638 of 3000\n",
      "Processing project 2639 of 3000\n",
      "Processing project 2640 of 3000\n",
      "Processing project 2641 of 3000\n",
      "Processing project 2642 of 3000\n",
      "Processing project 2643 of 3000\n",
      "Processing project 2644 of 3000\n",
      "Processing project 2645 of 3000\n",
      "Processing project 2646 of 3000\n",
      "Processing project 2647 of 3000\n",
      "Processing project 2648 of 3000\n",
      "Processing project 2649 of 3000\n",
      "Processing project 2650 of 3000\n",
      "Processing project 2651 of 3000\n",
      "Processing project 2652 of 3000\n",
      "Processing project 2653 of 3000\n",
      "Processing project 2654 of 3000\n",
      "Processing project 2655 of 3000\n",
      "Processing project 2656 of 3000\n",
      "Processing project 2657 of 3000\n",
      "Processing project 2658 of 3000\n",
      "Processing project 2659 of 3000\n",
      "Processing project 2660 of 3000\n",
      "Processing project 2661 of 3000\n",
      "Processing project 2662 of 3000\n",
      "Processing project 2663 of 3000\n",
      "Processing project 2664 of 3000\n",
      "Processing project 2665 of 3000\n",
      "Processing project 2666 of 3000\n",
      "Processing project 2667 of 3000\n",
      "Processing project 2668 of 3000\n",
      "Processing project 2669 of 3000\n",
      "Processing project 2670 of 3000\n",
      "Processing project 2671 of 3000\n",
      "Processing project 2672 of 3000\n",
      "Processing project 2673 of 3000\n",
      "Processing project 2674 of 3000\n",
      "Processing project 2675 of 3000\n",
      "Processing project 2676 of 3000\n",
      "Processing project 2677 of 3000\n",
      "Processing project 2678 of 3000\n",
      "Processing project 2679 of 3000\n",
      "Processing project 2680 of 3000\n",
      "Processing project 2681 of 3000\n",
      "Processing project 2682 of 3000\n",
      "Processing project 2683 of 3000\n",
      "Processing project 2684 of 3000\n",
      "Processing project 2685 of 3000\n",
      "Processing project 2686 of 3000\n",
      "Processing project 2687 of 3000\n",
      "Processing project 2688 of 3000\n",
      "Processing project 2689 of 3000\n",
      "Processing project 2690 of 3000\n",
      "Processing project 2691 of 3000\n",
      "Processing project 2692 of 3000\n",
      "Processing project 2693 of 3000\n",
      "Processing project 2694 of 3000\n",
      "Processing project 2695 of 3000\n",
      "Processing project 2696 of 3000\n",
      "Processing project 2697 of 3000\n",
      "Processing project 2698 of 3000\n",
      "Processing project 2699 of 3000\n",
      "Processing project 2700 of 3000\n",
      "Processing project 2701 of 3000\n",
      "Processing project 2702 of 3000\n",
      "Processing project 2703 of 3000\n",
      "Processing project 2704 of 3000\n",
      "Processing project 2705 of 3000\n",
      "Processing project 2706 of 3000\n",
      "Processing project 2707 of 3000\n",
      "Processing project 2708 of 3000\n",
      "Processing project 2709 of 3000\n",
      "Processing project 2710 of 3000\n",
      "Processing project 2711 of 3000\n",
      "Processing project 2712 of 3000\n",
      "Processing project 2713 of 3000\n",
      "Processing project 2714 of 3000\n",
      "Processing project 2715 of 3000\n",
      "Processing project 2716 of 3000\n",
      "Processing project 2717 of 3000\n",
      "Processing project 2718 of 3000\n",
      "Processing project 2719 of 3000\n",
      "Processing project 2720 of 3000\n",
      "Processing project 2721 of 3000\n",
      "Processing project 2722 of 3000\n",
      "Processing project 2723 of 3000\n",
      "Processing project 2724 of 3000\n",
      "Processing project 2725 of 3000\n",
      "Processing project 2726 of 3000\n",
      "Processing project 2727 of 3000\n",
      "Processing project 2728 of 3000\n",
      "Processing project 2729 of 3000\n",
      "Processing project 2730 of 3000\n",
      "Processing project 2731 of 3000\n",
      "Processing project 2732 of 3000\n",
      "Processing project 2733 of 3000\n",
      "Processing project 2734 of 3000\n",
      "Processing project 2735 of 3000\n",
      "Processing project 2736 of 3000\n",
      "Processing project 2737 of 3000\n",
      "Processing project 2738 of 3000\n",
      "Processing project 2739 of 3000\n",
      "Processing project 2740 of 3000\n",
      "Processing project 2741 of 3000\n",
      "Processing project 2742 of 3000\n",
      "Processing project 2743 of 3000\n",
      "Processing project 2744 of 3000\n",
      "Processing project 2745 of 3000\n",
      "Processing project 2746 of 3000\n",
      "Processing project 2747 of 3000\n",
      "Processing project 2748 of 3000\n",
      "Processing project 2749 of 3000\n",
      "Processing project 2750 of 3000\n",
      "Processing project 2751 of 3000\n",
      "Processing project 2752 of 3000\n",
      "Processing project 2753 of 3000\n",
      "Processing project 2754 of 3000\n",
      "Processing project 2755 of 3000\n",
      "Processing project 2756 of 3000\n",
      "Processing project 2757 of 3000\n",
      "Processing project 2758 of 3000\n",
      "Processing project 2759 of 3000\n",
      "Processing project 2760 of 3000\n",
      "Processing project 2761 of 3000\n",
      "Processing project 2762 of 3000\n",
      "Processing project 2763 of 3000\n",
      "Processing project 2764 of 3000\n",
      "Processing project 2765 of 3000\n",
      "Processing project 2766 of 3000\n",
      "Processing project 2767 of 3000\n",
      "Processing project 2768 of 3000\n",
      "Processing project 2769 of 3000\n",
      "Processing project 2770 of 3000\n",
      "Processing project 2771 of 3000\n",
      "Processing project 2772 of 3000\n",
      "Processing project 2773 of 3000\n",
      "Processing project 2774 of 3000\n",
      "Processing project 2775 of 3000\n",
      "Processing project 2776 of 3000\n",
      "Processing project 2777 of 3000\n",
      "Processing project 2778 of 3000\n",
      "Processing project 2779 of 3000\n",
      "Processing project 2780 of 3000\n",
      "Processing project 2781 of 3000\n",
      "Processing project 2782 of 3000\n",
      "Processing project 2783 of 3000\n",
      "Processing project 2784 of 3000\n",
      "Processing project 2785 of 3000\n",
      "Processing project 2786 of 3000\n",
      "Processing project 2787 of 3000\n",
      "Processing project 2788 of 3000\n",
      "Processing project 2789 of 3000\n",
      "Processing project 2790 of 3000\n",
      "Processing project 2791 of 3000\n",
      "Processing project 2792 of 3000\n",
      "Processing project 2793 of 3000\n",
      "Processing project 2794 of 3000\n",
      "Processing project 2795 of 3000\n",
      "Processing project 2796 of 3000\n",
      "Processing project 2797 of 3000\n",
      "Processing project 2798 of 3000\n",
      "Processing project 2799 of 3000\n",
      "Processing project 2800 of 3000\n",
      "Processing project 2801 of 3000\n",
      "Processing project 2802 of 3000\n",
      "Processing project 2803 of 3000\n",
      "Processing project 2804 of 3000\n",
      "Processing project 2805 of 3000\n",
      "Processing project 2806 of 3000\n",
      "Processing project 2807 of 3000\n",
      "Processing project 2808 of 3000\n",
      "Processing project 2809 of 3000\n",
      "Processing project 2810 of 3000\n",
      "Processing project 2811 of 3000\n",
      "Processing project 2812 of 3000\n",
      "Processing project 2813 of 3000\n",
      "Processing project 2814 of 3000\n",
      "Processing project 2815 of 3000\n",
      "Processing project 2816 of 3000\n",
      "Processing project 2817 of 3000\n",
      "Processing project 2818 of 3000\n",
      "Processing project 2819 of 3000\n",
      "Processing project 2820 of 3000\n",
      "Processing project 2821 of 3000\n",
      "Processing project 2822 of 3000\n",
      "Processing project 2823 of 3000\n",
      "Processing project 2824 of 3000\n",
      "Processing project 2825 of 3000\n",
      "Processing project 2826 of 3000\n",
      "Processing project 2827 of 3000\n",
      "Processing project 2828 of 3000\n",
      "Processing project 2829 of 3000\n",
      "Processing project 2830 of 3000\n",
      "Processing project 2831 of 3000\n",
      "Processing project 2832 of 3000\n",
      "Processing project 2833 of 3000\n",
      "Processing project 2834 of 3000\n",
      "Processing project 2835 of 3000\n",
      "Processing project 2836 of 3000\n",
      "Processing project 2837 of 3000\n",
      "Processing project 2838 of 3000\n",
      "Processing project 2839 of 3000\n",
      "Processing project 2840 of 3000\n",
      "Processing project 2841 of 3000\n",
      "Processing project 2842 of 3000\n",
      "Processing project 2843 of 3000\n",
      "Processing project 2844 of 3000\n",
      "Processing project 2845 of 3000\n",
      "Processing project 2846 of 3000\n",
      "Processing project 2847 of 3000\n",
      "Processing project 2848 of 3000\n",
      "Processing project 2849 of 3000\n",
      "Processing project 2850 of 3000\n",
      "Processing project 2851 of 3000\n",
      "Processing project 2852 of 3000\n",
      "Processing project 2853 of 3000\n",
      "Processing project 2854 of 3000\n",
      "Processing project 2855 of 3000\n",
      "Processing project 2856 of 3000\n",
      "Processing project 2857 of 3000\n",
      "Processing project 2858 of 3000\n",
      "Processing project 2859 of 3000\n",
      "Processing project 2860 of 3000\n"
     ]
    },
    {
     "name": "stdout",
     "output_type": "stream",
     "text": [
      "Processing project 2861 of 3000\n",
      "Processing project 2862 of 3000\n",
      "Processing project 2863 of 3000\n",
      "Processing project 2864 of 3000\n",
      "Processing project 2865 of 3000\n",
      "Processing project 2866 of 3000\n",
      "Processing project 2867 of 3000\n",
      "Processing project 2868 of 3000\n",
      "Processing project 2869 of 3000\n",
      "Processing project 2870 of 3000\n",
      "Processing project 2871 of 3000\n",
      "Processing project 2872 of 3000\n",
      "Processing project 2873 of 3000\n",
      "Processing project 2874 of 3000\n",
      "Processing project 2875 of 3000\n",
      "Processing project 2876 of 3000\n",
      "Processing project 2877 of 3000\n",
      "Processing project 2878 of 3000\n",
      "Processing project 2879 of 3000\n",
      "Processing project 2880 of 3000\n",
      "Processing project 2881 of 3000\n",
      "Processing project 2882 of 3000\n",
      "Processing project 2883 of 3000\n",
      "Processing project 2884 of 3000\n",
      "Processing project 2885 of 3000\n",
      "Processing project 2886 of 3000\n",
      "Processing project 2887 of 3000\n",
      "Processing project 2888 of 3000\n",
      "Processing project 2889 of 3000\n",
      "Processing project 2890 of 3000\n",
      "Processing project 2891 of 3000\n",
      "Processing project 2892 of 3000\n",
      "Processing project 2893 of 3000\n",
      "Processing project 2894 of 3000\n",
      "Processing project 2895 of 3000\n",
      "Processing project 2896 of 3000\n",
      "Processing project 2897 of 3000\n",
      "Processing project 2898 of 3000\n",
      "Processing project 2899 of 3000\n",
      "Processing project 2900 of 3000\n",
      "Processing project 2901 of 3000\n",
      "Processing project 2902 of 3000\n",
      "Processing project 2903 of 3000\n",
      "Processing project 2904 of 3000\n",
      "Processing project 2905 of 3000\n",
      "Processing project 2906 of 3000\n",
      "Processing project 2907 of 3000\n",
      "Processing project 2908 of 3000\n",
      "Processing project 2909 of 3000\n",
      "Processing project 2910 of 3000\n",
      "Processing project 2911 of 3000\n",
      "Processing project 2912 of 3000\n",
      "Processing project 2913 of 3000\n",
      "Processing project 2914 of 3000\n",
      "Processing project 2915 of 3000\n",
      "Processing project 2916 of 3000\n",
      "Processing project 2917 of 3000\n",
      "Processing project 2918 of 3000\n",
      "Processing project 2919 of 3000\n",
      "Processing project 2920 of 3000\n",
      "Processing project 2921 of 3000\n",
      "Processing project 2922 of 3000\n",
      "Processing project 2923 of 3000\n",
      "Processing project 2924 of 3000\n",
      "Processing project 2925 of 3000\n",
      "Processing project 2926 of 3000\n",
      "Processing project 2927 of 3000\n",
      "Processing project 2928 of 3000\n",
      "Processing project 2929 of 3000\n",
      "Processing project 2930 of 3000\n",
      "Processing project 2931 of 3000\n",
      "Processing project 2932 of 3000\n",
      "Processing project 2933 of 3000\n",
      "Processing project 2934 of 3000\n",
      "Processing project 2935 of 3000\n",
      "Processing project 2936 of 3000\n",
      "Processing project 2937 of 3000\n",
      "Processing project 2938 of 3000\n",
      "Processing project 2939 of 3000\n",
      "Processing project 2940 of 3000\n",
      "Processing project 2941 of 3000\n",
      "Processing project 2942 of 3000\n",
      "Processing project 2943 of 3000\n",
      "Processing project 2944 of 3000\n",
      "Processing project 2945 of 3000\n",
      "Processing project 2946 of 3000\n",
      "Processing project 2947 of 3000\n",
      "Processing project 2948 of 3000\n",
      "Processing project 2949 of 3000\n",
      "Processing project 2950 of 3000\n",
      "Processing project 2951 of 3000\n",
      "Processing project 2952 of 3000\n",
      "Processing project 2953 of 3000\n",
      "Processing project 2954 of 3000\n",
      "Processing project 2955 of 3000\n",
      "Processing project 2956 of 3000\n",
      "Processing project 2957 of 3000\n",
      "Processing project 2958 of 3000\n",
      "Processing project 2959 of 3000\n",
      "Processing project 2960 of 3000\n",
      "Processing project 2961 of 3000\n",
      "Processing project 2962 of 3000\n",
      "Processing project 2963 of 3000\n",
      "Processing project 2964 of 3000\n",
      "Processing project 2965 of 3000\n",
      "Processing project 2966 of 3000\n",
      "Processing project 2967 of 3000\n",
      "Processing project 2968 of 3000\n",
      "Processing project 2969 of 3000\n",
      "Processing project 2970 of 3000\n",
      "Processing project 2971 of 3000\n",
      "Processing project 2972 of 3000\n",
      "Processing project 2973 of 3000\n",
      "Processing project 2974 of 3000\n",
      "Processing project 2975 of 3000\n",
      "Processing project 2976 of 3000\n",
      "Processing project 2977 of 3000\n",
      "Processing project 2978 of 3000\n",
      "Processing project 2979 of 3000\n",
      "Processing project 2980 of 3000\n",
      "Processing project 2981 of 3000\n",
      "Processing project 2982 of 3000\n",
      "Processing project 2983 of 3000\n",
      "Processing project 2984 of 3000\n",
      "Processing project 2985 of 3000\n",
      "Processing project 2986 of 3000\n",
      "Processing project 2987 of 3000\n",
      "Processing project 2988 of 3000\n",
      "Processing project 2989 of 3000\n",
      "Processing project 2990 of 3000\n",
      "Processing project 2991 of 3000\n",
      "Processing project 2992 of 3000\n",
      "Processing project 2993 of 3000\n",
      "Processing project 2994 of 3000\n",
      "Processing project 2995 of 3000\n",
      "Processing project 2996 of 3000\n",
      "Processing project 2997 of 3000\n",
      "Processing project 2998 of 3000\n",
      "Processing project 2999 of 3000\n",
      "Processing project 3000 of 3000\n"
     ]
    }
   ],
   "source": [
    "model_score = 0\n",
    "projects_count = len(projects_test)\n",
    "for idx, project in enumerate(projects_test): \n",
    "    #if (idx+1) % 250 == 0:\n",
    "    print(\"Processing project {0} of {1}\".format(idx+1, projects_count))\n",
    "    predict_libraries_from_library(model_countVectorizer_train, data_train, project)\n",
    "    model_score += project['score']\n",
    "\n",
    "model_score = model_score/len(projects_test)"
   ]
  },
  {
   "cell_type": "code",
   "execution_count": 96,
   "metadata": {},
   "outputs": [
    {
     "name": "stdout",
     "output_type": "stream",
     "text": [
      "El score obtenido es: 0.6320132330737668\n"
     ]
    }
   ],
   "source": [
    "print('El score obtenido es:',model_score)"
   ]
  },
  {
   "cell_type": "markdown",
   "metadata": {},
   "source": [
    "."
   ]
  },
  {
   "cell_type": "markdown",
   "metadata": {},
   "source": [
    "\n",
    "\n",
    "<span style=\"color: #12297c; font-family: Arial; font-size: 3em;\">Aplicación a un proyecto de ejemplo</span>"
   ]
  },
  {
   "cell_type": "markdown",
   "metadata": {},
   "source": [
    "Para poner en práctica el sistema de recomendación vamos a usar un proyecto real almacenado en Github. En primer lugar definimos una función que dado un proyecto, lo descargue en local y aplique el mismo procesamiento que hicimos con los proyectos que componen nuestro corpus."
   ]
  },
  {
   "cell_type": "code",
   "execution_count": null,
   "metadata": {},
   "outputs": [],
   "source": [
    "def proccess_url(git_url):\n",
    "    project = dict()\n",
    "    os.chdir(ROOT_PATH)\n",
    "    dir_name = uuid.uuid4().hex\n",
    "    path = ROOT_PATH + \"/\" + dir_name\n",
    "\n",
    "    if not os.path.isdir(path):\n",
    "        os.system(CLONE_COMMAND.format(git_url, dir_name))\n",
    "        project['git_url'] = git_url\n",
    "        project['library'] = []\n",
    "        project['library_lines'] = []\n",
    "        for root, dirs, files in os.walk(path):\n",
    "            for file in files:\n",
    "                try:\n",
    "                    if file.endswith(FILE_LANGUAGE_EXTENSION):\n",
    "                        process_python_file(project, os.path.join(root, file))\n",
    "                    else:\n",
    "                        if file.lower().startswith(\"readme.\"):\n",
    "                            process_readme_file(project, os.path.join(root, file))\n",
    "                except:\n",
    "                    pass\n",
    "        project['readme_words'] = get_words(project['readme_txt'])\n",
    "        project['library'] = process_library(project['library'])\n",
    "        project['pipeline_status'] = 'DONE'\n",
    "    return project"
   ]
  },
  {
   "cell_type": "markdown",
   "metadata": {},
   "source": [
    "Y la invocamos con nuestro projecto de ejemplo"
   ]
  },
  {
   "cell_type": "code",
   "execution_count": null,
   "metadata": {},
   "outputs": [],
   "source": [
    "#sample_project = proccess_url(\"https://github.com/yazquez/programmable-agents_tensorflow.git\")"
   ]
  },
  {
   "cell_type": "code",
   "execution_count": null,
   "metadata": {},
   "outputs": [],
   "source": [
    "sample_project = proccess_url(\"https://github.com/cvzoya/visimportance.git\")"
   ]
  },
  {
   "cell_type": "markdown",
   "metadata": {},
   "source": [
    "Podemos ver las librerías que está usando"
   ]
  },
  {
   "cell_type": "code",
   "execution_count": null,
   "metadata": {},
   "outputs": [],
   "source": [
    "sample_project['library'][:10]"
   ]
  },
  {
   "cell_type": "markdown",
   "metadata": {},
   "source": [
    "Así como su descripción (fichero **readme**)"
   ]
  },
  {
   "cell_type": "code",
   "execution_count": null,
   "metadata": {},
   "outputs": [],
   "source": [
    "sample_project['readme_txt'][:2000]"
   ]
  },
  {
   "cell_type": "markdown",
   "metadata": {},
   "source": [
    "Y la descomposición de dicho fichero en sus palabras significativas"
   ]
  },
  {
   "cell_type": "code",
   "execution_count": null,
   "metadata": {},
   "outputs": [],
   "source": [
    "sample_project['readme_words'][:7]"
   ]
  },
  {
   "cell_type": "markdown",
   "metadata": {},
   "source": [
    "Si recapitulamos, tenemos las siguientes funciones definidas:\n",
    "\n",
    "- **get_similarities_by_description**: Devuelve los proyectos similares en funcíon de sus descripciones\n",
    "- **get_similarities_by_library**: Devuelve los proyectos similares en funcíon de las librerías que se usa\n",
    "- **get_library_similarities(project_similarities)**: Devuelve las librerías comunes usando una lista de proyectos\n"
   ]
  },
  {
   "cell_type": "markdown",
   "metadata": {},
   "source": [
    "Las aplicamos a nuestro proyecto de ejemplo"
   ]
  },
  {
   "cell_type": "markdown",
   "metadata": {},
   "source": [
    "Empezamos obteniendo los proyectos más similares al del ejemplo usando las descripciones y a partir de estos proyectos obtenemos las librerías"
   ]
  },
  {
   "cell_type": "code",
   "execution_count": null,
   "metadata": {},
   "outputs": [],
   "source": [
    "project_similarities_by_description = get_similarities_by_description(model, dictionary, similarity_matrix, sample_project['readme_words'])"
   ]
  },
  {
   "cell_type": "code",
   "execution_count": null,
   "metadata": {},
   "outputs": [],
   "source": [
    "library_similarities_by_description = get_library_similarities(projects, project_similarities_by_description, sample_project['library'])"
   ]
  },
  {
   "cell_type": "markdown",
   "metadata": {},
   "source": [
    "Mostramos los 10 proyectos más similares"
   ]
  },
  {
   "cell_type": "code",
   "execution_count": null,
   "metadata": {},
   "outputs": [],
   "source": [
    "show_project_similarities(projects, project_similarities_by_library)"
   ]
  },
  {
   "cell_type": "markdown",
   "metadata": {},
   "source": [
    "Hacemos lo mismo usando las librerías del proyecto como medida de similitud"
   ]
  },
  {
   "cell_type": "code",
   "execution_count": null,
   "metadata": {},
   "outputs": [],
   "source": [
    "project_similarities_by_library = get_similarities_by_library(data, \" \".join(sample_project['library']), model_countVectorizer)"
   ]
  },
  {
   "cell_type": "code",
   "execution_count": null,
   "metadata": {},
   "outputs": [],
   "source": [
    "library_similarities_by_libraries = get_library_similarities(projects, project_similarities_by_library, sample_project['library'])"
   ]
  },
  {
   "cell_type": "markdown",
   "metadata": {},
   "source": [
    "Mostramos los 10 proyectos más similares"
   ]
  },
  {
   "cell_type": "code",
   "execution_count": null,
   "metadata": {},
   "outputs": [],
   "source": [
    "show_project_similarities(projects, project_similarities_by_library)"
   ]
  },
  {
   "cell_type": "markdown",
   "metadata": {},
   "source": [
    "## Resultados"
   ]
  },
  {
   "cell_type": "markdown",
   "metadata": {},
   "source": [
    "Como punto final vamos a mostrar las librerías recomendadas usando los dos modelos implementados."
   ]
  },
  {
   "cell_type": "markdown",
   "metadata": {},
   "source": [
    "**Librerías recomendadas en función de las descripciones**"
   ]
  },
  {
   "cell_type": "code",
   "execution_count": null,
   "metadata": {},
   "outputs": [],
   "source": [
    "show_library_similarities(library_similarities_by_description)"
   ]
  },
  {
   "cell_type": "markdown",
   "metadata": {},
   "source": [
    "**Librerías recomendadas en función de las librerías comunes**"
   ]
  },
  {
   "cell_type": "code",
   "execution_count": null,
   "metadata": {},
   "outputs": [],
   "source": [
    "show_library_similarities(library_similarities_by_libraries)"
   ]
  }
 ],
 "metadata": {
  "kernelspec": {
   "display_name": "Python 3",
   "language": "python",
   "name": "python3"
  },
  "language_info": {
   "codemirror_mode": {
    "name": "ipython",
    "version": 3
   },
   "file_extension": ".py",
   "mimetype": "text/x-python",
   "name": "python",
   "nbconvert_exporter": "python",
   "pygments_lexer": "ipython3",
   "version": "3.5.1"
  }
 },
 "nbformat": 4,
 "nbformat_minor": 1
}
