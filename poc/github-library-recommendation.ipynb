{
 "cells": [
  {
   "cell_type": "markdown",
   "metadata": {},
   "source": [
    "."
   ]
  },
  {
   "cell_type": "markdown",
   "metadata": {},
   "source": [
    "<span style=\"color: #8B008B; font-family: Arial; font-size: 3em;\">Sistema de recomendación de librerías Python</span>"
   ]
  },
  {
   "cell_type": "markdown",
   "metadata": {},
   "source": [
    " <span style=\"color:#4B0082; font-family: Arial; font-size: 2em;\">José Pérez Yázquez</span>"
   ]
  },
  {
   "cell_type": "markdown",
   "metadata": {},
   "source": [
    " <span style=\"color:#4B0082; font-family: Arial; font-size: 1.5em;\">Octubre de 2017</span>"
   ]
  },
  {
   "cell_type": "markdown",
   "metadata": {},
   "source": [
    "---"
   ]
  },
  {
   "cell_type": "markdown",
   "metadata": {},
   "source": [
    "<span style=\"color: #12297c; font-family: Arial; font-size: 3em;\">Introducción</span>"
   ]
  },
  {
   "cell_type": "markdown",
   "metadata": {},
   "source": [
    "El presente proyecto implementa una propuesta de recomendador de librerías Python, la idea es que dado un proyecto que estemos desarrollando, nos recomiende librerías que otros proyectos similares han usado. Para ello usa como \"corpus\" la BBDD por excelencia de código, **Github**, y como medida de similitud sus descripciones y las librerías que ya compartan.\n",
    "\n",
    "El proyecto consta de dos fases, en la primera de ellas obtendremos todos los metadatos de los proyectos usando la API Rest de Github y en la segunda parte, basándonos en esos metadatos construiremos el sistema de recomendación.\n",
    "\n",
    "Aunque el objetivo del proyecto es procesar proyectos **Python**, sería fácilmente extensible para que procesara proyectos implementados en otros lenguajes. Por ejemplo, si quisiéramos hacer un sistema de recomendación de librerías **R**, solo sería necesario modificar la expresión regular que busca los **import** para que buscase la instrucción **library**.\n",
    "\n",
    "\n",
    "\n",
    "        "
   ]
  },
  {
   "cell_type": "markdown",
   "metadata": {},
   "source": [
    "."
   ]
  },
  {
   "cell_type": "markdown",
   "metadata": {},
   "source": [
    "\n",
    "\n",
    "<span style=\"color: #12297c; font-family: Arial; font-size: 3em;\">Carga y procesamiento de datos</span>        "
   ]
  },
  {
   "cell_type": "markdown",
   "metadata": {},
   "source": [
    "Esta fase se divide a su vez en cuatro subfases:\n",
    " - Recopilación de la información de los proyectos\n",
    " - Clonado de los proyectos\n",
    " - Procesamiento de los proyectos clonados\n",
    " - Preprocesamiento de los datos"
   ]
  },
  {
   "cell_type": "markdown",
   "metadata": {},
   "source": [
    "## Recopilación de la información de los proyectos"
   ]
  },
  {
   "cell_type": "markdown",
   "metadata": {},
   "source": [
    "Usando la API Rest de Github descarga la información, metadatos, de todos los proyectos que cumplen una serie de criterios, estos serán los siguientes:\n",
    "  - Identificados como proyectos Python\n",
    "  - Creado entre el 1 de Enero de 2012 y el 31 de Agosto de 2017\n",
    "  - Con un mínimo de 10 estrellas\n",
    "\n",
    "Toda la información es almacenada en MongoDB concretamente en una colección llamada **projects** de una BD llamada **github**, la información almacenada es la siguiente:\n",
    " - **id**: Identificador generado por Github\n",
    " - **name**: Nombre del proyecto\n",
    " - **full_name**: Nombre ampliado del proyecto\n",
    " - **created_at**: Fecha de creación\n",
    " - **git_url**: Url al repositorio (es lo que se usa cuando se quiere clonar)\n",
    " - **description**: Descripción del proyecto\n",
    " - **language**: Lenguaje de programación del proyecto (Java, Python, Scala, etc)\n",
    " - **stars**: Número de estrellas del proyecto, nos da una medida de la *populariodad* del proyecto\n",
    " - **done**: Se usa a nivel interno, indica si un proyecto está procesado, esto es identificadas las librerías que usa y el fichero README cargado, en los puntos siguientes se detallan estos dos datos\n",
    " - **readme_txt**: Almacenará el texto de los ficheros README de los proyectos, será la información base para el sistema de recomendación\n",
    " - **library**: Lista con las librerías que el proyecto usa, en principio estará vacía y se alimentará cuando se procese el proyecto\n",
    " - **raw_data**: Almacena toda la información del proyecto sin procesar por si más adelante es necesario algún dato que en estos momentos no parece relevante\n",
    "\n",
    "Cuando se usa la API de Github sin autenticación existen una serie de límites que no podemos superar, el primero es que el número máximo de resultados que cualquier consulta puede devolver\n",
    "es de 1000, para salvar este impedimento, vamos a realizar sucesivas consultas restringiendo las llamadas a un solo día del intervalo que vamos a cubrir.\n",
    "\n",
    "Por otra parte, existe otra restricción en el uso de la API, el número de llamadas por minuto está limitado a 60, podríamos incrementar esta cantidad si las llamadas son autenticadas,\n",
    "esto es usar por ejemplo un \"client ID\" y \"secret\"  como partes de la consulta, pero vamos abordar una estrategia diferente. Se irán realizando las consultas sin atender a los límites y cuando ese límite se supere, se suspenderá el proceso durante 61 segundos y posteriormente se reanudará\n",
    "por el punto en el que iba.\n",
    "\n",
    "Si se desea consultar los límites comentados, podemos hacer una consulta, por ejemplo usando curl"
   ]
  },
  {
   "cell_type": "markdown",
   "metadata": {},
   "source": [
    "curl -i https://api.github.com/users/octocat\n",
    "\n",
    "HTTP/1.1 200 OK\n",
    "\n",
    "Date: Mon, 01 Jul 2017 17:27:06 GMT\n",
    "\n",
    "Status: 200 OK\n",
    "\n",
    "X-RateLimit-Limit: 60\n",
    "\n",
    "X-RateLimit-Remaining: 56\n",
    "\n",
    "X-RateLimit-Reset: 1372700873\n"
   ]
  },
  {
   "cell_type": "markdown",
   "metadata": {},
   "source": [
    "En la cabecera de la respuesta nos muestra los límites con el valor actual:\n",
    "\n",
    " - **X-RateLimit-Limit**       Número máximo de solicitudes que se le permite hacer por hora.\n",
    " - **X-RateLimit-Remaining**   Número de solicitudes restantes en la ventana de límite de velocidad actual.\n",
    " - **X-RateLimit-Reset**       Hora a la que se restablece la ventana de límite de velocidad actual en segundos UTC."
   ]
  },
  {
   "cell_type": "markdown",
   "metadata": {},
   "source": [
    "En primer lugar vamos a cargar las librerías necesarias para esta fase del proyecto"
   ]
  },
  {
   "cell_type": "code",
   "execution_count": 1,
   "metadata": {
    "collapsed": true
   },
   "outputs": [],
   "source": [
    "%matplotlib inline\n",
    "import warnings\n",
    "import logging\n",
    "warnings.filterwarnings('ignore')\n",
    "logging.basicConfig(format='%(asctime)s : %(levelname)s : %(message)s', level=logging.INFO)"
   ]
  },
  {
   "cell_type": "code",
   "execution_count": 2,
   "metadata": {
    "collapsed": true
   },
   "outputs": [],
   "source": [
    "import requests\n",
    "import json\n",
    "import os\n",
    "import sys\n",
    "import re\n",
    "from time import sleep\n",
    "from pymongo import MongoClient\n",
    "from datetime import date, timedelta"
   ]
  },
  {
   "cell_type": "markdown",
   "metadata": {},
   "source": [
    "A continuación vamos a definir una serie de constantes que serán usadas en el código, de esta manera podremos cambiar facilimente alguno de estos valores.\n",
    "El significado de cada una de ellas es el siguiente:\n",
    " - **MIN_STARTS**: Número mínimo de estrellas que tiene que tener un proyecto para ser considerado\n",
    " - **START_DATE**: Fecha de inicio del intervalo, haciendo referencia a la fecha de creación del proyecto en Github\n",
    " - **END_DATE**: Fecha de fin del intervalo\n",
    " - **URL_PATTERN**: Patrón de la URL para la consulta a la API de Github, podemos ver que filtramos por lenguaje (Python), por fecha de creación (la suministraremos durante la ejecución) y por numero de estrellas (referido a la constante comentada anteriormente).\n",
    " - **ROOT_PATH**: Directorio raiz donde clonaremos los repositorios (debe existir antes de empezar a clonar los proyectos).\n",
    " - **CLONE_COMMAND**: Comando usado para clonar los repositorios\n",
    " - **LIBRARY_PATTERN**: Patrón que cumplen las líneas de código en las que se importa una librería\n",
    " - **FILE_LANGUAGE_EXTENSION**: Extensión de los ficheros para el lenguaje a procesar."
   ]
  },
  {
   "cell_type": "markdown",
   "metadata": {},
   "source": [
    "En la introducción deciamos que el sistema podrías ser extensible a otros lenguajes más allá de Python, para ello tendríamos que cambiar las dos últimas constantes a las apropiadas al lenguaje que queramos procesar, por ejemplo para **Java**, la última constante valdría **\".java\"** y para **R** valdría **\".r\"**"
   ]
  },
  {
   "cell_type": "code",
   "execution_count": 3,
   "metadata": {},
   "outputs": [],
   "source": [
    "MIN_STARTS = 10\n",
    "START_DATE = date(2017, 8, 1)\n",
    "END_DATE = date(2017, 8, 2)\n",
    "URL_PATTERN = 'https://api.github.com/search/repositories?q=language:Python+created:{0}+stars:>={1}&type=Repositories'\n",
    "\n",
    "CLONE_COMMAND = \"git clone {0} {1}\"\n",
    "ROOT_PATH = \"d:/tfm/tmp\"\n",
    "\n",
    "LIBRARY_PATTERN = '(?m)^(?:from[ ]+(\\S+)[ ]+)?import[ ]+(\\S+)(?:[ ]+as[ ]+\\S+)?[ ]*$'\n",
    "FILE_LANGUAGE_EXTENSION = \".py\""
   ]
  },
  {
   "cell_type": "markdown",
   "metadata": {},
   "source": [
    "Como se ha comentado anteriormente, vamos a usar MongoDB como tecnología de persistencia, vamos a definir una funcion que nos devuelva una referencia a la colección de proyectos con la que estamos trabajando."
   ]
  },
  {
   "cell_type": "code",
   "execution_count": 4,
   "metadata": {
    "collapsed": true
   },
   "outputs": [],
   "source": [
    "def get_repository():\n",
    "    client = MongoClient('localhost', 27017)\n",
    "    db = client.github_poc\n",
    "    return db.projects"
   ]
  },
  {
   "cell_type": "markdown",
   "metadata": {},
   "source": [
    "La siguiente función es la que realmente hace las llamadas a la API, tendrá como entrada la fecha de creación de los proyectos, usará la URL que hemos definicdo como constante."
   ]
  },
  {
   "cell_type": "code",
   "execution_count": 5,
   "metadata": {
    "collapsed": true
   },
   "outputs": [],
   "source": [
    "def get_projects_by_date(date):\n",
    "    print(\"Processing date\", date)\n",
    "    url_pattern = URL_PATTERN\n",
    "    url = url_pattern.format(date, MIN_STARTS)\n",
    "    response = requests.get(url)\n",
    "    if (response.ok):\n",
    "        response_data = json.loads(response.content.decode('utf-8'))['items']\n",
    "        for project in response_data:\n",
    "            insert_project(project)\n",
    "    else:\n",
    "        response.raise_for_status()"
   ]
  },
  {
   "cell_type": "markdown",
   "metadata": {},
   "source": [
    "A continuanción definimos otra función auxiliar, que dada la información de la respuesta de la API, seleccionamos los atributos que vamos a necesitar y los almacenamos como un documento Mongo. Adicionalmente crea las propiedades mencionadas previamente (readme_txt,library,etc.)."
   ]
  },
  {
   "cell_type": "code",
   "execution_count": 6,
   "metadata": {
    "collapsed": true
   },
   "outputs": [],
   "source": [
    "def insert_project(github_project):\n",
    "    if repository_projects.find_one({\"id\": github_project[\"id\"]}):\n",
    "        print(\"Project {0} is already included in the repository\".format(github_project[\"name\"]))\n",
    "    else:\n",
    "        project = {\n",
    "            'id': github_project[\"id\"],\n",
    "            'name': github_project[\"name\"],\n",
    "            'full_name': github_project[\"full_name\"],\n",
    "            'created_at': github_project[\"created_at\"],\n",
    "            'git_url': github_project[\"git_url\"],\n",
    "            'description': github_project[\"description\"],\n",
    "            'language': github_project[\"language\"],\n",
    "            'stars': github_project[\"stargazers_count\"],\n",
    "            'done': False,\n",
    "            'readme_txt': \"\",\n",
    "            'library': [],\n",
    "            'raw_data': github_project\n",
    "        }\n",
    "        repository_projects.insert(project)"
   ]
  },
  {
   "cell_type": "markdown",
   "metadata": {},
   "source": [
    "Finalmente ejecutamos el programa que, usando las funciones anteriormente definidas, descarga la información de los proyectos y la inserta en la BBDD, podemos observar que descompone las llamadas para traer en cada una de ellas solo los proyectos de un determinado dia y que *\"gestiona\"* las restricciones que tenemos en cuanto a llamada en la ventana de tiempo actual. \n",
    "\n",
    "En primer lugar recuperamos la colección en la que vamos a insertar los proyectos."
   ]
  },
  {
   "cell_type": "code",
   "execution_count": 7,
   "metadata": {},
   "outputs": [],
   "source": [
    "repository_projects = get_repository()"
   ]
  },
  {
   "cell_type": "markdown",
   "metadata": {
    "collapsed": true
   },
   "source": [
    "Cargamos los proyectos en la colección, aplicamos las técnicas descritas para salvar las restricciones que nos impone la API de Github (número de items devuelto por cada consulta y número de llamadas por minuto)."
   ]
  },
  {
   "cell_type": "code",
   "execution_count": 8,
   "metadata": {},
   "outputs": [
    {
     "name": "stdout",
     "output_type": "stream",
     "text": [
      "Processing date 2017-08-01\n",
      "Processing date 2017-08-02\n"
     ]
    }
   ],
   "source": [
    "for project_create_at in [START_DATE + timedelta(days=x) for x in range((END_DATE - START_DATE).days + 1)]:\n",
    "    try:\n",
    "        get_projects_by_date(project_create_at)\n",
    "    except:\n",
    "        print(\">> Reached call limit, waiting 61 seconds...\")\n",
    "        sleep(61)\n",
    "        get_projects_by_date(project_create_at)"
   ]
  },
  {
   "cell_type": "markdown",
   "metadata": {},
   "source": [
    "En este punto tendriamos cargada toda la información que necesitamos de Github."
   ]
  },
  {
   "cell_type": "markdown",
   "metadata": {},
   "source": [
    " ## Clonado de los proyectos"
   ]
  },
  {
   "cell_type": "markdown",
   "metadata": {},
   "source": [
    "Para analizar las librerías que un proyecto utiliza, un camino podría ser buscar los ficheros **requirements** de cada proyecto y parsear esa información, pero dicho fichero no está presente en una gran cantidad de proyectos, por lo que se ha optado por un camino un poco más **radical**.\n",
    "\n",
    "Usando la información cargada en el paso anterior, fundamentalmente la propiedad **git_url**, vamos a clonar cada proyecto en local para posteriormente procesarlos.\n",
    "\n",
    "**NOTAS**: \n",
    "* El directorio ROOT_PATH debe existir antes de lanzar el siguiente script\n",
    "* Filtramos por los proyectos que no están procesados y nos aseguramos que el directorio no existe, porque este código, dado que puede tardar bastante, lo vamos a ejecutar en diferentes momentos, es decir llegado un punto se podría abortar el proceso y lanzarlo más adelante sin que se resienta por ello."
   ]
  },
  {
   "cell_type": "code",
   "execution_count": 9,
   "metadata": {},
   "outputs": [
    {
     "name": "stdout",
     "output_type": "stream",
     "text": [
      "Cloning project defcon25-public ...\n",
      "Cloning project isf ...\n",
      "Cloning project MachineLearningAction ...\n",
      "Cloning project Deep-Image-Matting ...\n",
      "Cloning project visimportance ...\n",
      "Cloning project TWindbg ...\n",
      "Cloning project vulcan ...\n",
      "Cloning project WAF_Bypass_Helper ...\n",
      "Cloning project programmable-agents_tensorflow ...\n",
      "Cloning project django_rest_example ...\n",
      "Cloning project keras-transform ...\n",
      "Cloning project SkySpyWatch ...\n",
      "Cloning project QQ_zone ...\n",
      "Cloning project pypaperbak ...\n",
      "Cloning project Imports-in-Python ...\n",
      "Cloning project OSINT-SPY ...\n",
      "Cloning project kinetics-i3d ...\n",
      "Cloning project cifar-10-cnn ...\n",
      "Cloning project solving-minesweeper-by-tensorflow ...\n",
      "Cloning project webcrawler ...\n",
      "Cloning project parseNTFS ...\n",
      "Cloning project neural_factorization_machine ...\n",
      "Cloning project attentional_factorization_machine ...\n",
      "Cloning project ChatGirl ...\n",
      "Cloning project pytorch-fitmodule ...\n",
      "Cloning project Semantic_Segmentation ...\n",
      "Cloning project captcha-svm ...\n",
      "Cloning project trafaret ...\n",
      "Cloning project lp-diet ...\n",
      "Cloning project repotoddy ...\n",
      "Cloning project minimal_flight_search ...\n",
      "Cloning project rfcat-firsttry ...\n"
     ]
    }
   ],
   "source": [
    "os.chdir(ROOT_PATH)\n",
    "\n",
    "for project in repository_projects.find({'done':False}):\n",
    "    print(\"Cloning project\", project['name'], \"...\")\n",
    "    path = ROOT_PATH + \"/\" + str(project[\"id\"])\n",
    "    if not os.path.isdir(path):\n",
    "        os.system(CLONE_COMMAND.format(project[\"git_url\"], project[\"id\"]))"
   ]
  },
  {
   "cell_type": "markdown",
   "metadata": {
    "collapsed": true
   },
   "source": [
    "En este punto tendríamos clonados todos los repositorios con los que construiremos el sistema de recomendación.\n",
    "\n",
    "**NOTA**: Son muchos, muchos gigabytes."
   ]
  },
  {
   "cell_type": "markdown",
   "metadata": {},
   "source": [
    "## Procesamiento de los proyectos clonados"
   ]
  },
  {
   "cell_type": "markdown",
   "metadata": {
    "collapsed": true
   },
   "source": [
    "Comenzamos esta etapa definiendo una función que dado un fichero python (extensión **.py**), lo recorre linea por linea y, usando expresiones regulares, buscamos todas las librerias que se estén usando.\n",
    "Almacenamos esta lista en la propiedad **library** del proyecto en cuestión."
   ]
  },
  {
   "cell_type": "code",
   "execution_count": 3,
   "metadata": {
    "collapsed": true
   },
   "outputs": [],
   "source": [
    "def process_python_file(project, file_path):\n",
    "    def add_to_list(item):\n",
    "        if not item in library:\n",
    "            library.append(item)\n",
    "\n",
    "    library = project['library']   \n",
    "    with open(file_path, 'r', encoding='utf-8') as f:\n",
    "        for line in f:\n",
    "            match = re.search(LIBRARY_PATTERN, line)\n",
    "            if match:\n",
    "                if match.group(1) != None:\n",
    "                    add_to_list(match.group(1))\n",
    "                else:\n",
    "                    add_to_list(match.group(2))\n",
    "    project['library'] = library\n",
    "    repository_projects.update({'_id': project['_id']}, {\"$set\": project}, upsert=False)"
   ]
  },
  {
   "cell_type": "markdown",
   "metadata": {},
   "source": [
    "Por otra parte, definimos también una función que dado un fichero **README** lo lea y almacena en la propiedad **readme_txt**"
   ]
  },
  {
   "cell_type": "code",
   "execution_count": 4,
   "metadata": {
    "collapsed": true
   },
   "outputs": [],
   "source": [
    "def process_readme_file(project, file_path):\n",
    "    with open(file_path, 'r') as f:\n",
    "        project['readme_txt'] = f.read()\n",
    "        repository_projects.update({'_id': project['_id']}, {\"$set\": project}, upsert=False)"
   ]
  },
  {
   "cell_type": "markdown",
   "metadata": {},
   "source": [
    "Finalmente recorremos los repositorios no procesados, como comentabamos anteriormente este proceso permite lanzarlo reiteradas veces, para cada repositorio analizamos su fichero **README** y cada uno de los ficheros Python para extraer las librerías."
   ]
  },
  {
   "cell_type": "code",
   "execution_count": 12,
   "metadata": {},
   "outputs": [
    {
     "name": "stdout",
     "output_type": "stream",
     "text": [
      "Processing project  defcon25-public\n",
      "Processing project  isf\n",
      "Processing project  MachineLearningAction\n",
      "Processing project  Deep-Image-Matting\n",
      "Processing project  visimportance\n",
      "Processing project  TWindbg\n",
      "Processing project  vulcan\n",
      "Processing project  WAF_Bypass_Helper\n",
      "Processing project  programmable-agents_tensorflow\n",
      "Processing project  django_rest_example\n",
      "Processing project  keras-transform\n",
      "Processing project  SkySpyWatch\n",
      "Processing project  QQ_zone\n",
      "Processing project  pypaperbak\n",
      "Processing project  Imports-in-Python\n",
      "Processing project  OSINT-SPY\n",
      "Processing project  kinetics-i3d\n",
      "Processing project  cifar-10-cnn\n",
      "Processing project  solving-minesweeper-by-tensorflow\n",
      "Processing project  webcrawler\n",
      "Processing project  parseNTFS\n",
      "Processing project  neural_factorization_machine\n",
      "Processing project  attentional_factorization_machine\n",
      "Processing project  ChatGirl\n",
      "Processing project  pytorch-fitmodule\n",
      "Processing project  Semantic_Segmentation\n",
      "Processing project  captcha-svm\n",
      "Processing project  trafaret\n",
      "Processing project  lp-diet\n",
      "Processing project  repotoddy\n",
      "Processing project  minimal_flight_search\n",
      "Processing project  rfcat-firsttry\n"
     ]
    }
   ],
   "source": [
    "for project in repository_projects.find({'done':False}):\n",
    "    try:\n",
    "        path = ROOT_PATH.format(project[\"id\"])\n",
    "        if os.path.isdir(path):\n",
    "            print(\"Processing project \", project[\"name\"])\n",
    "            project['done'] = True\n",
    "            repository_projects.update({'_id': project['_id']}, {\"$set\": project}, upsert=False)\n",
    "            for root, dirs, files in os.walk(path):\n",
    "                for file in files:\n",
    "                    try:\n",
    "                        if file.endswith(FILE_LANGUAGE_EXTENSION):\n",
    "                            process_python_file(project, os.path.join(root, file))\n",
    "                        else:\n",
    "                            if file.lower().startswith(\"readme.\"):\n",
    "                                process_readme_file(project, os.path.join(root, file))\n",
    "                    except:\n",
    "                        pass\n",
    "    except:\n",
    "        print(\"Error procesing project {0} [{1}] - {2}\".format(project['id'], project['name'], sys.exc_info()[0]))"
   ]
  },
  {
   "cell_type": "markdown",
   "metadata": {},
   "source": [
    "# Procesamiento de los datos"
   ]
  },
  {
   "cell_type": "markdown",
   "metadata": {},
   "source": [
    "Tras la fase anterior, tendríamos una colección MongoDB con cada uno de los proyectos de nuestro \"pre-corpus\" con la lista de librerías que cada proyecto usa, así como su descripción **\"extendida\"** extraída de su fichero **README**. Estaríamos en disposición por tanto de comenzar la implementación de nuestro recomendador.\n",
    "\n",
    "Vamos a implementar dos versiones del recomendador, una que buscará similitudes basándose en las descripciones de los proyectos y otra que se basará en las librerías que cada proyecto usa para determinar proyectos similares.\n",
    "Para la primera de las opciones se usará un modelo **LSA** (Latent Semantic Analysis) usando procesamiento de lenguaje natural, para la segunda se usará un simple **\"Count Vectorizer\"**, dado que la aproximación anterior no es adecuada para documentos con pocos términos, en nuestro caso un documento sería el listado de las librerías usadas.\n"
   ]
  },
  {
   "cell_type": "markdown",
   "metadata": {},
   "source": [
    "## Carga de los datos\n"
   ]
  },
  {
   "cell_type": "markdown",
   "metadata": {
    "collapsed": true
   },
   "source": [
    "Comenzamos importando las librerías que vamos a usar en esta fase del proyecto."
   ]
  },
  {
   "cell_type": "code",
   "execution_count": 2,
   "metadata": {},
   "outputs": [],
   "source": [
    "import os\n",
    "import uuid\n",
    "import re\n",
    "import nltk\n",
    "import json\n",
    "import itertools\n",
    "import numpy as np\n",
    "import matplotlib.pyplot as plt\n",
    "from pymongo import MongoClient\n",
    "from collections import defaultdict\n",
    "from collections import OrderedDict\n",
    "from nltk.tokenize import RegexpTokenizer\n",
    "from nltk.corpus import stopwords\n",
    "from nltk.stem import SnowballStemmer\n",
    "from gensim import corpora, models, similarities, matutils\n",
    "from gensim.models import CoherenceModel"
   ]
  },
  {
   "cell_type": "markdown",
   "metadata": {},
   "source": [
    "Definimos una funcion para cargar los datos de los proyectos, entre los datos a cargar está el fichero **readme** y las librerías usadas, datos que serán los que usemos para calcular las similitudes entre los proyectos."
   ]
  },
  {
   "cell_type": "code",
   "execution_count": 14,
   "metadata": {
    "collapsed": true
   },
   "outputs": [],
   "source": [
    "def load_projects(max_projects=50000):\n",
    "    def get_repository():\n",
    "        client = MongoClient('localhost', 27017)\n",
    "        db = client.github\n",
    "        return db.projects\n",
    "    projects_repository = get_repository()\n",
    "    return list(projects_repository.find({'done': True}).limit(max_projects))"
   ]
  },
  {
   "cell_type": "markdown",
   "metadata": {},
   "source": [
    "Usando la funcíon anterior cargamos los datos, dado que el proceso es bastante pesado solo cargaremos un subconjunto de las mismas"
   ]
  },
  {
   "cell_type": "code",
   "execution_count": 15,
   "metadata": {},
   "outputs": [],
   "source": [
    "projects = load_projects(100)"
   ]
  },
  {
   "cell_type": "markdown",
   "metadata": {},
   "source": [
    "A modo de ejemplo, mostramos las primeras 5 librerías de uno de los proyectos"
   ]
  },
  {
   "cell_type": "code",
   "execution_count": 16,
   "metadata": {},
   "outputs": [
    {
     "data": {
      "text/plain": [
       "['sys', 'os', 'json', 'codecs', 'shutil']"
      ]
     },
     "execution_count": 16,
     "metadata": {},
     "output_type": "execute_result"
    }
   ],
   "source": [
    "projects[0]['library'][:5]"
   ]
  },
  {
   "cell_type": "markdown",
   "metadata": {},
   "source": [
    "Y una parte del contenido del fichero README"
   ]
  },
  {
   "cell_type": "code",
   "execution_count": 78,
   "metadata": {},
   "outputs": [
    {
     "data": {
      "text/plain": [
       "\"Glue\\n====\\n\\n.. image:: https://badge.fury.io/py/glue.png\\n    :target: http://badge.fury.io/py/glue\\n\\n.. image:: https://travis-ci.org/jorgebastida/glue.png?branch=master\\n    :target: https://travis-ci.org/jorgebastida/glue\\n\\n.. image:: https://coveralls.io/repos/jorgebastida/glue/badge.png?branch=master\\n    :target: https://coveralls.io/r/jorgebastida/glue?branch=master\\n\\n.. image:: https://pypip.in/d/glue/badge.png\\n    :target: https://crate.io/packages/glue/\\n\\n\\nGlue is a simple command line tool to generate sprites::\\n\\n    $ glue source output\\n\\n* The latest documentation is available at: http://glue.readthedocs.org\\n* Installation instructions: http://glue.readthedocs.org/en/latest/installation.html\\n* Glue-users mailing list: https://groups.google.com/forum/#!forum/glue-users\\n\\nFeatures\\n--------\\n* Automatic Sprite (Image + Metadata) creation including:\\n\\n  - css (less, scss)\\n  - cocos2d\\n  - json (array, hash)\\n  - CAAT\\n\\n* Automatic multi-dpi `retina <http://glue.readthedocs.org/en/latest/ratios.html>`_ sprite creation.\\n* Support for multi-sprite projects.\\n* Create sprites from multiple folders (recursively).\\n* Multiple `algorithms <http://glue.readthedocs.org/en/latest/options.html#a-algorithm>`_ available.\\n* Automatic `crop of unnecessary transparent borders <http://glue.readthedocs.org/en/latest/quickstart.html#crop-unnecessary-transparent-spaces>`_ around source images.\\n* Configurable `paddings and margin per image, sprite or project <http://glue.readthedocs.org/en/latest/paddings.html>`_.\\n* Watch option to keep glue running watching for file changes.\\n* Project-, Sprite- and Image-level configuration via static config files.\\n* Customizable `output <http://glue.readthedocs.org/en/latest/options.html#global-template>`_ using jinja templates.\\n* CSS: Optional .less/.scss output format.\\n* CSS: Configurable `cache busting for sprite images <http://glue.readthedocs.org/en/latest/options.html#cachebuster>`_.\\n* CSS: Customizable `class names <http://glue.readthedocs.org/en/latest/options.html#separator>`_.\\n* Python ``2.6``, ``2.7`` and ``3.3+`` supported.\\n* Really `well tested <https://coveralls.io/r/jorgebastida/glue?branch=master>`_.\\n\\nExample\\n-------\\nUsing the gorgeous `famfamfam icons <http://www.famfamfam.com/lab/icons/silk/>`_ (4.2Mb) you will get\\nthe following ``icons.png`` (401Kb).\\n\\n.. image:: https://github.com/jorgebastida/glue/raw/master/docs/img/famfamfam1.png\\n\\n\\nAnd also an ``icons.css`` with all the necessary CSS classes for this sprite::\\n\\n    .sprite-icons-zoom_out{ background:url('icons.png'); top:0; left:0; no-repeat;}\\n    .sprite-icons-zoom_in{ background:url('icons.png'); top:0; left:-16; no-repeat;}\\n    .sprite-icons-zoom{ background:url('icons.png'); top:-16; left:0; no-repeat;}\\n    .sprite-icons-xhtml_valid{ background:url('icons.png'); top:-16; left:-16; no-repeat;}\\n    ...\\n\\n\\nDo you want to know more? Visit the quickstart guide: http://glue.readthedocs.org/en/latest/quickstart.html\\n\\nContribute\\n-----------\\n\\n* Fork the repository on GitHub to start making your changes to the master branch (or branch off of it).\\n* Write a test which shows that the bug was fixed or that the feature works as expected.\\n\\n  - Use ``python setup.py test``\\n\\n* Send a pull request and bug the maintainer until it gets merged and published. :) Make sure to add yourself to AUTHORS.\\n\\n\\nIs your company using glue?\\n---------------------------\\nWe are creating a list of companies using glue in production. If your company use ``glue``, please send `me <mailto:me@jorgebastida.com>`_ an email or send me a message to `@jorgebastida <https://twitter.com/jorgebastida>`_ . I would really appreciate it.\\n\\n\\nWe need your help\\n------------------\\n\\nThere are several features that ``glue`` users would love to have... but they require a substancial amount of work and dedication, so we are looking for feature-sponsors! If you want to lead the development/testing of any of the following features, please contact `Jorge Bastida <mailto:me@jorgebastida.com>`_.\\n\\nHere you have some examples:\\n\\n* Windows support (I'm not a Windows user, ``glue`` needs somebody who care about how ``glue`` works on Windows and write down some installation instructions).\\n* Cocos2d Format (Already exists, but we need somebody to give it some love).\\n* New Formats (After 0.9, ``glue`` is ready to accept new output formats - If you want to create a new format, contact me).\\n* Binary packaging for OSX and Windows (For some users it would be really cool if they were able to download an already packaged binary version).\\n\""
      ]
     },
     "execution_count": 78,
     "metadata": {},
     "output_type": "execute_result"
    }
   ],
   "source": [
    "projects[0]['readme_txt'][:5000]"
   ]
  },
  {
   "cell_type": "markdown",
   "metadata": {},
   "source": [
    "## Preprocesamiento de los datos"
   ]
  },
  {
   "cell_type": "markdown",
   "metadata": {},
   "source": [
    "### Descripciones\n",
    " \n",
    "En primer lugar, procesamos las descripciones, quedándonos con las palabras diferentes que encontramos en cada una de ellas, eliminamos puntuaciones, números y palabras irrelevantes como nombres personales y palabras comunes que no aportan significado (denominados \"stop words\"). Esto evitará que se formen tópicos en torno a ellos\n",
    "\n",
    "Además, utilizamos el stemmer Snowball, también llamado Porter2 stemmer, para detectar palabras similares presentes en diferentes formatos (eliminar sufijo, prefijo, etc.). Snowball es un lenguaje desarrollado por M.F. Porter, para definir de forma eficiente stemmers. Este algoritmo de derivación es el más utilizado en el dominio del procesamiento del lenguaje natural.\n",
    "\n",
    "Para hacer el procesamiento usaremos la librería nltk (Natural Language Toolkit), proporciona un gran número de métodos que cubren diferentes temas en el dominio de los datos del lenguaje humano, como la clasificación, derivación, etiquetado, análisis y razonamiento semántico.\n",
    "\n",
    "\n"
   ]
  },
  {
   "cell_type": "code",
   "execution_count": 18,
   "metadata": {},
   "outputs": [],
   "source": [
    "tokenizer = RegexpTokenizer(r'\\w+')\n",
    "stop_words = set(stopwords.words('english'))\n",
    "stemmer = SnowballStemmer(\"english\")"
   ]
  },
  {
   "cell_type": "markdown",
   "metadata": {},
   "source": [
    "Creamos una función que dado un texto lo descompone en las palabras con significado que lo componen. Vamos a excluir los siguientes tipos de palabras:\n",
    "\n",
    "- Nombres propios\n",
    "- Palabras consideradas como \"Stop Words\"\n",
    "- Números\n",
    "\n",
    "Adicionalmente aplicamos el proceso de \"steamming\" que comentabamos anteriormente"
   ]
  },
  {
   "cell_type": "code",
   "execution_count": 19,
   "metadata": {
    "collapsed": true
   },
   "outputs": [],
   "source": [
    "def get_words(text):\n",
    "    def add_word(word):\n",
    "        word = word.lower()\n",
    "        if word not in stop_words and not word.replace('.', '').isdigit():\n",
    "            words.append(stemmer.stem(word))\n",
    "\n",
    "    words = []\n",
    "    for chunk in nltk.ne_chunk(nltk.pos_tag(tokenizer.tokenize(text))):\n",
    "        # nltk.word_tokenize    devuelve la lista de palabras que forman la frase (tokenización)\n",
    "        # nltk.pos_tag          devuelve el part of speech (categoría) correspondiente a la palabra introducida\n",
    "        # nltk.ne_chunk         devuelve la etiqueta correspondiente al part of speech (POC)\n",
    "        try:\n",
    "            if chunk.label() == 'PERSON':\n",
    "                # PERSON es un POC asociado a los nombres propios, los cuales no vamos a añadir\n",
    "                pass\n",
    "            else:\n",
    "                for c in chunk.leaves():\n",
    "                    add_word(c[0])\n",
    "        except AttributeError:\n",
    "            add_word(chunk[0])\n",
    "\n",
    "    return words"
   ]
  },
  {
   "cell_type": "markdown",
   "metadata": {},
   "source": [
    "Creamos una función que aplica la función anterior a los resúmenes de todos los proyectos."
   ]
  },
  {
   "cell_type": "code",
   "execution_count": 20,
   "metadata": {
    "collapsed": true
   },
   "outputs": [],
   "source": [
    "def get_texts_from_readme(projects):\n",
    "    texts = []\n",
    "    [texts.append(get_words(project['readme_txt'])) for project in projects]\n",
    "    return texts"
   ]
  },
  {
   "cell_type": "markdown",
   "metadata": {},
   "source": [
    "Finalmente ejecutamos la función que acabamos de definir, tendremos una lista de listas, en la que para cada proyecto tendremos las palabras que lo definen."
   ]
  },
  {
   "cell_type": "code",
   "execution_count": 21,
   "metadata": {},
   "outputs": [],
   "source": [
    "texts_from_readme = get_texts_from_readme(projects)"
   ]
  },
  {
   "cell_type": "markdown",
   "metadata": {},
   "source": [
    "A modo de ejemplo, mostramos las 5 primeras entradas de uno de los proyectos."
   ]
  },
  {
   "cell_type": "code",
   "execution_count": 22,
   "metadata": {},
   "outputs": [
    {
     "data": {
      "text/plain": [
       "['glue', 'imag', 'https', 'badg', 'furi']"
      ]
     },
     "execution_count": 22,
     "metadata": {},
     "output_type": "execute_result"
    }
   ],
   "source": [
    "texts_from_readme[0][:5]"
   ]
  },
  {
   "cell_type": "markdown",
   "metadata": {},
   "source": [
    "### Librerías\n",
    " \n",
    "Las librerías también las vamos a \"limpiar\", este proceso lo podríamos haber hecho cuando cargamos los datos desde los proyectos clonados, pero he preferido hacerlo en un paso adicional para dejar ese proceso lo más simple posible. Por otro lado es posible que con más conocimiento del dominio, pudisen surgir otras posibles mejoras de cara a mejorar la calidad de los datos. "
   ]
  },
  {
   "cell_type": "markdown",
   "metadata": {},
   "source": [
    "En principio solo vamos a excluir las librerías cuyo nombre empieza por \".\", esto es un atajo que le dice al interprete de Python que busque en el paquete actual antes del resto de paths del PYTHONPATH. "
   ]
  },
  {
   "cell_type": "code",
   "execution_count": 23,
   "metadata": {
    "collapsed": true
   },
   "outputs": [],
   "source": [
    "for project in projects:\n",
    "    project['library'] = [library for library in project['library'] if not library.startswith('.')]"
   ]
  },
  {
   "cell_type": "markdown",
   "metadata": {},
   "source": [
    "."
   ]
  },
  {
   "cell_type": "markdown",
   "metadata": {},
   "source": [
    "<span style=\"color: #12297c; font-family: Arial; font-size: 3em;\">Implementación de modelos</span>"
   ]
  },
  {
   "cell_type": "markdown",
   "metadata": {},
   "source": [
    "# Modelo LSA: Latent Semantic Analysis"
   ]
  },
  {
   "cell_type": "markdown",
   "metadata": {},
   "source": [
    "## Principios teóricos"
   ]
  },
  {
   "cell_type": "markdown",
   "metadata": {},
   "source": [
    "Para identificar la similitud entre los proyectos basándonos en su descripción, entendiéndose como tal su fichero README, utilizamos el \"análisis semántico latente\" (LSA, usando la abreviatura en inglés), que es una técnica ampliamente utilizada en el procesamiento del lenguaje natural. LSA transforma cada texto en un vector, en un espacio de características. En nuestro caso, las características son palabras que ocurren en las descripciones. A continuación, se crea una matriz que contiene todos los vectores: las columnas representan las descripciones de los proyectos y las filas representan palabras únicas. Por consiguiente, el número de filas puede ascender a decenas de miles de palabras. \n",
    "\n",
    "Con el fin de identificar las características relevantes de esta matriz, usaremos la \"descomposición de valores singulares\" (SVD, usando la abreviatura en inglés), que es una técnica de reducción de dimensión, se utiliza para reducir el número de líneas -palabras-, manteniendo y resaltando la similitud entre columnas-descripción -. La dimensión de esta matriz de aproximación se establece mediante un hiperparámetro que es el número de temas, comúnmente llamado como tópicos. En este marco, un tópico consiste en un conjunto de palabras con pesos asociados que definen la contribución de cada palabra a la dirección de este tópico. Basándose en esta matriz de aproximación de baja dimensión, la similitud entre dos columnas -descripciones- se calcula utilizando el coseno del ángulo entre estos dos vectores.\n"
   ]
  },
  {
   "cell_type": "markdown",
   "metadata": {},
   "source": [
    "## Creación del diccionario\n",
    " \n",
    "El diccionario está formado por la concatenación de todas las palabras que aparecen en algún resumen de alguno de los proyectos. Básicamente esta función mapea cada palabra única con su identificador. Es decir, si tenemos N palabras, lo que conseguiremos al final es que cada proyecto sea representada mediante un vector en un espacio de N dimensiones.\n",
    " \n",
    "Para ello, partiendo de la lista creada en el paso anterior, usaremos la función **corpora** del paquete **gensim**.\n",
    "\n",
    "El diccionario consiste en una concatenación de palabras únicas de todas las descripciones. Gensim es una biblioteca eficiente para analizar la similitud semántica latente entre documentos.\n",
    "Este módulo implementa el concepto de Diccionario - un mapeo entre palabras y\n",
    "sus entes ids.\n",
    "\n",
    "Los diccionarios pueden ser creados a partir de un corpus y luego pueden ver las frecuencia del documento (eliminación de palabras comunes mediante el método func: `Dictionary.filter_extremes`), guardado / cargado desde el disco (vía: func: `Dictionary.save` y: func:` Dictionary.load`), fusionado con otro diccionario (: func: `Dictionary.merge_with`) etc."
   ]
  },
  {
   "cell_type": "code",
   "execution_count": 24,
   "metadata": {},
   "outputs": [
    {
     "data": {
      "text/plain": [
       "<gensim.corpora.dictionary.Dictionary at 0x12d59ec1240>"
      ]
     },
     "execution_count": 24,
     "metadata": {},
     "output_type": "execute_result"
    }
   ],
   "source": [
    "dictionary = corpora.Dictionary(texts_from_readme)\n",
    "dictionary"
   ]
  },
  {
   "cell_type": "markdown",
   "metadata": {},
   "source": [
    "Podemos ver la longitud del diccionario creado"
   ]
  },
  {
   "cell_type": "code",
   "execution_count": 28,
   "metadata": {},
   "outputs": [
    {
     "name": "stdout",
     "output_type": "stream",
     "text": [
      "Dictionary(3050 unique tokens: ['student', 'pyside2', 'charg', 'sometim', 'outlin']...)\n"
     ]
    }
   ],
   "source": [
    "print(dictionary)"
   ]
  },
  {
   "cell_type": "markdown",
   "metadata": {},
   "source": [
    "La función **token2i** asigna palabras únicas con sus ids. En nuestro caso, la longitud del diccionario es igual a *N* palabras lo que significa que cada descripción del proyecto será representada a través de un espacio vectorial de *N* dimensiones\n",
    "\n",
    "Mostramos las primeras 10 entradas"
   ]
  },
  {
   "cell_type": "code",
   "execution_count": 29,
   "metadata": {},
   "outputs": [
    {
     "data": {
      "text/plain": [
       "[('student', 723),\n",
       " ('pyside2', 829),\n",
       " ('charg', 992),\n",
       " ('sometim', 1539),\n",
       " ('outlin', 2598),\n",
       " ('gmail_password', 1327),\n",
       " ('improv', 303),\n",
       " ('may', 377),\n",
       " ('aka', 1280),\n",
       " ('v1', 901)]"
      ]
     },
     "execution_count": 29,
     "metadata": {},
     "output_type": "execute_result"
    }
   ],
   "source": [
    "list(itertools.islice(dictionary.token2id.items(), 0, 10))"
   ]
  },
  {
   "cell_type": "markdown",
   "metadata": {},
   "source": [
    "## Creación del Corpus\n",
    "\n",
    "Crearemos un corpus con la colección de todos los resúmenes previamente pre-procesados y transformados usando el diccionario. Vamos a convertir los textos a un formato que gensim puede utilizar, esto es, una representación como bolsa de palabras (BoW). Gensim espera ser alimentado con una estructura de datos de corpus, básicamente una lista de \"sparce vectors\", estos constan de pares (id, score), donde el id es un ID numérico que se asigna al término a través de un diccionario. "
   ]
  },
  {
   "cell_type": "markdown",
   "metadata": {},
   "source": [
    "Mostramos el numero de elementos únicos que existen en los documentos (los que componen el diccionario) y el numero de textos (correspondientes a las descripciones de los proyectos)."
   ]
  },
  {
   "cell_type": "code",
   "execution_count": 30,
   "metadata": {},
   "outputs": [
    {
     "name": "stdout",
     "output_type": "stream",
     "text": [
      "Number of unique tokens: 3050\n",
      "Number of documents: 100\n"
     ]
    }
   ],
   "source": [
    "print('Number of unique tokens: %d' % len(dictionary))\n",
    "print('Number of documents: %d' % len(texts_from_readme))"
   ]
  },
  {
   "cell_type": "code",
   "execution_count": 31,
   "metadata": {
    "collapsed": true
   },
   "outputs": [],
   "source": [
    "def create_corpus(texts):\n",
    "    return [dictionary.doc2bow(text) for text in texts]"
   ]
  },
  {
   "cell_type": "code",
   "execution_count": 32,
   "metadata": {
    "collapsed": true
   },
   "outputs": [],
   "source": [
    "corpus = create_corpus(texts_from_readme)"
   ]
  },
  {
   "cell_type": "markdown",
   "metadata": {},
   "source": [
    "A modo de ejemplo, mostramos las 5 primeras entradas del primer proyecto"
   ]
  },
  {
   "cell_type": "code",
   "execution_count": 33,
   "metadata": {},
   "outputs": [
    {
     "data": {
      "text/plain": [
       "[(0, 1), (1, 2), (2, 1), (3, 1), (4, 1)]"
      ]
     },
     "execution_count": 33,
     "metadata": {},
     "output_type": "execute_result"
    }
   ],
   "source": [
    "corpus[0][:5]"
   ]
  },
  {
   "cell_type": "markdown",
   "metadata": {},
   "source": [
    "## Creación del modelo TFID\n",
    "\n",
    "Un alto peso en tf-idf se alcanza por una alta frecuencia en un Documento y una baja frecuencia en toda la colección de documentos; los pesos tienden a filtrar términos comunes. Para la creación de este corpus, vamos a usar la función **TfidfModel** del objeto **models** (perteneciente a la librería *gemsim*).\n"
   ]
  },
  {
   "cell_type": "code",
   "execution_count": 34,
   "metadata": {},
   "outputs": [
    {
     "name": "stdout",
     "output_type": "stream",
     "text": [
      "Creación del Modelo Espacio-Vector Tf-Idf\n"
     ]
    }
   ],
   "source": [
    "def create_tfidf(corpus):\n",
    "    print(\"Creación del Modelo Espacio-Vector Tf-Idf\")\n",
    "    tfidf = models.TfidfModel(corpus)\n",
    "    corpus_tfidf = tfidf[corpus]\n",
    "    return corpus_tfidf\n",
    "\n",
    "\n",
    "corpus_tfidf = create_tfidf(corpus)"
   ]
  },
  {
   "cell_type": "markdown",
   "metadata": {},
   "source": [
    "En corpus tenemos, para cada project, una lista con sus palabras y el tfidf de cada una. Mostramos las 10 primeras entradas del <primer elemento"
   ]
  },
  {
   "cell_type": "code",
   "execution_count": 72,
   "metadata": {},
   "outputs": [
    {
     "data": {
      "text/plain": [
       "[(0, 0.00998019703663961),\n",
       " (1, 0.027979188824840854),\n",
       " (2, 0.018446982275474397),\n",
       " (3, 0.024226462326885523),\n",
       " (4, 0.020580016402277544),\n",
       " (5, 0.024226462326885523),\n",
       " (6, 0.027979188824840854),\n",
       " (7, 0.006333751112031634),\n",
       " (8, 0.018446982275474397),\n",
       " (9, 0.013989594412420427)]"
      ]
     },
     "execution_count": 72,
     "metadata": {},
     "output_type": "execute_result"
    }
   ],
   "source": [
    "corpus_tfidf[0][:10]"
   ]
  },
  {
   "cell_type": "markdown",
   "metadata": {},
   "source": [
    "Si queremos saber que palabra es cada uno de estos términos podemos consultar el diccionario"
   ]
  },
  {
   "cell_type": "code",
   "execution_count": 36,
   "metadata": {},
   "outputs": [
    {
     "name": "stdout",
     "output_type": "stream",
     "text": [
      "know , start , multi\n"
     ]
    }
   ],
   "source": [
    "print(dictionary[8],\",\",dictionary[19],\",\", dictionary[88])"
   ]
  },
  {
   "cell_type": "markdown",
   "metadata": {},
   "source": [
    "## Determinación del número de topicos"
   ]
  },
  {
   "cell_type": "markdown",
   "metadata": {},
   "source": [
    "Con los elementos que tenemos hasta ahora ya estamos listos para entrenar el modelo LSI/LDA. Pero antes que nada, como dicen los anglosajones \"*el elefante en la habitación*\", **¿Cuál es el número correcto de tópicos?**\n",
    "\n",
    "LSA busca identificar un conjunto de tópicos relacionados las descripciones de los proyectos. El número de estos temas N es igual a la dimensión de la matriz de aproximación resultante de la técnica de reducción de dimensión SVD. Este número es un hiperparámetro que se debe ajustar cuidadosamente, es el resultado de la selección de los N valores singulares más grandes de la matriz del corpus tf-idf. \n",
    "\n",
    "En principio no hay una respuesta correcta o fácil para la pregunta inicial, depende tanto de los datos que tengamos como de la aplicación que queramos dar a estos datos. Por ejemplo, en ciertos casos puede ser útil tener un número pequeño de tópicos, de mara que se puedan interpretar y \"etiquetar\".\n",
    "\n"
   ]
  },
  {
   "cell_type": "markdown",
   "metadata": {},
   "source": [
    "Vamos a crear una serie de modelos variando el número de tópicos y posteriormente los evaluaremos buscando el número óptimo de tópicos."
   ]
  },
  {
   "cell_type": "code",
   "execution_count": 37,
   "metadata": {},
   "outputs": [
    {
     "name": "stdout",
     "output_type": "stream",
     "text": [
      "Training LDA(k=10)\n",
      "Training LDA(k=20)\n",
      "Training LDA(k=30)\n",
      "Training LDA(k=40)\n",
      "Training LDA(k=50)\n",
      "Training LDA(k=60)\n",
      "Training LDA(k=70)\n",
      "Training LDA(k=80)\n",
      "Training LDA(k=90)\n",
      "Training LDA(k=100)\n",
      "Training LDA(k=110)\n",
      "Training LDA(k=120)\n",
      "Training LDA(k=130)\n",
      "Training LDA(k=140)\n",
      "Training LDA(k=150)\n",
      "Training LDA(k=160)\n",
      "Training LDA(k=170)\n",
      "Training LDA(k=180)\n",
      "Training LDA(k=190)\n",
      "Training LDA(k=200)\n"
     ]
    }
   ],
   "source": [
    "trained_models = OrderedDict()\n",
    "for num_topics in range(10, 201, 10):\n",
    "    print(\"Training LDA(k=%d)\" % num_topics)\n",
    "    lda = models.LdaMulticore(\n",
    "        corpus_tfidf, id2word=dictionary, num_topics=num_topics, workers=4,\n",
    "        passes=10, iterations=100, random_state=42, \n",
    "        eval_every=None, # No evalúa la perplejidad del modelo, lleva demasiado tiempo.\n",
    "        alpha='asymmetric',  # Demuestra ser mejor que simétrico en la mayoría de los casos\n",
    "        decay=0.5, offset=64  # Mejores varlores para Hoffman paper\n",
    "    )\n",
    "    trained_models[num_topics] = lda"
   ]
  },
  {
   "cell_type": "markdown",
   "metadata": {},
   "source": [
    "Podemos mostrar uno de los modelos creados"
   ]
  },
  {
   "cell_type": "code",
   "execution_count": 38,
   "metadata": {},
   "outputs": [
    {
     "data": {
      "text/plain": [
       "<gensim.models.ldamulticore.LdaMulticore at 0x12d575d4550>"
      ]
     },
     "execution_count": 38,
     "metadata": {},
     "output_type": "execute_result"
    }
   ],
   "source": [
    "trained_models[10]"
   ]
  },
  {
   "cell_type": "markdown",
   "metadata": {},
   "source": [
    "### Evaluación usando la *Coherencia*"
   ]
  },
  {
   "cell_type": "markdown",
   "metadata": {},
   "source": [
    "Vamos a evaluar cada uno de nuestros modelos de LDA utilizando la coherencia. La **coherencia** es una medida de cuán interpretables son los topicos para los humanos. Se basa en la representación de temas como las N palabras más probables para un topico en particular. Más específicamente, dada la matriz de *topic-term* para LDA, clasificamos cada tema de pesos más altos a más bajos y luego seleccionamos los primeros N términos.\n",
    "\n",
    "La coherencia esencialmente mide cuán similares son estas palabras entre sí. Existen varios métodos para hacerlo, la mayoría de los cuales han sido explorados en el documento [\"Exploring the Space of Topic Coherence Measures\"](https://svn.aksw.org/papers/2015/WSDM_Topic_Evaluation/public.pdf). Los autores realizaron un análisis comparativo de varios métodos, correlacionándolos con juicios humanos. El método llamado coherencia \"c_v\" resultó ser el más altamente correlacionado. Este y varios de los otros métodos se han implementado en gensim.models.CoherenceModel. Usaremos esto para realizar nuestras evaluaciones.\n",
    "\n"
   ]
  },
  {
   "cell_type": "markdown",
   "metadata": {},
   "source": [
    "Recorremos la lista de modelos y obtenemos la **coherencia** de cada uno de ellos, además llevaremos un registro para determinar cual de ellos obtiene el mejor resultado."
   ]
  },
  {
   "cell_type": "code",
   "execution_count": 39,
   "metadata": {},
   "outputs": [
    {
     "name": "stdout",
     "output_type": "stream",
     "text": [
      "Topic number: 10 - Coherence: 0.6100369667801769\n",
      "Topic number: 20 - Coherence: 0.6454301249689803\n",
      "Topic number: 30 - Coherence: 0.5732946161572147\n",
      "Topic number: 40 - Coherence: 0.5819150705285903\n",
      "Topic number: 50 - Coherence: 0.5640479900317257\n",
      "Topic number: 60 - Coherence: 0.5834842772221394\n",
      "Topic number: 70 - Coherence: 0.5864665529488722\n",
      "Topic number: 80 - Coherence: 0.5843458406779152\n",
      "Topic number: 90 - Coherence: 0.5808202909323953\n",
      "Topic number: 100 - Coherence: 0.5864550314662079\n",
      "Topic number: 110 - Coherence: 0.5864629623402351\n",
      "Topic number: 120 - Coherence: 0.5840622861067865\n",
      "Topic number: 130 - Coherence: 0.5822491566269213\n",
      "Topic number: 140 - Coherence: 0.5821637170808125\n",
      "Topic number: 150 - Coherence: 0.5807192399865083\n",
      "Topic number: 160 - Coherence: 0.5791838002268871\n",
      "Topic number: 170 - Coherence: 0.5823628164466407\n",
      "Topic number: 180 - Coherence: 0.5802487571615315\n",
      "Topic number: 190 - Coherence: 0.5758066513214363\n",
      "Topic number: 200 - Coherence: 0.5789532609364118\n",
      "\n",
      "Best model has 20 topics and a coherence of 0.6454301249689803\n"
     ]
    }
   ],
   "source": [
    "best_coherence = 0\n",
    "best_coherence_key = 0\n",
    "for key, value in trained_models.items():\n",
    "    cm = CoherenceModel(model=value, texts=texts_from_readme, dictionary=dictionary, coherence='c_v')\n",
    "    actual_coherence = cm.get_coherence()\n",
    "    print(\"Topic number: {} - Coherence: {}\".format(key,actual_coherence))\n",
    "    if actual_coherence > best_coherence:\n",
    "        best_coherence = actual_coherence\n",
    "        best_coherence_key = key\n",
    "print(\"\\nBest model has {} topics and a coherence of {}\".format(best_coherence_key,best_coherence))"
   ]
  },
  {
   "cell_type": "markdown",
   "metadata": {},
   "source": [
    "La prueba nos ha dado como resultado que con **20** tópicos obtenemos los mejores resultados."
   ]
  },
  {
   "cell_type": "markdown",
   "metadata": {
    "collapsed": true
   },
   "source": [
    "Finalmente creamos constantes para los valores seleccionados.\n",
    " * **TOTAL_LSA_TOPICS**: Limita el numero de terminos, por supuesto tiene que ver con el tamaño de la muestra, mientras más proyectos tengamos mas terminos tendremos y por tanto la reduccion seria mayor, estamos clusterizando las proyectos en TOTAL_TOPICOS_LSA clusters\n",
    " \n",
    "* **SIMILARITY_THRESHOLD** Umbral de similitud que se debe superar para que dos proyectos se consideren similares (en cualquier caso, posteriormente usaremos los proyectos ordenados por similitud"
   ]
  },
  {
   "cell_type": "code",
   "execution_count": 40,
   "metadata": {
    "collapsed": true
   },
   "outputs": [],
   "source": [
    "TOTAL_LSA_TOPICS = best_coherence_key\n",
    "SIMILARITY_THRESHOLD = 0.4"
   ]
  },
  {
   "cell_type": "code",
   "execution_count": 41,
   "metadata": {},
   "outputs": [
    {
     "data": {
      "text/plain": [
       "20"
      ]
     },
     "execution_count": 41,
     "metadata": {},
     "output_type": "execute_result"
    }
   ],
   "source": [
    "TOTAL_LSA_TOPICS"
   ]
  },
  {
   "cell_type": "markdown",
   "metadata": {},
   "source": [
    "## Definición del modelo LSA"
   ]
  },
  {
   "cell_type": "markdown",
   "metadata": {},
   "source": [
    "Para ello usaremos la librería **models** que nos ofrece gensim"
   ]
  },
  {
   "cell_type": "code",
   "execution_count": 42,
   "metadata": {},
   "outputs": [],
   "source": [
    "model = models.LsiModel(corpus_tfidf, id2word=dictionary, num_topics=TOTAL_LSA_TOPICS)"
   ]
  },
  {
   "cell_type": "markdown",
   "metadata": {},
   "source": [
    "Podemos ver como influyen las palabras en la determinación de los diferentes tópicos, por ejemplo mostramos los 3 primeros tópicos"
   ]
  },
  {
   "cell_type": "code",
   "execution_count": 43,
   "metadata": {},
   "outputs": [
    {
     "name": "stdout",
     "output_type": "stream",
     "text": [
      "Topic 0:\n",
      "0.131*\"file\"\n",
      "0.121*\"softwar\"\n",
      "0.121*\"python\"\n",
      "0.120*\"django\"\n",
      "0.119*\"http\"\n",
      "0.117*\"com\"\n",
      "0.116*\"test\"\n",
      "0.116*\"instal\"\n",
      "0.112*\"https\"\n",
      "0.104*\"set\"\n",
      "\n",
      "Topic 1:\n",
      "-0.276*\"softwar\"\n",
      "0.211*\"sublim\"\n",
      "0.169*\"diff\"\n",
      "0.166*\"file\"\n",
      "0.159*\"mxunit\"\n",
      "0.138*\"mark\"\n",
      "0.138*\"text\"\n",
      "0.136*\"folder\"\n",
      "0.135*\"temporari\"\n",
      "-0.131*\"django\"\n",
      "\n",
      "Topic 2:\n",
      "-0.309*\"softwar\"\n",
      "0.218*\"django\"\n",
      "0.175*\"transifex\"\n",
      "0.148*\"heroku\"\n",
      "-0.142*\"kbd\"\n",
      "-0.135*\"sublim\"\n",
      "0.126*\"app\"\n",
      "-0.120*\"jenkinsapi\"\n",
      "0.107*\"manag\"\n",
      "-0.105*\"replac\"\n",
      "\n"
     ]
    }
   ],
   "source": [
    "for i, topic in enumerate(model.print_topics(3)):\n",
    "    print('Topic {}:'.format(i))\n",
    "    print(topic[1].replace(' + ', '\\n'))\n",
    "    print('')"
   ]
  },
  {
   "cell_type": "markdown",
   "metadata": {},
   "source": [
    "Usando nuestro modelo LSI construimos la matriz de similitud"
   ]
  },
  {
   "cell_type": "code",
   "execution_count": 44,
   "metadata": {
    "collapsed": true
   },
   "outputs": [],
   "source": [
    "similarity_matrix = similarities.MatrixSimilarity(model[corpus_tfidf])"
   ]
  },
  {
   "cell_type": "markdown",
   "metadata": {},
   "source": [
    "Definimos la función auxiliar que dado un documento (correspondiente a la descripción de un proyecto), nos determina la lista de proyectos que superan el umbral de similitud. Para cada proyecto que supere el umbral, almacenaremos el índice dentro de la matriz de proyectos, para localizarla posteriormente, y el grado de similitud. La función nos devolverá la lista ordenada por similitud."
   ]
  },
  {
   "cell_type": "code",
   "execution_count": 45,
   "metadata": {
    "collapsed": true
   },
   "outputs": [],
   "source": [
    "def get_similarities_by_description(doc, model):\n",
    "    ''' Calcula las similitudes de un documento, expresado este como una lista de palabras'''\n",
    "    project_similarities = []\n",
    "\n",
    "    # Convertimos el documento al espacio LSI\n",
    "    vec_bow = dictionary.doc2bow(doc)\n",
    "    vec_lsi = model[vec_bow]\n",
    "\n",
    "    similarities = similarity_matrix[vec_lsi]\n",
    "    similarities = sorted(enumerate(similarities), key=lambda item: -item[1])\n",
    "\n",
    "    for sim in similarities:\n",
    "        similarity_project = int(sim[0])\n",
    "        similarity_score = sim[1]\n",
    "        if similarity_score > SIMILARITY_THRESHOLD:\n",
    "            project_similarities.append((similarity_project, similarity_score))\n",
    "\n",
    "    return (project_similarities)"
   ]
  },
  {
   "cell_type": "markdown",
   "metadata": {},
   "source": [
    "A modo de ejemplo, como prueba de concepto, vamos a determinar los proyectos similares a uno dado."
   ]
  },
  {
   "cell_type": "code",
   "execution_count": 46,
   "metadata": {},
   "outputs": [],
   "source": [
    "poc_library = ['sys', 'os', 'json', 'codecs', 'shutil','re']\n",
    "poc_readme_doc = get_words(\"works on Windows and write down some installation instructions\")\n",
    "project_similarities_by_description = get_similarities_by_description(poc_readme_doc, model)"
   ]
  },
  {
   "cell_type": "markdown",
   "metadata": {},
   "source": [
    "A continuación, mostramos los 10 proyectos más similares"
   ]
  },
  {
   "cell_type": "code",
   "execution_count": 47,
   "metadata": {},
   "outputs": [
    {
     "name": "stdout",
     "output_type": "stream",
     "text": [
      "Project: illumiprocessor: - Similarity: 0.6922912001609802\n",
      "Project: tabtabtab-nuke: - Similarity: 0.6359504461288452\n",
      "Project: heaper: - Similarity: 0.5907448530197144\n",
      "Project: script.openvpn: - Similarity: 0.5845991373062134\n",
      "Project: bombolone: - Similarity: 0.5749461650848389\n",
      "Project: pyrite: - Similarity: 0.5176742672920227\n",
      "Project: LivelierView: - Similarity: 0.4793180823326111\n",
      "Project: Website: - Similarity: 0.4740278124809265\n",
      "Project: python-package-template: - Similarity: 0.4688289761543274\n",
      "Project: lggr: - Similarity: 0.4656628668308258\n"
     ]
    }
   ],
   "source": [
    "for similarity in project_similarities_by_description[:10]:\n",
    "    print(\"Project: {0}: - Similarity: {1}\".format(projects[similarity[0]][\"name\"], similarity[1]))"
   ]
  },
  {
   "cell_type": "markdown",
   "metadata": {
    "collapsed": true
   },
   "source": [
    "El objetivo final no no es encontrar proyectos similares, sino encontrar las librerias que usan esos proyectos similares. Así pues, recorremos esos proyectos e identificamos esas librerías, descartando las que nuestro proyecto ya incluye.\n",
    "\n",
    "Creamos un diccionario donde la clave es cada libreria y el valor el scoring de esa librería, obtendremos dicho scoring sumando el scoring de similitud de cada proyecto en el que encontremos la librería"
   ]
  },
  {
   "cell_type": "markdown",
   "metadata": {},
   "source": [
    "Recorremos los 20 proyectos más similares y calculamos el scoring de cada librería usada en esos proyectos"
   ]
  },
  {
   "cell_type": "code",
   "execution_count": 48,
   "metadata": {},
   "outputs": [],
   "source": [
    "def get_library_similarities_by_description(project_similarities, proyect_libraries):\n",
    "    library_similarities=defaultdict(float)\n",
    "    for project in project_similarities[:20]:\n",
    "        similarity = project[1]\n",
    "        libraries = projects[project[0]][\"library\"]\n",
    "        for library in libraries:\n",
    "            if library not in proyect_libraries:\n",
    "                library_similarities[library] += similarity\n",
    "    return library_similarities"
   ]
  },
  {
   "cell_type": "code",
   "execution_count": 49,
   "metadata": {},
   "outputs": [],
   "source": [
    "library_similarities_by_description = get_library_similarities_by_description(project_similarities_by_description, poc_library)"
   ]
  },
  {
   "cell_type": "markdown",
   "metadata": {},
   "source": [
    "Mostramos las 10 librerías más usadas por los proyectos similares"
   ]
  },
  {
   "cell_type": "code",
   "execution_count": 50,
   "metadata": {},
   "outputs": [
    {
     "name": "stdout",
     "output_type": "stream",
     "text": [
      "Library: time: - Score: 4.376614987850189\n",
      "Library: subprocess: - Score: 3.041726052761078\n",
      "Library: threading: - Score: 2.844213992357254\n",
      "Library: datetime: - Score: 2.7599836587905884\n",
      "Library: hashlib: - Score: 2.7482431530952454\n",
      "Library: string: - Score: 2.6761107742786407\n",
      "Library: logging: - Score: 2.559393733739853\n",
      "Library: distutils.core: - Score: 2.5026374757289886\n",
      "Library: optparse: - Score: 2.1378364861011505\n",
      "Library: struct: - Score: 1.946576565504074\n"
     ]
    }
   ],
   "source": [
    "for library in sorted(library_similarities_by_description, key=library_similarities_by_description.get, reverse=True)[:10]:\n",
    "    print(\"Library: {0}: - Score: {1}\".format(library, library_similarities_by_description[library]))"
   ]
  },
  {
   "cell_type": "markdown",
   "metadata": {},
   "source": [
    "# Modelo CountVectorizer"
   ]
  },
  {
   "cell_type": "markdown",
   "metadata": {
    "collapsed": true
   },
   "source": [
    "Otro acercamiento que podemos realizar es usar como nivel de similitud las propias librerías que un proyecto usa, es decir buscaremos proyectos que usen las mismas librerías que nosotros ya estamos usando y mostraremos otras librerias que esos mismos proyectos estén usando y nuestro proyecto no."
   ]
  },
  {
   "cell_type": "markdown",
   "metadata": {},
   "source": [
    "<span style=\"color: red; font-family: Arial; font-size: 2em;\">TO-DO: Explicar porque no es conveniente usar la técnica anterior con documentos tan cortos</span>"
   ]
  },
  {
   "cell_type": "code",
   "execution_count": 51,
   "metadata": {
    "collapsed": true
   },
   "outputs": [],
   "source": [
    "import scipy as sp\n",
    "from sklearn.feature_extraction.text import CountVectorizer"
   ]
  },
  {
   "cell_type": "markdown",
   "metadata": {},
   "source": [
    "El modelo que construiremos necesita como entrada textos, así que transformamos nuestras listas de palabras en textos, en los que las librerías estarán separados por espacios."
   ]
  },
  {
   "cell_type": "code",
   "execution_count": 52,
   "metadata": {},
   "outputs": [],
   "source": [
    "global_texts = [\" \".join(project['library']) for project in projects]"
   ]
  },
  {
   "cell_type": "markdown",
   "metadata": {},
   "source": [
    "Usaremos un objeto de **CountVectorizer**, el cual convierte una colección de documentos de texto en una matriz de conteos de tokens. \n",
    "\n",
    "Useremos el parámetro **min_df** con el valor **2**,  denomina comunmente como **corte**, esto hará que al construir el vocabulario, ignorará los términos que tienen una frecuencia de documento más baja que el umbral dado"
   ]
  },
  {
   "cell_type": "code",
   "execution_count": 53,
   "metadata": {
    "collapsed": true
   },
   "outputs": [],
   "source": [
    "countVectorizer = CountVectorizer(min_df=1)"
   ]
  },
  {
   "cell_type": "markdown",
   "metadata": {},
   "source": [
    "Usando el objeto creado, realizamos la transformación de nuestros datos"
   ]
  },
  {
   "cell_type": "code",
   "execution_count": 54,
   "metadata": {
    "collapsed": true
   },
   "outputs": [],
   "source": [
    "X_train_data = countVectorizer.fit_transform(global_texts)"
   ]
  },
  {
   "cell_type": "markdown",
   "metadata": {},
   "source": [
    "A continuación definimos una función que usando los datos anteriores, el objeto countVectorizer y una lista de librerias, calcula la distancia coseno con cada una de las listas de librerias de los proyectos objeto de estudio. La **distancia coseno**  no es propiamente una distancia sino una medida de similaridad entre dos vectores en un espacio que tiene definido un producto interior. "
   ]
  },
  {
   "cell_type": "code",
   "execution_count": 55,
   "metadata": {
    "collapsed": true
   },
   "outputs": [],
   "source": [
    "def get_similarities_by_library(X_train, libraries, countVectorizer):\n",
    "    def cos_distance(v1, v2):\n",
    "        return 1 - (v1 * v2.transpose()).sum() / (sp.linalg.norm(v1.toarray()) * sp.linalg.norm(v2.toarray()))\n",
    "    \n",
    "    new_doc = \" \".join(libraries)\n",
    "    new_doc_vectorized = countVectorizer.transform([new_doc])[0]\n",
    "    library_similarities = defaultdict(float)\n",
    "    for i, doc_vec in enumerate(X_train):\n",
    "        library_similarities[i] = 1 - cos_distance(doc_vec, new_doc_vectorized)\n",
    "    return library_similarities"
   ]
  },
  {
   "cell_type": "markdown",
   "metadata": {},
   "source": [
    "Vamos a realizar una prueba de concepto usando una lista de librerias."
   ]
  },
  {
   "cell_type": "code",
   "execution_count": 56,
   "metadata": {},
   "outputs": [],
   "source": [
    "project_similarities_by_library = get_similarities_by_library(X_train_data, poc_library, countVectorizer)"
   ]
  },
  {
   "cell_type": "markdown",
   "metadata": {},
   "source": [
    "Como hicimos con el análisis por descripciones, podemos mostrar los proyectos ordenados por similitud"
   ]
  },
  {
   "cell_type": "code",
   "execution_count": 57,
   "metadata": {},
   "outputs": [
    {
     "name": "stdout",
     "output_type": "stream",
     "text": [
      "Project: sublime-text-2-mxunit: - Similarity: 0.5773502691896258\n",
      "Project: Sublime-Text-2-Goto-CSS-Declaration: - Similarity: nan\n",
      "Project: tabtabtab-nuke: - Similarity: 0.5773502691896258\n",
      "Project: tingdownload: - Similarity: 0.5270462766947299\n",
      "Project: python-phabricator: - Similarity: 0.4714045207910318\n",
      "Project: weather-cli: - Similarity: 0.4714045207910318\n",
      "Project: python-transifex: - Similarity: 0.4682929057908469\n",
      "Project: SublimeStringEncode: - Similarity: 0.4629100498862757\n",
      "Project: DefVectors: - Similarity: 0.45291081365783836\n",
      "Project: SublimeFileDiffs: - Similarity: 0.40824829046386313\n"
     ]
    }
   ],
   "source": [
    "for project_id in sorted(project_similarities_by_library, key=project_similarities_by_library.get, reverse=True)[:10]:\n",
    "     print(\"Project: {0}: - Similarity: {1}\".format(projects[project_id][\"name\"], project_similarities_by_library[project_id]))"
   ]
  },
  {
   "cell_type": "markdown",
   "metadata": {},
   "source": [
    "Aunque como ya dijimos entonces, el objetivo es recomendar librerías, no proyectos. Para ello definimos una función que dada la lista anterior, nos muestra la lista de las librerías más usadas."
   ]
  },
  {
   "cell_type": "code",
   "execution_count": 58,
   "metadata": {
    "collapsed": true
   },
   "outputs": [],
   "source": [
    "def get_library_similarities_by_libraries(project_similarities, project_libraries):\n",
    "    library_similarities=defaultdict(float)\n",
    "    for project_id in sorted(project_similarities, key=project_similarities.get, reverse=True)[:10]:\n",
    "        similarity = project_similarities[project_id]\n",
    "        libraries = projects[project_id][\"library\"]\n",
    "        for library in libraries:\n",
    "            if library not in project_libraries:\n",
    "                library_similarities[library] += similarity\n",
    "    return library_similarities"
   ]
  },
  {
   "cell_type": "markdown",
   "metadata": {},
   "source": [
    "Y la invocamos con nuestra lista de proyectos"
   ]
  },
  {
   "cell_type": "code",
   "execution_count": 59,
   "metadata": {},
   "outputs": [],
   "source": [
    "library_similarities_by_libraries = get_library_similarities_by_libraries(project_similarities_by_library, poc_library)"
   ]
  },
  {
   "cell_type": "markdown",
   "metadata": {},
   "source": [
    "Finalmente mostramos el resultado"
   ]
  },
  {
   "cell_type": "code",
   "execution_count": 60,
   "metadata": {},
   "outputs": [
    {
     "name": "stdout",
     "output_type": "stream",
     "text": [
      "Library: sublime: - Score: 1.4485086095397648\n",
      "Library: sublime_plugin: - Score: 1.4485086095397648\n",
      "Library: hashlib: - Score: 1.4026074764681544\n",
      "Library: unittest: - Score: 1.0456431749804729\n",
      "Library: urllib: - Score: 0.9984507974857617\n",
      "Library: argparse: - Score: 0.9984507974857617\n",
      "Library: logging: - Score: 0.9799570903525683\n",
      "Library: collections: - Score: 0.9428090415820636\n",
      "Library: time: - Score: 0.9243153344488702\n",
      "Library: subprocess: - Score: 0.8611591041217015\n"
     ]
    }
   ],
   "source": [
    "for library in sorted(library_similarities_by_libraries, key=library_similarities_by_libraries.get, reverse=True)[:10]:\n",
    "    print(\"Library: {0}: - Score: {1}\".format(library, library_similarities_by_libraries[library]))"
   ]
  },
  {
   "cell_type": "markdown",
   "metadata": {},
   "source": [
    "## Aplicación a un proyecto de ejemplo\n",
    "\n",
    "Para poner en práctica el sistema de recomendación vamos a usar un proyecto real almacenado en Github. En primer lugar definimos una función que dado un proyecto, lo descargue en local y aplique el mismo procesamiento que hicimos con los proyectos que componen nuestro corpus."
   ]
  },
  {
   "cell_type": "code",
   "execution_count": 61,
   "metadata": {
    "collapsed": true
   },
   "outputs": [],
   "source": [
    "def proccess_url(git_url):\n",
    "    def process_python_file(project, file_path):\n",
    "        def add_to_list(item):\n",
    "            if not item in library:\n",
    "                library.append(item)\n",
    "\n",
    "        library = project['library']\n",
    "        with open(file_path, 'r', encoding='utf-8') as f:\n",
    "            for line in f:\n",
    "                match = re.search(LIBRARY_PATTERN, line)\n",
    "                if match:\n",
    "                    if match.group(1) is not None:\n",
    "                        add_to_list(match.group(1))\n",
    "                    else:\n",
    "                        add_to_list(match.group(2))\n",
    "        project['library'] = library\n",
    "\n",
    "    def process_readme_file(project, file_path):\n",
    "        with open(file_path, 'r') as f:\n",
    "            project['readme_txt'] = f.read()\n",
    "\n",
    "    project = dict()\n",
    "    os.chdir(ROOT_PATH)\n",
    "    dir_name = uuid.uuid4().hex\n",
    "    path = ROOT_PATH + \"/\" + dir_name\n",
    "\n",
    "    if not os.path.isdir(path):\n",
    "        os.system(CLONE_COMMAND.format(git_url, dir_name))\n",
    "        project['git_url'] = git_url\n",
    "        project['library'] = []\n",
    "        for root, dirs, files in os.walk(path):\n",
    "            for file in files:\n",
    "                try:\n",
    "                    if file.endswith(\".py\"):\n",
    "                        process_python_file(project, os.path.join(root, file))\n",
    "                    else:\n",
    "                        if file.lower().startswith(\"readme.\"):\n",
    "                            process_readme_file(project, os.path.join(root, file))\n",
    "                except:\n",
    "                    pass\n",
    "\n",
    "    return project"
   ]
  },
  {
   "cell_type": "markdown",
   "metadata": {},
   "source": [
    "Y la invocamos con nuestro projecto de ejemplo"
   ]
  },
  {
   "cell_type": "code",
   "execution_count": 63,
   "metadata": {},
   "outputs": [],
   "source": [
    "sample_project = proccess_url(\"https://github.com/yazquez/programmable-agents_tensorflow.git\")"
   ]
  },
  {
   "cell_type": "markdown",
   "metadata": {},
   "source": [
    "Podemos ver las librerías que está usando"
   ]
  },
  {
   "cell_type": "code",
   "execution_count": 64,
   "metadata": {},
   "outputs": [
    {
     "data": {
      "text/plain": [
       "['tensorflow',\n",
       " 'tensorflow.contrib.layers.python.layers',\n",
       " 'numpy',\n",
       " 'math',\n",
       " 'detector',\n",
       " 'program',\n",
       " 'message_passing',\n",
       " 'gym',\n",
       " 'ou_noise',\n",
       " 'critic_network',\n",
       " 'actor_network',\n",
       " 'replay_buffer',\n",
       " 'ou_noise_canonical',\n",
       " 'critic_network_canonical',\n",
       " 'actor_network_bn_canonical',\n",
       " 'replay_buffer_canonical',\n",
       " 'filter_env',\n",
       " 'ddpg',\n",
       " 'gc',\n",
       " 'filter_env_canonical',\n",
       " 'ddpg_canonical',\n",
       " 'numpy.random',\n",
       " 'collections',\n",
       " 'random',\n",
       " 'gym.envs.mujoco']"
      ]
     },
     "execution_count": 64,
     "metadata": {},
     "output_type": "execute_result"
    }
   ],
   "source": [
    "sample_project['library']"
   ]
  },
  {
   "cell_type": "markdown",
   "metadata": {},
   "source": [
    "Así como su descripción (fichero **readme**)"
   ]
  },
  {
   "cell_type": "code",
   "execution_count": 65,
   "metadata": {},
   "outputs": [
    {
     "data": {
      "text/plain": [
       "'Programmable Agents\\n====================\\n\\nTensorflow Implementation of Programmable Agents from Google Deepmind.\\n\\nImplementation is on Tensorflow r1.3.\\n\\nDDPG script is based on songrotek\\'s repo. https://github.com/songrotek/DDPG.git\\n\\nhttps://arxiv.org/abs/1706.06383\\n\\n\" The agents learn to ground the terms in this language in their environment,\\nand can generalize their behavior at test time to execute new programs that refer to\\nobjects that were not referenced during training. The agents develop disentangled\\ninterpretable representations that allow them to generalize to a wide variety of\\nzero-shot semantic tasks.\" from the paper\\n\\n![alt tag](https://github.com/jaesik817/programmable-agents_tensorflow/blob/master/figures/pa.PNG)\\n\\nEnvironment Settings\\n-----------------\\n\\nThis module uses OpenAI GYM. for installing that, please refer https://github.com/openai/gym.\\n\\nThis module uses Mujoco physics engine and mujoco_py 0.5 branch from OpenAI. For installing that, please refer https://github.com/openai/mujoco-py.\\n(`pip install mujoco-py==0.5.7`)\\n\\nFor adding this module on your gym, you need to run bellowed bash script.\\n\\n`\\nbash run_require.sh\\n`\\n\\nThen you can check followed lines are added in <python path>/dist-packeges/gym/envs/__init__.py and <python path>/dist-packages/gym/envs/mujoco/__init__.py respectively.\\n\\n\\n    register(\\n    \\n    id=\\'PA-v1\\',\\n\\n    entry_point=\\'gym.envs.mujoco:PAEnv\\',\\n\\n    max_episode_steps=50,\\n\\n    reward_threshold=-3.75,\\n    \\n    )\\n\\n\\n`\\nfrom gym.envs.mujoco.pa import PAEnv\\n`\\n\\nYou also can check two files(pa.py and pa.xml) are copyed in gym folder.\\n\\nNote that run_require.sh script adds above lines on your gym configure, thus please do not running that more than one time. \\n\\n Multiple Object Reacher\\n-----------------\\n\\nFor running programmable nets,\\n\\n`\\npython gym_ddpg.py\\n`\\n\\nFor running canonical nets,\\n\\n`\\npython gym_ddpg_canonical.py\\n`\\n\\n### Settings\\n\\nIn the environment, there are 4 objects, which are red/blue cube and sphere, respectively.\\n\\nArm has two joints for making experiment more simple than the paper\\'s one.\\n\\n![alt tag](https://github.com/jaesik817/programmable-agents_tensorflow/blob/master/figures/pa_example.PNG)\\n\\nBlue cube, red sphere and blue sphere are used for training, and red cube is used for zero-shot testing.\\n\\nThe feature (row of capital theta) is 6 (Red, Blue, White, Cube, Sphere, Hand).\\n\\nThe state dimension is 75 (5(4 objects and arm) * 15 (3/6/6 dimension are for position, feature, and feature of arm.)).\\n\\nCanonical nets are followed same topology of the paper.\\n\\n### Results\\n\\nCanonical nets showed that is not working for unseen objects as followed.\\n\\nIn this case, training case is just blue cube, and test case is red cube.\\n\\n![alt tag](https://github.com/jaesik817/programmable-agents_tensorflow/blob/master/figures/canonical_result.PNG)\\n\\nProgrammable nets showed that is working for unseen objects as followed.\\n\\nIn this case, training cases are blud cube, red/blue sphere, and test case is red cube.\\n\\n![alt tag](https://github.com/jaesik817/programmable-agents_tensorflow/blob/master/figures/pa_result.PNG)\\n \\n'"
      ]
     },
     "execution_count": 65,
     "metadata": {},
     "output_type": "execute_result"
    }
   ],
   "source": [
    "sample_project['readme_txt']"
   ]
  },
  {
   "cell_type": "markdown",
   "metadata": {},
   "source": [
    "Si recapitulamos, tenemos las siguientes funciones definidas:\n",
    "\n",
    "- **get_similarities_by_description**: Devuelve los proyectos similares en funcíon de sus descripciones\n",
    "- **get_library_similarities_by_description**: Devuelve las librerías comunes usando la lista anterior\n",
    "- **get_similarities_by_library**: Devuelve los proyectos similares en funcíon de las librerías que se usa\n",
    "- **get_library_similarities_by_libraries(project_similarities)**: Devuelve las librerías comunes usando la lista anterior\n"
   ]
  },
  {
   "cell_type": "markdown",
   "metadata": {},
   "source": [
    "Las aplicamos a nuestro proyecto de ejemplo"
   ]
  },
  {
   "cell_type": "markdown",
   "metadata": {},
   "source": [
    "Empezamos obteniendo los proyectos más similares al del ejemplo usando las descripciones y a partir de estos proyectos obtenemos las librerías"
   ]
  },
  {
   "cell_type": "code",
   "execution_count": 66,
   "metadata": {},
   "outputs": [],
   "source": [
    "readme_doc = get_words(sample_project['readme_txt'])\n",
    "project_similarities_by_description = get_similarities_by_description(poc_readme_doc, model)\n",
    "library_similarities_by_description = get_library_similarities_by_description(project_similarities_by_description, sample_project['library'])"
   ]
  },
  {
   "cell_type": "markdown",
   "metadata": {},
   "source": [
    "Mostramos los 10 proyectos más similares"
   ]
  },
  {
   "cell_type": "code",
   "execution_count": 67,
   "metadata": {},
   "outputs": [
    {
     "name": "stdout",
     "output_type": "stream",
     "text": [
      "Project: illumiprocessor: - Similarity: 0.6922912001609802\n",
      "Project: tabtabtab-nuke: - Similarity: 0.6359504461288452\n",
      "Project: heaper: - Similarity: 0.5907448530197144\n",
      "Project: script.openvpn: - Similarity: 0.5845991373062134\n",
      "Project: bombolone: - Similarity: 0.5749461650848389\n",
      "Project: pyrite: - Similarity: 0.5176742672920227\n",
      "Project: LivelierView: - Similarity: 0.4793180823326111\n",
      "Project: Website: - Similarity: 0.4740278124809265\n",
      "Project: python-package-template: - Similarity: 0.4688289761543274\n",
      "Project: lggr: - Similarity: 0.4656628668308258\n"
     ]
    }
   ],
   "source": [
    "for similarity in project_similarities_by_description[:10]:\n",
    "    print(\"Project: {0}: - Similarity: {1}\".format(projects[similarity[0]][\"name\"], similarity[1]))"
   ]
  },
  {
   "cell_type": "markdown",
   "metadata": {},
   "source": [
    "Hacemos lo mismo usando las librerías del proyecto como medida de similitud"
   ]
  },
  {
   "cell_type": "code",
   "execution_count": 68,
   "metadata": {},
   "outputs": [],
   "source": [
    "project_similarities_by_library = get_similarities_by_library(X_train_data, poc_library, countVectorizer)\n",
    "library_similarities_by_libraries = get_library_similarities_by_libraries(project_similarities_by_library, sample_project['library'])"
   ]
  },
  {
   "cell_type": "markdown",
   "metadata": {},
   "source": [
    "Mostramos los 10 proyectos más similares"
   ]
  },
  {
   "cell_type": "code",
   "execution_count": 69,
   "metadata": {},
   "outputs": [
    {
     "name": "stdout",
     "output_type": "stream",
     "text": [
      "Project: sublime-text-2-mxunit: - Similarity: 0.5773502691896258\n",
      "Project: Sublime-Text-2-Goto-CSS-Declaration: - Similarity: nan\n",
      "Project: tabtabtab-nuke: - Similarity: 0.5773502691896258\n",
      "Project: tingdownload: - Similarity: 0.5270462766947299\n",
      "Project: python-phabricator: - Similarity: 0.4714045207910318\n",
      "Project: weather-cli: - Similarity: 0.4714045207910318\n",
      "Project: python-transifex: - Similarity: 0.4682929057908469\n",
      "Project: SublimeStringEncode: - Similarity: 0.4629100498862757\n",
      "Project: DefVectors: - Similarity: 0.45291081365783836\n",
      "Project: SublimeFileDiffs: - Similarity: 0.40824829046386313\n"
     ]
    }
   ],
   "source": [
    "for project_id in sorted(project_similarities_by_library, key=project_similarities_by_library.get, reverse=True)[:10]:\n",
    "     print(\"Project: {0}: - Similarity: {1}\".format(projects[project_id][\"name\"], project_similarities_by_library[project_id]))"
   ]
  },
  {
   "cell_type": "markdown",
   "metadata": {},
   "source": [
    "Finalmente mostramos el resultado, o sea las librerías recomendadas"
   ]
  },
  {
   "cell_type": "markdown",
   "metadata": {},
   "source": [
    "**Librerías recomendadas en función de las descripciones**"
   ]
  },
  {
   "cell_type": "code",
   "execution_count": 70,
   "metadata": {},
   "outputs": [
    {
     "name": "stdout",
     "output_type": "stream",
     "text": [
      "Library: os: - Score: 7.96423065662384\n",
      "Library: sys: - Score: 6.916517972946167\n",
      "Library: re: - Score: 4.883899122476578\n",
      "Library: time: - Score: 4.376614987850189\n",
      "Library: shutil: - Score: 3.100588083267212\n",
      "Library: subprocess: - Score: 3.041726052761078\n",
      "Library: threading: - Score: 2.844213992357254\n",
      "Library: datetime: - Score: 2.7599836587905884\n",
      "Library: hashlib: - Score: 2.7482431530952454\n",
      "Library: string: - Score: 2.6761107742786407\n"
     ]
    }
   ],
   "source": [
    "for library in sorted(library_similarities_by_description, key=library_similarities_by_description.get, reverse=True)[:10]:\n",
    "    print(\"Library: {0}: - Score: {1}\".format(library, library_similarities_by_description[library]))"
   ]
  },
  {
   "cell_type": "markdown",
   "metadata": {},
   "source": [
    "**Librerías recomendadas en función de las librerías comunes**"
   ]
  },
  {
   "cell_type": "code",
   "execution_count": 71,
   "metadata": {},
   "outputs": [
    {
     "name": "stdout",
     "output_type": "stream",
     "text": [
      "Library: sys: - Score: 4.008669625991006\n",
      "Library: re: - Score: 3.839567647265243\n",
      "Library: os: - Score: 3.4826033457775614\n",
      "Library: json: - Score: 2.9784085431435416\n",
      "Library: codecs: - Score: 1.8564982866072783\n",
      "Library: sublime_plugin: - Score: 1.4485086095397648\n",
      "Library: sublime: - Score: 1.4485086095397648\n",
      "Library: hashlib: - Score: 1.4026074764681544\n",
      "Library: unittest: - Score: 1.0456431749804729\n",
      "Library: urllib: - Score: 0.9984507974857617\n"
     ]
    }
   ],
   "source": [
    "for library in sorted(library_similarities_by_libraries, key=library_similarities_by_libraries.get, reverse=True)[:10]:\n",
    "    print(\"Library: {0}: - Score: {1}\".format(library, library_similarities_by_libraries[library]))"
   ]
  },
  {
   "cell_type": "code",
   "execution_count": null,
   "metadata": {
    "collapsed": true
   },
   "outputs": [],
   "source": []
  },
  {
   "cell_type": "markdown",
   "metadata": {},
   "source": [
    "* https://github.com/RaRe-Technologies/gensim/blob/develop/docs/notebooks/lda_training_tips.ipynb\n",
    "* https://radimrehurek.com/gensim/models/coherencemodel.html\n",
    "* https://rare-technologies.com/what-is-topic-coherence/\n",
    "* https://radimrehurek.com/gensim/models/coherencemodel.html\n",
    "\n"
   ]
  },
  {
   "cell_type": "code",
   "execution_count": null,
   "metadata": {
    "collapsed": true
   },
   "outputs": [],
   "source": []
  }
 ],
 "metadata": {
  "kernelspec": {
   "display_name": "Python 3",
   "language": "python",
   "name": "python3"
  },
  "language_info": {
   "codemirror_mode": {
    "name": "ipython",
    "version": 3
   },
   "file_extension": ".py",
   "mimetype": "text/x-python",
   "name": "python",
   "nbconvert_exporter": "python",
   "pygments_lexer": "ipython3",
   "version": "3.5.1"
  }
 },
 "nbformat": 4,
 "nbformat_minor": 1
}
